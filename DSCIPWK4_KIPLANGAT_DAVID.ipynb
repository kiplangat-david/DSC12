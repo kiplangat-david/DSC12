{
  "nbformat": 4,
  "nbformat_minor": 0,
  "metadata": {
    "colab": {
      "name": "DSCIPWK4-KIPLANGAT DAVID",
      "provenance": [],
      "authorship_tag": "ABX9TyMuOGqcevlyIzeUNnT61Znd",
      "include_colab_link": true
    },
    "kernelspec": {
      "name": "python3",
      "display_name": "Python 3"
    },
    "language_info": {
      "name": "python"
    }
  },
  "cells": [
    {
      "cell_type": "markdown",
      "metadata": {
        "id": "view-in-github",
        "colab_type": "text"
      },
      "source": [
        "<a href=\"https://colab.research.google.com/github/kiplangat-david/DSC12/blob/main/DSCIPWK4_KIPLANGAT_DAVID.ipynb\" target=\"_parent\"><img src=\"https://colab.research.google.com/assets/colab-badge.svg\" alt=\"Open In Colab\"/></a>"
      ]
    },
    {
      "cell_type": "markdown",
      "metadata": {
        "id": "MqQ602XJ1PNq"
      },
      "source": [
        "# Analytic Question\n",
        "\n",
        "Is the mean of Blue Cars taken in the city of Paris(postal codes beginning with 75) equals the mean Blue cars taken in the city of Essonne(postal codes beginning with 91) during the weekends?        "
      ]
    },
    {
      "cell_type": "markdown",
      "metadata": {
        "id": "KhuMTQdY2Vyl"
      },
      "source": [
        "# Hypothesis Statement\n",
        "\n",
        "Null Hypothesis: the mean of Blue Cars taken in paris equals the mean of Blue Cars taken in Essonne during the Weekends.\n",
        "\n",
        "Ho : μ1 = μ2\n",
        "\n",
        "Alternate Hypothesis: the mean of Blue Cars taken in Paris is not equal to the mean of Blue Cars taken in Essonne during the Weekends\n",
        "\n",
        "Ha : μ1 ≠ μ2"
      ]
    },
    {
      "cell_type": "markdown",
      "metadata": {
        "id": "LaaXpNegogTY"
      },
      "source": [
        "\n",
        "# Metric for Success\n",
        "\n",
        "This project will be considered a success when we are able to perform the following tasks:\n",
        "\n",
        "(a) Define the null and alternate hypothesis.\n",
        "\n",
        "(b) Clean data\n",
        "\n",
        "(c) perform exploratory data analysis\n",
        "\n",
        "(c) Perform hypothesis testing and interpret the results.\n",
        "\n",
        "(d) Provide project summary and conclusions.\n",
        "\n",
        "# Understanding the Research Context\n",
        "\n",
        "Autolib was an electric car sharing service company in France that was operational between 2011 and 2018. The company had three types of electric cars i.e blue cars, Utilib cars and Utilib 1.4 cars. Blue cars were most popularly used. These cars were available across various cities and postal codes in France and renters could pick up cars in one station then drop them off at a different station that was closer to their destination. The dataset used in this analysis allows us to understand various elecric car usage patterns for the company. The available data contains usage information for various postal codes between January 2018 and June 2018.\n",
        "\n",
        "For this project, I decided to focus on two cities Paris (department # 75) and Essonne (department # 91). Usage rates are generally higher during the weekends therefore the analysis will focus on this time period.\n",
        "\n",
        "# Experimental Design\n",
        "Below are the steps that will be conducted in this analysis in order to fulfill the project goal satisfactorily:\n",
        "\n",
        "Load data and preview preliminary characteristics of the dataset\n",
        "Data cleaning (check for and deal with outliers, anomalies and missing data)\n",
        "Specify the null and alternate hypotheses\n",
        "Specify the sampling technique\n",
        "Perform univariate and bivariate analysis\n",
        "Perform hypothesis testing\n",
        "Discuss the hypothesis test results\n",
        "Provide project summary and conclusion\n",
        "\n",
        "\n",
        "# Data Relevance\n",
        "The dataset used in the analysis contains records of electric car usage in France from January 2018 to June 2018. This dataset was originally sourced kaggle. Some of the information in the dataset includes postal code, day of the week and total cars returned or picked up for blue cars, Utilib cars and Utilib 1.4 cars.The data available for this analysis is valid and useful towards achieving the project goal given the availability of both numeric and categorical attributes."
      ]
    },
    {
      "cell_type": "markdown",
      "metadata": {
        "id": "JHw88L0ce6wv"
      },
      "source": [
        "# **Reading Data**"
      ]
    },
    {
      "cell_type": "code",
      "metadata": {
        "id": "G2F6Uy2EdpvE"
      },
      "source": [
        "#import python relevant libraries\n",
        "import pandas as pd\n",
        "import numpy as np\n",
        "import matplotlib.pyplot as plt\n",
        "import seaborn as sns\n",
        "%matplotlib inline"
      ],
      "execution_count": 1,
      "outputs": []
    },
    {
      "cell_type": "code",
      "metadata": {
        "id": "I2S2lrAJfXMx"
      },
      "source": [
        "#load data\n",
        "df = pd.read_csv('/content/autolib_daily_events_postal_code.csv')"
      ],
      "execution_count": 2,
      "outputs": []
    },
    {
      "cell_type": "markdown",
      "metadata": {
        "id": "CQxMt6Logv85"
      },
      "source": [
        "# Check Data"
      ]
    },
    {
      "cell_type": "code",
      "metadata": {
        "colab": {
          "base_uri": "https://localhost:8080/",
          "height": 243
        },
        "id": "2-Mo2KF-f2S-",
        "outputId": "edea6df2-e019-4e64-e7fd-53951b84c0a1"
      },
      "source": [
        "#preview top five records\n",
        "df.head()"
      ],
      "execution_count": 3,
      "outputs": [
        {
          "output_type": "execute_result",
          "data": {
            "text/html": [
              "<div>\n",
              "<style scoped>\n",
              "    .dataframe tbody tr th:only-of-type {\n",
              "        vertical-align: middle;\n",
              "    }\n",
              "\n",
              "    .dataframe tbody tr th {\n",
              "        vertical-align: top;\n",
              "    }\n",
              "\n",
              "    .dataframe thead th {\n",
              "        text-align: right;\n",
              "    }\n",
              "</style>\n",
              "<table border=\"1\" class=\"dataframe\">\n",
              "  <thead>\n",
              "    <tr style=\"text-align: right;\">\n",
              "      <th></th>\n",
              "      <th>Postal code</th>\n",
              "      <th>date</th>\n",
              "      <th>n_daily_data_points</th>\n",
              "      <th>dayOfWeek</th>\n",
              "      <th>day_type</th>\n",
              "      <th>BlueCars_taken_sum</th>\n",
              "      <th>BlueCars_returned_sum</th>\n",
              "      <th>Utilib_taken_sum</th>\n",
              "      <th>Utilib_returned_sum</th>\n",
              "      <th>Utilib_14_taken_sum</th>\n",
              "      <th>Utilib_14_returned_sum</th>\n",
              "      <th>Slots_freed_sum</th>\n",
              "      <th>Slots_taken_sum</th>\n",
              "    </tr>\n",
              "  </thead>\n",
              "  <tbody>\n",
              "    <tr>\n",
              "      <th>0</th>\n",
              "      <td>75001</td>\n",
              "      <td>1/1/2018</td>\n",
              "      <td>1440</td>\n",
              "      <td>0</td>\n",
              "      <td>weekday</td>\n",
              "      <td>110</td>\n",
              "      <td>103</td>\n",
              "      <td>3</td>\n",
              "      <td>2</td>\n",
              "      <td>10</td>\n",
              "      <td>9</td>\n",
              "      <td>22</td>\n",
              "      <td>20</td>\n",
              "    </tr>\n",
              "    <tr>\n",
              "      <th>1</th>\n",
              "      <td>75001</td>\n",
              "      <td>1/2/2018</td>\n",
              "      <td>1438</td>\n",
              "      <td>1</td>\n",
              "      <td>weekday</td>\n",
              "      <td>98</td>\n",
              "      <td>94</td>\n",
              "      <td>1</td>\n",
              "      <td>1</td>\n",
              "      <td>8</td>\n",
              "      <td>8</td>\n",
              "      <td>23</td>\n",
              "      <td>22</td>\n",
              "    </tr>\n",
              "    <tr>\n",
              "      <th>2</th>\n",
              "      <td>75001</td>\n",
              "      <td>1/3/2018</td>\n",
              "      <td>1439</td>\n",
              "      <td>2</td>\n",
              "      <td>weekday</td>\n",
              "      <td>138</td>\n",
              "      <td>139</td>\n",
              "      <td>0</td>\n",
              "      <td>0</td>\n",
              "      <td>2</td>\n",
              "      <td>2</td>\n",
              "      <td>27</td>\n",
              "      <td>27</td>\n",
              "    </tr>\n",
              "    <tr>\n",
              "      <th>3</th>\n",
              "      <td>75001</td>\n",
              "      <td>1/4/2018</td>\n",
              "      <td>1320</td>\n",
              "      <td>3</td>\n",
              "      <td>weekday</td>\n",
              "      <td>104</td>\n",
              "      <td>104</td>\n",
              "      <td>2</td>\n",
              "      <td>2</td>\n",
              "      <td>9</td>\n",
              "      <td>8</td>\n",
              "      <td>25</td>\n",
              "      <td>21</td>\n",
              "    </tr>\n",
              "    <tr>\n",
              "      <th>4</th>\n",
              "      <td>75001</td>\n",
              "      <td>1/5/2018</td>\n",
              "      <td>1440</td>\n",
              "      <td>4</td>\n",
              "      <td>weekday</td>\n",
              "      <td>114</td>\n",
              "      <td>117</td>\n",
              "      <td>3</td>\n",
              "      <td>3</td>\n",
              "      <td>6</td>\n",
              "      <td>6</td>\n",
              "      <td>18</td>\n",
              "      <td>20</td>\n",
              "    </tr>\n",
              "  </tbody>\n",
              "</table>\n",
              "</div>"
            ],
            "text/plain": [
              "   Postal code      date  ...  Slots_freed_sum  Slots_taken_sum\n",
              "0        75001  1/1/2018  ...               22               20\n",
              "1        75001  1/2/2018  ...               23               22\n",
              "2        75001  1/3/2018  ...               27               27\n",
              "3        75001  1/4/2018  ...               25               21\n",
              "4        75001  1/5/2018  ...               18               20\n",
              "\n",
              "[5 rows x 13 columns]"
            ]
          },
          "metadata": {},
          "execution_count": 3
        }
      ]
    },
    {
      "cell_type": "code",
      "metadata": {
        "colab": {
          "base_uri": "https://localhost:8080/",
          "height": 243
        },
        "id": "JAt3EiQ8f-tN",
        "outputId": "43b0759c-b4aa-4294-8f6a-adacc47aacef"
      },
      "source": [
        "#preview bottom records\n",
        "df.tail()"
      ],
      "execution_count": 4,
      "outputs": [
        {
          "output_type": "execute_result",
          "data": {
            "text/html": [
              "<div>\n",
              "<style scoped>\n",
              "    .dataframe tbody tr th:only-of-type {\n",
              "        vertical-align: middle;\n",
              "    }\n",
              "\n",
              "    .dataframe tbody tr th {\n",
              "        vertical-align: top;\n",
              "    }\n",
              "\n",
              "    .dataframe thead th {\n",
              "        text-align: right;\n",
              "    }\n",
              "</style>\n",
              "<table border=\"1\" class=\"dataframe\">\n",
              "  <thead>\n",
              "    <tr style=\"text-align: right;\">\n",
              "      <th></th>\n",
              "      <th>Postal code</th>\n",
              "      <th>date</th>\n",
              "      <th>n_daily_data_points</th>\n",
              "      <th>dayOfWeek</th>\n",
              "      <th>day_type</th>\n",
              "      <th>BlueCars_taken_sum</th>\n",
              "      <th>BlueCars_returned_sum</th>\n",
              "      <th>Utilib_taken_sum</th>\n",
              "      <th>Utilib_returned_sum</th>\n",
              "      <th>Utilib_14_taken_sum</th>\n",
              "      <th>Utilib_14_returned_sum</th>\n",
              "      <th>Slots_freed_sum</th>\n",
              "      <th>Slots_taken_sum</th>\n",
              "    </tr>\n",
              "  </thead>\n",
              "  <tbody>\n",
              "    <tr>\n",
              "      <th>16080</th>\n",
              "      <td>95880</td>\n",
              "      <td>6/15/2018</td>\n",
              "      <td>1440</td>\n",
              "      <td>4</td>\n",
              "      <td>weekday</td>\n",
              "      <td>15</td>\n",
              "      <td>10</td>\n",
              "      <td>0</td>\n",
              "      <td>0</td>\n",
              "      <td>2</td>\n",
              "      <td>3</td>\n",
              "      <td>0</td>\n",
              "      <td>0</td>\n",
              "    </tr>\n",
              "    <tr>\n",
              "      <th>16081</th>\n",
              "      <td>95880</td>\n",
              "      <td>6/16/2018</td>\n",
              "      <td>1440</td>\n",
              "      <td>5</td>\n",
              "      <td>weekend</td>\n",
              "      <td>19</td>\n",
              "      <td>19</td>\n",
              "      <td>0</td>\n",
              "      <td>0</td>\n",
              "      <td>2</td>\n",
              "      <td>1</td>\n",
              "      <td>0</td>\n",
              "      <td>0</td>\n",
              "    </tr>\n",
              "    <tr>\n",
              "      <th>16082</th>\n",
              "      <td>95880</td>\n",
              "      <td>6/17/2018</td>\n",
              "      <td>1440</td>\n",
              "      <td>6</td>\n",
              "      <td>weekend</td>\n",
              "      <td>33</td>\n",
              "      <td>35</td>\n",
              "      <td>1</td>\n",
              "      <td>1</td>\n",
              "      <td>0</td>\n",
              "      <td>0</td>\n",
              "      <td>0</td>\n",
              "      <td>0</td>\n",
              "    </tr>\n",
              "    <tr>\n",
              "      <th>16083</th>\n",
              "      <td>95880</td>\n",
              "      <td>6/18/2018</td>\n",
              "      <td>1440</td>\n",
              "      <td>0</td>\n",
              "      <td>weekday</td>\n",
              "      <td>11</td>\n",
              "      <td>14</td>\n",
              "      <td>3</td>\n",
              "      <td>5</td>\n",
              "      <td>2</td>\n",
              "      <td>2</td>\n",
              "      <td>0</td>\n",
              "      <td>0</td>\n",
              "    </tr>\n",
              "    <tr>\n",
              "      <th>16084</th>\n",
              "      <td>95880</td>\n",
              "      <td>6/19/2018</td>\n",
              "      <td>1370</td>\n",
              "      <td>1</td>\n",
              "      <td>weekday</td>\n",
              "      <td>2</td>\n",
              "      <td>2</td>\n",
              "      <td>2</td>\n",
              "      <td>1</td>\n",
              "      <td>0</td>\n",
              "      <td>0</td>\n",
              "      <td>0</td>\n",
              "      <td>0</td>\n",
              "    </tr>\n",
              "  </tbody>\n",
              "</table>\n",
              "</div>"
            ],
            "text/plain": [
              "       Postal code       date  ...  Slots_freed_sum  Slots_taken_sum\n",
              "16080        95880  6/15/2018  ...                0                0\n",
              "16081        95880  6/16/2018  ...                0                0\n",
              "16082        95880  6/17/2018  ...                0                0\n",
              "16083        95880  6/18/2018  ...                0                0\n",
              "16084        95880  6/19/2018  ...                0                0\n",
              "\n",
              "[5 rows x 13 columns]"
            ]
          },
          "metadata": {},
          "execution_count": 4
        }
      ]
    },
    {
      "cell_type": "code",
      "metadata": {
        "colab": {
          "base_uri": "https://localhost:8080/",
          "height": 305
        },
        "id": "DZ3DruOXgZJI",
        "outputId": "c961c421-a507-4592-fa1a-879199a15c12"
      },
      "source": [
        "#preview random sample\n",
        "df.sample(n=7)"
      ],
      "execution_count": 5,
      "outputs": [
        {
          "output_type": "execute_result",
          "data": {
            "text/html": [
              "<div>\n",
              "<style scoped>\n",
              "    .dataframe tbody tr th:only-of-type {\n",
              "        vertical-align: middle;\n",
              "    }\n",
              "\n",
              "    .dataframe tbody tr th {\n",
              "        vertical-align: top;\n",
              "    }\n",
              "\n",
              "    .dataframe thead th {\n",
              "        text-align: right;\n",
              "    }\n",
              "</style>\n",
              "<table border=\"1\" class=\"dataframe\">\n",
              "  <thead>\n",
              "    <tr style=\"text-align: right;\">\n",
              "      <th></th>\n",
              "      <th>Postal code</th>\n",
              "      <th>date</th>\n",
              "      <th>n_daily_data_points</th>\n",
              "      <th>dayOfWeek</th>\n",
              "      <th>day_type</th>\n",
              "      <th>BlueCars_taken_sum</th>\n",
              "      <th>BlueCars_returned_sum</th>\n",
              "      <th>Utilib_taken_sum</th>\n",
              "      <th>Utilib_returned_sum</th>\n",
              "      <th>Utilib_14_taken_sum</th>\n",
              "      <th>Utilib_14_returned_sum</th>\n",
              "      <th>Slots_freed_sum</th>\n",
              "      <th>Slots_taken_sum</th>\n",
              "    </tr>\n",
              "  </thead>\n",
              "  <tbody>\n",
              "    <tr>\n",
              "      <th>5906</th>\n",
              "      <td>92190</td>\n",
              "      <td>6/1/2018</td>\n",
              "      <td>1440</td>\n",
              "      <td>4</td>\n",
              "      <td>weekday</td>\n",
              "      <td>64</td>\n",
              "      <td>58</td>\n",
              "      <td>4</td>\n",
              "      <td>2</td>\n",
              "      <td>6</td>\n",
              "      <td>5</td>\n",
              "      <td>0</td>\n",
              "      <td>0</td>\n",
              "    </tr>\n",
              "    <tr>\n",
              "      <th>4637</th>\n",
              "      <td>92100</td>\n",
              "      <td>4/29/2018</td>\n",
              "      <td>1440</td>\n",
              "      <td>6</td>\n",
              "      <td>weekend</td>\n",
              "      <td>312</td>\n",
              "      <td>313</td>\n",
              "      <td>11</td>\n",
              "      <td>11</td>\n",
              "      <td>33</td>\n",
              "      <td>31</td>\n",
              "      <td>13</td>\n",
              "      <td>13</td>\n",
              "    </tr>\n",
              "    <tr>\n",
              "      <th>9661</th>\n",
              "      <td>92700</td>\n",
              "      <td>1/7/2018</td>\n",
              "      <td>1440</td>\n",
              "      <td>6</td>\n",
              "      <td>weekend</td>\n",
              "      <td>115</td>\n",
              "      <td>121</td>\n",
              "      <td>8</td>\n",
              "      <td>10</td>\n",
              "      <td>2</td>\n",
              "      <td>4</td>\n",
              "      <td>0</td>\n",
              "      <td>0</td>\n",
              "    </tr>\n",
              "    <tr>\n",
              "      <th>2191</th>\n",
              "      <td>75015</td>\n",
              "      <td>1/8/2018</td>\n",
              "      <td>1438</td>\n",
              "      <td>0</td>\n",
              "      <td>weekday</td>\n",
              "      <td>694</td>\n",
              "      <td>728</td>\n",
              "      <td>22</td>\n",
              "      <td>22</td>\n",
              "      <td>50</td>\n",
              "      <td>52</td>\n",
              "      <td>200</td>\n",
              "      <td>209</td>\n",
              "    </tr>\n",
              "    <tr>\n",
              "      <th>1142</th>\n",
              "      <td>75008</td>\n",
              "      <td>2/20/2018</td>\n",
              "      <td>1425</td>\n",
              "      <td>1</td>\n",
              "      <td>weekday</td>\n",
              "      <td>414</td>\n",
              "      <td>399</td>\n",
              "      <td>5</td>\n",
              "      <td>5</td>\n",
              "      <td>25</td>\n",
              "      <td>24</td>\n",
              "      <td>126</td>\n",
              "      <td>126</td>\n",
              "    </tr>\n",
              "    <tr>\n",
              "      <th>15839</th>\n",
              "      <td>95870</td>\n",
              "      <td>3/11/2018</td>\n",
              "      <td>1440</td>\n",
              "      <td>6</td>\n",
              "      <td>weekend</td>\n",
              "      <td>15</td>\n",
              "      <td>17</td>\n",
              "      <td>0</td>\n",
              "      <td>0</td>\n",
              "      <td>0</td>\n",
              "      <td>0</td>\n",
              "      <td>0</td>\n",
              "      <td>0</td>\n",
              "    </tr>\n",
              "    <tr>\n",
              "      <th>13140</th>\n",
              "      <td>94100</td>\n",
              "      <td>1/18/2018</td>\n",
              "      <td>1439</td>\n",
              "      <td>3</td>\n",
              "      <td>weekday</td>\n",
              "      <td>4</td>\n",
              "      <td>3</td>\n",
              "      <td>1</td>\n",
              "      <td>1</td>\n",
              "      <td>0</td>\n",
              "      <td>0</td>\n",
              "      <td>0</td>\n",
              "      <td>0</td>\n",
              "    </tr>\n",
              "  </tbody>\n",
              "</table>\n",
              "</div>"
            ],
            "text/plain": [
              "       Postal code       date  ...  Slots_freed_sum  Slots_taken_sum\n",
              "5906         92190   6/1/2018  ...                0                0\n",
              "4637         92100  4/29/2018  ...               13               13\n",
              "9661         92700   1/7/2018  ...                0                0\n",
              "2191         75015   1/8/2018  ...              200              209\n",
              "1142         75008  2/20/2018  ...              126              126\n",
              "15839        95870  3/11/2018  ...                0                0\n",
              "13140        94100  1/18/2018  ...                0                0\n",
              "\n",
              "[7 rows x 13 columns]"
            ]
          },
          "metadata": {},
          "execution_count": 5
        }
      ]
    },
    {
      "cell_type": "code",
      "metadata": {
        "colab": {
          "base_uri": "https://localhost:8080/"
        },
        "id": "MRT0OMX9hL4v",
        "outputId": "b58d44d5-08d4-4837-c7db-4f5bc72433f9"
      },
      "source": [
        "#number of rows and columns\n",
        "df.shape"
      ],
      "execution_count": 6,
      "outputs": [
        {
          "output_type": "execute_result",
          "data": {
            "text/plain": [
              "(16085, 13)"
            ]
          },
          "metadata": {},
          "execution_count": 6
        }
      ]
    },
    {
      "cell_type": "markdown",
      "metadata": {
        "id": "G6esDt6Yj576"
      },
      "source": [
        "dataset has 16085 rows and 13 columns"
      ]
    },
    {
      "cell_type": "code",
      "metadata": {
        "colab": {
          "base_uri": "https://localhost:8080/"
        },
        "id": "4z7AVWhBsfiK",
        "outputId": "99f050d2-539b-4e3a-c320-ba1b9dff669d"
      },
      "source": [
        "#check datatypes\n",
        "df.info()"
      ],
      "execution_count": 7,
      "outputs": [
        {
          "output_type": "stream",
          "name": "stdout",
          "text": [
            "<class 'pandas.core.frame.DataFrame'>\n",
            "RangeIndex: 16085 entries, 0 to 16084\n",
            "Data columns (total 13 columns):\n",
            " #   Column                  Non-Null Count  Dtype \n",
            "---  ------                  --------------  ----- \n",
            " 0   Postal code             16085 non-null  int64 \n",
            " 1   date                    16085 non-null  object\n",
            " 2   n_daily_data_points     16085 non-null  int64 \n",
            " 3   dayOfWeek               16085 non-null  int64 \n",
            " 4   day_type                16085 non-null  object\n",
            " 5   BlueCars_taken_sum      16085 non-null  int64 \n",
            " 6   BlueCars_returned_sum   16085 non-null  int64 \n",
            " 7   Utilib_taken_sum        16085 non-null  int64 \n",
            " 8   Utilib_returned_sum     16085 non-null  int64 \n",
            " 9   Utilib_14_taken_sum     16085 non-null  int64 \n",
            " 10  Utilib_14_returned_sum  16085 non-null  int64 \n",
            " 11  Slots_freed_sum         16085 non-null  int64 \n",
            " 12  Slots_taken_sum         16085 non-null  int64 \n",
            "dtypes: int64(11), object(2)\n",
            "memory usage: 1.6+ MB\n"
          ]
        }
      ]
    },
    {
      "cell_type": "markdown",
      "metadata": {
        "id": "TtygTihD3r8u"
      },
      "source": [
        "**# Data Cleaning**"
      ]
    },
    {
      "cell_type": "code",
      "metadata": {
        "colab": {
          "base_uri": "https://localhost:8080/"
        },
        "id": "pGODgGkEskEb",
        "outputId": "100edbd6-f799-4937-b50b-2379b0d04c37"
      },
      "source": [
        "#check missing values\n",
        "df.isnull().sum()"
      ],
      "execution_count": 8,
      "outputs": [
        {
          "output_type": "execute_result",
          "data": {
            "text/plain": [
              "Postal code               0\n",
              "date                      0\n",
              "n_daily_data_points       0\n",
              "dayOfWeek                 0\n",
              "day_type                  0\n",
              "BlueCars_taken_sum        0\n",
              "BlueCars_returned_sum     0\n",
              "Utilib_taken_sum          0\n",
              "Utilib_returned_sum       0\n",
              "Utilib_14_taken_sum       0\n",
              "Utilib_14_returned_sum    0\n",
              "Slots_freed_sum           0\n",
              "Slots_taken_sum           0\n",
              "dtype: int64"
            ]
          },
          "metadata": {},
          "execution_count": 8
        }
      ]
    },
    {
      "cell_type": "markdown",
      "metadata": {
        "id": "cEoF6E5p39Om"
      },
      "source": [
        "The data has no missing values"
      ]
    },
    {
      "cell_type": "code",
      "metadata": {
        "colab": {
          "base_uri": "https://localhost:8080/"
        },
        "id": "0GlI2LF8u4Gn",
        "outputId": "fedfc268-6a57-4c00-90d7-14b68a0439fe"
      },
      "source": [
        "#check for duplicates\n",
        "df.duplicated().any()"
      ],
      "execution_count": 9,
      "outputs": [
        {
          "output_type": "execute_result",
          "data": {
            "text/plain": [
              "False"
            ]
          },
          "metadata": {},
          "execution_count": 9
        }
      ]
    },
    {
      "cell_type": "markdown",
      "metadata": {
        "id": "Xxob1nPT4MEx"
      },
      "source": [
        "There are no duplicates in our data"
      ]
    },
    {
      "cell_type": "code",
      "metadata": {
        "colab": {
          "base_uri": "https://localhost:8080/",
          "height": 205
        },
        "id": "VaNsn76MAOhN",
        "outputId": "9d99c4ae-d1fa-48e1-b964-9ff92aba3194"
      },
      "source": [
        "#drop columns\n",
        "# Since we are interested in learning more about blue cars only\n",
        "# we can drop all other unnecessary columns\n",
        "\n",
        "df = df.drop(df.columns[6:], axis=1)\n",
        "df.head()"
      ],
      "execution_count": 10,
      "outputs": [
        {
          "output_type": "execute_result",
          "data": {
            "text/html": [
              "<div>\n",
              "<style scoped>\n",
              "    .dataframe tbody tr th:only-of-type {\n",
              "        vertical-align: middle;\n",
              "    }\n",
              "\n",
              "    .dataframe tbody tr th {\n",
              "        vertical-align: top;\n",
              "    }\n",
              "\n",
              "    .dataframe thead th {\n",
              "        text-align: right;\n",
              "    }\n",
              "</style>\n",
              "<table border=\"1\" class=\"dataframe\">\n",
              "  <thead>\n",
              "    <tr style=\"text-align: right;\">\n",
              "      <th></th>\n",
              "      <th>Postal code</th>\n",
              "      <th>date</th>\n",
              "      <th>n_daily_data_points</th>\n",
              "      <th>dayOfWeek</th>\n",
              "      <th>day_type</th>\n",
              "      <th>BlueCars_taken_sum</th>\n",
              "    </tr>\n",
              "  </thead>\n",
              "  <tbody>\n",
              "    <tr>\n",
              "      <th>0</th>\n",
              "      <td>75001</td>\n",
              "      <td>1/1/2018</td>\n",
              "      <td>1440</td>\n",
              "      <td>0</td>\n",
              "      <td>weekday</td>\n",
              "      <td>110</td>\n",
              "    </tr>\n",
              "    <tr>\n",
              "      <th>1</th>\n",
              "      <td>75001</td>\n",
              "      <td>1/2/2018</td>\n",
              "      <td>1438</td>\n",
              "      <td>1</td>\n",
              "      <td>weekday</td>\n",
              "      <td>98</td>\n",
              "    </tr>\n",
              "    <tr>\n",
              "      <th>2</th>\n",
              "      <td>75001</td>\n",
              "      <td>1/3/2018</td>\n",
              "      <td>1439</td>\n",
              "      <td>2</td>\n",
              "      <td>weekday</td>\n",
              "      <td>138</td>\n",
              "    </tr>\n",
              "    <tr>\n",
              "      <th>3</th>\n",
              "      <td>75001</td>\n",
              "      <td>1/4/2018</td>\n",
              "      <td>1320</td>\n",
              "      <td>3</td>\n",
              "      <td>weekday</td>\n",
              "      <td>104</td>\n",
              "    </tr>\n",
              "    <tr>\n",
              "      <th>4</th>\n",
              "      <td>75001</td>\n",
              "      <td>1/5/2018</td>\n",
              "      <td>1440</td>\n",
              "      <td>4</td>\n",
              "      <td>weekday</td>\n",
              "      <td>114</td>\n",
              "    </tr>\n",
              "  </tbody>\n",
              "</table>\n",
              "</div>"
            ],
            "text/plain": [
              "   Postal code      date  ...  day_type  BlueCars_taken_sum\n",
              "0        75001  1/1/2018  ...   weekday                 110\n",
              "1        75001  1/2/2018  ...   weekday                  98\n",
              "2        75001  1/3/2018  ...   weekday                 138\n",
              "3        75001  1/4/2018  ...   weekday                 104\n",
              "4        75001  1/5/2018  ...   weekday                 114\n",
              "\n",
              "[5 rows x 6 columns]"
            ]
          },
          "metadata": {},
          "execution_count": 10
        }
      ]
    },
    {
      "cell_type": "code",
      "metadata": {
        "colab": {
          "base_uri": "https://localhost:8080/",
          "height": 205
        },
        "id": "ESo3PXpZAeKA",
        "outputId": "a5dcf109-0bf5-432c-dbd9-8ae632860b08"
      },
      "source": [
        "#renaming columns\n",
        "df.columns = ['postal_code','date','daily_data_points','day_of_week','day_type','blue_cars_taken']\n",
        "df.head()"
      ],
      "execution_count": 11,
      "outputs": [
        {
          "output_type": "execute_result",
          "data": {
            "text/html": [
              "<div>\n",
              "<style scoped>\n",
              "    .dataframe tbody tr th:only-of-type {\n",
              "        vertical-align: middle;\n",
              "    }\n",
              "\n",
              "    .dataframe tbody tr th {\n",
              "        vertical-align: top;\n",
              "    }\n",
              "\n",
              "    .dataframe thead th {\n",
              "        text-align: right;\n",
              "    }\n",
              "</style>\n",
              "<table border=\"1\" class=\"dataframe\">\n",
              "  <thead>\n",
              "    <tr style=\"text-align: right;\">\n",
              "      <th></th>\n",
              "      <th>postal_code</th>\n",
              "      <th>date</th>\n",
              "      <th>daily_data_points</th>\n",
              "      <th>day_of_week</th>\n",
              "      <th>day_type</th>\n",
              "      <th>blue_cars_taken</th>\n",
              "    </tr>\n",
              "  </thead>\n",
              "  <tbody>\n",
              "    <tr>\n",
              "      <th>0</th>\n",
              "      <td>75001</td>\n",
              "      <td>1/1/2018</td>\n",
              "      <td>1440</td>\n",
              "      <td>0</td>\n",
              "      <td>weekday</td>\n",
              "      <td>110</td>\n",
              "    </tr>\n",
              "    <tr>\n",
              "      <th>1</th>\n",
              "      <td>75001</td>\n",
              "      <td>1/2/2018</td>\n",
              "      <td>1438</td>\n",
              "      <td>1</td>\n",
              "      <td>weekday</td>\n",
              "      <td>98</td>\n",
              "    </tr>\n",
              "    <tr>\n",
              "      <th>2</th>\n",
              "      <td>75001</td>\n",
              "      <td>1/3/2018</td>\n",
              "      <td>1439</td>\n",
              "      <td>2</td>\n",
              "      <td>weekday</td>\n",
              "      <td>138</td>\n",
              "    </tr>\n",
              "    <tr>\n",
              "      <th>3</th>\n",
              "      <td>75001</td>\n",
              "      <td>1/4/2018</td>\n",
              "      <td>1320</td>\n",
              "      <td>3</td>\n",
              "      <td>weekday</td>\n",
              "      <td>104</td>\n",
              "    </tr>\n",
              "    <tr>\n",
              "      <th>4</th>\n",
              "      <td>75001</td>\n",
              "      <td>1/5/2018</td>\n",
              "      <td>1440</td>\n",
              "      <td>4</td>\n",
              "      <td>weekday</td>\n",
              "      <td>114</td>\n",
              "    </tr>\n",
              "  </tbody>\n",
              "</table>\n",
              "</div>"
            ],
            "text/plain": [
              "   postal_code      date  ...  day_type  blue_cars_taken\n",
              "0        75001  1/1/2018  ...   weekday              110\n",
              "1        75001  1/2/2018  ...   weekday               98\n",
              "2        75001  1/3/2018  ...   weekday              138\n",
              "3        75001  1/4/2018  ...   weekday              104\n",
              "4        75001  1/5/2018  ...   weekday              114\n",
              "\n",
              "[5 rows x 6 columns]"
            ]
          },
          "metadata": {},
          "execution_count": 11
        }
      ]
    },
    {
      "cell_type": "code",
      "metadata": {
        "id": "IIOYMP4AA-j2"
      },
      "source": [
        "# Change Date column to datetime type\n",
        "df['date'] = pd.to_datetime(df['date'], format='%m/%d/%Y')"
      ],
      "execution_count": 12,
      "outputs": []
    },
    {
      "cell_type": "code",
      "metadata": {
        "id": "hp4SSiM_BBpj"
      },
      "source": [
        "# Creating a new 'month' attribute\n",
        "\n",
        "df['month'] = df['date'].dt.month"
      ],
      "execution_count": 13,
      "outputs": []
    },
    {
      "cell_type": "code",
      "metadata": {
        "id": "bLABRcmPBQOf"
      },
      "source": [
        "encode = {\"day_of_week\" : {0:\"monday\", 1:\"tuesday\", 2:\"wednesday\", 3:\"thursday\",\n",
        "                           4:\"friday\", 5:\"saturday\", 6:\"sunday\"}, \"month\" : {1:\"January\",\n",
        "                          2:\"February\", 3:\"March\", 4:\"April\", 5:\"May\", 6:\"June\"}}"
      ],
      "execution_count": 14,
      "outputs": []
    },
    {
      "cell_type": "code",
      "metadata": {
        "colab": {
          "base_uri": "https://localhost:8080/",
          "height": 205
        },
        "id": "7D5cbnjXBiIo",
        "outputId": "dba705d9-22fc-4b33-fd49-543caf84b534"
      },
      "source": [
        "df.replace(encode, inplace = True)\n",
        "df.head()"
      ],
      "execution_count": 15,
      "outputs": [
        {
          "output_type": "execute_result",
          "data": {
            "text/html": [
              "<div>\n",
              "<style scoped>\n",
              "    .dataframe tbody tr th:only-of-type {\n",
              "        vertical-align: middle;\n",
              "    }\n",
              "\n",
              "    .dataframe tbody tr th {\n",
              "        vertical-align: top;\n",
              "    }\n",
              "\n",
              "    .dataframe thead th {\n",
              "        text-align: right;\n",
              "    }\n",
              "</style>\n",
              "<table border=\"1\" class=\"dataframe\">\n",
              "  <thead>\n",
              "    <tr style=\"text-align: right;\">\n",
              "      <th></th>\n",
              "      <th>postal_code</th>\n",
              "      <th>date</th>\n",
              "      <th>daily_data_points</th>\n",
              "      <th>day_of_week</th>\n",
              "      <th>day_type</th>\n",
              "      <th>blue_cars_taken</th>\n",
              "      <th>month</th>\n",
              "    </tr>\n",
              "  </thead>\n",
              "  <tbody>\n",
              "    <tr>\n",
              "      <th>0</th>\n",
              "      <td>75001</td>\n",
              "      <td>2018-01-01</td>\n",
              "      <td>1440</td>\n",
              "      <td>monday</td>\n",
              "      <td>weekday</td>\n",
              "      <td>110</td>\n",
              "      <td>January</td>\n",
              "    </tr>\n",
              "    <tr>\n",
              "      <th>1</th>\n",
              "      <td>75001</td>\n",
              "      <td>2018-01-02</td>\n",
              "      <td>1438</td>\n",
              "      <td>tuesday</td>\n",
              "      <td>weekday</td>\n",
              "      <td>98</td>\n",
              "      <td>January</td>\n",
              "    </tr>\n",
              "    <tr>\n",
              "      <th>2</th>\n",
              "      <td>75001</td>\n",
              "      <td>2018-01-03</td>\n",
              "      <td>1439</td>\n",
              "      <td>wednesday</td>\n",
              "      <td>weekday</td>\n",
              "      <td>138</td>\n",
              "      <td>January</td>\n",
              "    </tr>\n",
              "    <tr>\n",
              "      <th>3</th>\n",
              "      <td>75001</td>\n",
              "      <td>2018-01-04</td>\n",
              "      <td>1320</td>\n",
              "      <td>thursday</td>\n",
              "      <td>weekday</td>\n",
              "      <td>104</td>\n",
              "      <td>January</td>\n",
              "    </tr>\n",
              "    <tr>\n",
              "      <th>4</th>\n",
              "      <td>75001</td>\n",
              "      <td>2018-01-05</td>\n",
              "      <td>1440</td>\n",
              "      <td>friday</td>\n",
              "      <td>weekday</td>\n",
              "      <td>114</td>\n",
              "      <td>January</td>\n",
              "    </tr>\n",
              "  </tbody>\n",
              "</table>\n",
              "</div>"
            ],
            "text/plain": [
              "   postal_code       date  daily_data_points  ... day_type blue_cars_taken    month\n",
              "0        75001 2018-01-01               1440  ...  weekday             110  January\n",
              "1        75001 2018-01-02               1438  ...  weekday              98  January\n",
              "2        75001 2018-01-03               1439  ...  weekday             138  January\n",
              "3        75001 2018-01-04               1320  ...  weekday             104  January\n",
              "4        75001 2018-01-05               1440  ...  weekday             114  January\n",
              "\n",
              "[5 rows x 7 columns]"
            ]
          },
          "metadata": {},
          "execution_count": 15
        }
      ]
    },
    {
      "cell_type": "code",
      "metadata": {
        "colab": {
          "base_uri": "https://localhost:8080/",
          "height": 371
        },
        "id": "oKCsCjGA4JZo",
        "outputId": "cfbe80fa-4d0e-49b5-b774-b6a75236ebec"
      },
      "source": [
        "#check for outliers\n",
        "\n",
        "# Checking for Outliers\n",
        "\n",
        "\n",
        "sns.boxplot(df['blue_cars_taken'])\n",
        "plt.title('Blue Cars Taken')\n"
      ],
      "execution_count": 16,
      "outputs": [
        {
          "output_type": "stream",
          "name": "stderr",
          "text": [
            "/usr/local/lib/python3.7/dist-packages/seaborn/_decorators.py:43: FutureWarning: Pass the following variable as a keyword arg: x. From version 0.12, the only valid positional argument will be `data`, and passing other arguments without an explicit keyword will result in an error or misinterpretation.\n",
            "  FutureWarning\n"
          ]
        },
        {
          "output_type": "execute_result",
          "data": {
            "text/plain": [
              "Text(0.5, 1.0, 'Blue Cars Taken')"
            ]
          },
          "metadata": {},
          "execution_count": 16
        },
        {
          "output_type": "display_data",
          "data": {
            "image/png": "[encoded data removed]",
            "text/plain": [
              "<Figure size 432x288 with 1 Axes>"
            ]
          },
          "metadata": {
            "needs_background": "light"
          }
        }
      ]
    },
    {
      "cell_type": "markdown",
      "metadata": {
        "id": "UK6zorFG61Og"
      },
      "source": [
        "There are several 'outliers' in the dataset for the number of blue cars taken . However, there is no sufficient evidence that point to the likelihhod of these outliers being erroneous records. Since the outliers could be valid observations, we will not delete them."
      ]
    },
    {
      "cell_type": "code",
      "metadata": {
        "colab": {
          "base_uri": "https://localhost:8080/"
        },
        "id": "GCb6Ro5wKwTN",
        "outputId": "f6a7b46b-9061-4b87-9469-4d6e60b81354"
      },
      "source": [
        "#ANOMALIES\n",
        "#bluecars taken\n",
        "q1 = df.blue_cars_taken.quantile(0.25)\n",
        "q3 = df.blue_cars_taken.quantile(0.75)\n",
        "iqr = q3-q1\n",
        "\n",
        "#printing to check points outside 50% of the records\n",
        "print('iqr_taken =',iqr)\n"
      ],
      "execution_count": 17,
      "outputs": [
        {
          "output_type": "stream",
          "name": "stdout",
          "text": [
            "iqr_taken = 115.0\n"
          ]
        }
      ]
    },
    {
      "cell_type": "markdown",
      "metadata": {
        "id": "_Vhd8IDdPa0T"
      },
      "source": [
        "The results show that the blue cars taken have 115 records that are not within the middle 50% of the records in those columns."
      ]
    },
    {
      "cell_type": "code",
      "metadata": {
        "colab": {
          "base_uri": "https://localhost:8080/"
        },
        "id": "bzMYl6e3k-wn",
        "outputId": "7d5bfabc-d08a-47ac-e25d-aed1c28f2452"
      },
      "source": [
        "#checking unique postal codes\n",
        "df.postal_code.unique()"
      ],
      "execution_count": 18,
      "outputs": [
        {
          "output_type": "execute_result",
          "data": {
            "text/plain": [
              "array([75001, 75002, 75003, 75004, 75005, 75006, 75007, 75008, 75009,\n",
              "       75010, 75011, 75012, 75013, 75014, 75015, 75016, 75017, 75018,\n",
              "       75019, 75020, 75112, 75116, 78000, 78140, 78150, 91330, 91370,\n",
              "       91400, 92000, 92100, 92110, 92120, 92130, 92140, 92150, 92160,\n",
              "       92170, 92190, 92200, 92210, 92220, 92230, 92240, 92250, 92260,\n",
              "       92270, 92290, 92300, 92310, 92320, 92330, 92340, 92350, 92360,\n",
              "       92370, 92380, 92390, 92400, 92410, 92420, 92500, 92600, 92700,\n",
              "       92800, 93100, 93110, 93130, 93150, 93170, 93200, 93230, 93260,\n",
              "       93300, 93310, 93350, 93360, 93370, 93390, 93400, 93440, 93500,\n",
              "       93600, 93700, 93800, 94000, 94100, 94110, 94120, 94130, 94140,\n",
              "       94150, 94160, 94220, 94230, 94300, 94340, 94410, 94450, 94500,\n",
              "       94700, 94800, 95100, 95870, 95880])"
            ]
          },
          "metadata": {},
          "execution_count": 18
        }
      ]
    },
    {
      "cell_type": "markdown",
      "metadata": {
        "id": "R5uDO38Pkx-H"
      },
      "source": [
        "Postal codes in France are organized by departments (which can also be described as cities). For instance, all postal codes for Paris begin with the number 75. To compress the dataset, we can group various Paris postal codes into one since they represent a similar geographical location i.e. city of Paris. We can do this for all other postal codes. As mentioned earlier, this analysis will focus on comparing the weekend blue car usage rates for Paris and Essonne"
      ]
    },
    {
      "cell_type": "code",
      "metadata": {
        "colab": {
          "base_uri": "https://localhost:8080/",
          "height": 205
        },
        "id": "RcepA78G-ksi",
        "outputId": "3053428d-96d2-4026-b8bf-e6f7f81966e9"
      },
      "source": [
        "# Coding all postal codes with the city they represent\n",
        "\n",
        "# create a list of our postal codes\n",
        "postal_codes = [\n",
        "    (df['postal_code'] >= 75000) & (df['postal_code'] <= 75999),\n",
        "    (df['postal_code'] >= 78000) & (df['postal_code'] <= 78999),\n",
        "    (df['postal_code'] >= 91000) & (df['postal_code'] <= 91999),\n",
        "    (df['postal_code'] >= 92000) & (df['postal_code'] <= 92999),\n",
        "    (df['postal_code'] >= 93000) & (df['postal_code'] <= 93999),\n",
        "    (df['postal_code'] >= 94000) & (df['postal_code'] <= 94999),\n",
        "    (df['postal_code'] >= 95000) & (df['postal_code'] <= 95999),\n",
        "    ]\n",
        "\n",
        "# create a list of the cities we want to assign for each postal code\n",
        "city = ['Paris', 'Yvelines', 'Essonne', 'Hauts-de-Seine', 'Seine-Saint_Denis', 'Val-de-Marne', 'Val-dOise']\n",
        "\n",
        "# create a new column and use np.select to assign values to it using our lists as arguments\n",
        "df['city'] = np.select(postal_codes, city)\n",
        "\n",
        "# display updated DataFrame\n",
        "df.head()"
      ],
      "execution_count": 19,
      "outputs": [
        {
          "output_type": "execute_result",
          "data": {
            "text/html": [
              "<div>\n",
              "<style scoped>\n",
              "    .dataframe tbody tr th:only-of-type {\n",
              "        vertical-align: middle;\n",
              "    }\n",
              "\n",
              "    .dataframe tbody tr th {\n",
              "        vertical-align: top;\n",
              "    }\n",
              "\n",
              "    .dataframe thead th {\n",
              "        text-align: right;\n",
              "    }\n",
              "</style>\n",
              "<table border=\"1\" class=\"dataframe\">\n",
              "  <thead>\n",
              "    <tr style=\"text-align: right;\">\n",
              "      <th></th>\n",
              "      <th>postal_code</th>\n",
              "      <th>date</th>\n",
              "      <th>daily_data_points</th>\n",
              "      <th>day_of_week</th>\n",
              "      <th>day_type</th>\n",
              "      <th>blue_cars_taken</th>\n",
              "      <th>month</th>\n",
              "      <th>city</th>\n",
              "    </tr>\n",
              "  </thead>\n",
              "  <tbody>\n",
              "    <tr>\n",
              "      <th>0</th>\n",
              "      <td>75001</td>\n",
              "      <td>2018-01-01</td>\n",
              "      <td>1440</td>\n",
              "      <td>monday</td>\n",
              "      <td>weekday</td>\n",
              "      <td>110</td>\n",
              "      <td>January</td>\n",
              "      <td>Paris</td>\n",
              "    </tr>\n",
              "    <tr>\n",
              "      <th>1</th>\n",
              "      <td>75001</td>\n",
              "      <td>2018-01-02</td>\n",
              "      <td>1438</td>\n",
              "      <td>tuesday</td>\n",
              "      <td>weekday</td>\n",
              "      <td>98</td>\n",
              "      <td>January</td>\n",
              "      <td>Paris</td>\n",
              "    </tr>\n",
              "    <tr>\n",
              "      <th>2</th>\n",
              "      <td>75001</td>\n",
              "      <td>2018-01-03</td>\n",
              "      <td>1439</td>\n",
              "      <td>wednesday</td>\n",
              "      <td>weekday</td>\n",
              "      <td>138</td>\n",
              "      <td>January</td>\n",
              "      <td>Paris</td>\n",
              "    </tr>\n",
              "    <tr>\n",
              "      <th>3</th>\n",
              "      <td>75001</td>\n",
              "      <td>2018-01-04</td>\n",
              "      <td>1320</td>\n",
              "      <td>thursday</td>\n",
              "      <td>weekday</td>\n",
              "      <td>104</td>\n",
              "      <td>January</td>\n",
              "      <td>Paris</td>\n",
              "    </tr>\n",
              "    <tr>\n",
              "      <th>4</th>\n",
              "      <td>75001</td>\n",
              "      <td>2018-01-05</td>\n",
              "      <td>1440</td>\n",
              "      <td>friday</td>\n",
              "      <td>weekday</td>\n",
              "      <td>114</td>\n",
              "      <td>January</td>\n",
              "      <td>Paris</td>\n",
              "    </tr>\n",
              "  </tbody>\n",
              "</table>\n",
              "</div>"
            ],
            "text/plain": [
              "   postal_code       date  daily_data_points  ... blue_cars_taken    month   city\n",
              "0        75001 2018-01-01               1440  ...             110  January  Paris\n",
              "1        75001 2018-01-02               1438  ...              98  January  Paris\n",
              "2        75001 2018-01-03               1439  ...             138  January  Paris\n",
              "3        75001 2018-01-04               1320  ...             104  January  Paris\n",
              "4        75001 2018-01-05               1440  ...             114  January  Paris\n",
              "\n",
              "[5 rows x 8 columns]"
            ]
          },
          "metadata": {},
          "execution_count": 19
        }
      ]
    },
    {
      "cell_type": "code",
      "metadata": {
        "colab": {
          "base_uri": "https://localhost:8080/",
          "height": 205
        },
        "id": "zMeLE4Nz_L-Q",
        "outputId": "fe237064-3547-40a7-e64a-948ba01ec29c"
      },
      "source": [
        "# Creating a new dataframe with only Paris and Essonne\n",
        "# and only weekend records which is the target records\n",
        "\n",
        "df1 = df.loc[df['city'].isin(['Paris','Essonne']) & df['day_type'].isin(['weekend'])]\n",
        "df1.head()"
      ],
      "execution_count": 20,
      "outputs": [
        {
          "output_type": "execute_result",
          "data": {
            "text/html": [
              "<div>\n",
              "<style scoped>\n",
              "    .dataframe tbody tr th:only-of-type {\n",
              "        vertical-align: middle;\n",
              "    }\n",
              "\n",
              "    .dataframe tbody tr th {\n",
              "        vertical-align: top;\n",
              "    }\n",
              "\n",
              "    .dataframe thead th {\n",
              "        text-align: right;\n",
              "    }\n",
              "</style>\n",
              "<table border=\"1\" class=\"dataframe\">\n",
              "  <thead>\n",
              "    <tr style=\"text-align: right;\">\n",
              "      <th></th>\n",
              "      <th>postal_code</th>\n",
              "      <th>date</th>\n",
              "      <th>daily_data_points</th>\n",
              "      <th>day_of_week</th>\n",
              "      <th>day_type</th>\n",
              "      <th>blue_cars_taken</th>\n",
              "      <th>month</th>\n",
              "      <th>city</th>\n",
              "    </tr>\n",
              "  </thead>\n",
              "  <tbody>\n",
              "    <tr>\n",
              "      <th>5</th>\n",
              "      <td>75001</td>\n",
              "      <td>2018-01-06</td>\n",
              "      <td>1437</td>\n",
              "      <td>saturday</td>\n",
              "      <td>weekend</td>\n",
              "      <td>187</td>\n",
              "      <td>January</td>\n",
              "      <td>Paris</td>\n",
              "    </tr>\n",
              "    <tr>\n",
              "      <th>6</th>\n",
              "      <td>75001</td>\n",
              "      <td>2018-01-07</td>\n",
              "      <td>1440</td>\n",
              "      <td>sunday</td>\n",
              "      <td>weekend</td>\n",
              "      <td>180</td>\n",
              "      <td>January</td>\n",
              "      <td>Paris</td>\n",
              "    </tr>\n",
              "    <tr>\n",
              "      <th>12</th>\n",
              "      <td>75001</td>\n",
              "      <td>2018-01-13</td>\n",
              "      <td>1440</td>\n",
              "      <td>saturday</td>\n",
              "      <td>weekend</td>\n",
              "      <td>224</td>\n",
              "      <td>January</td>\n",
              "      <td>Paris</td>\n",
              "    </tr>\n",
              "    <tr>\n",
              "      <th>13</th>\n",
              "      <td>75001</td>\n",
              "      <td>2018-01-14</td>\n",
              "      <td>1440</td>\n",
              "      <td>sunday</td>\n",
              "      <td>weekend</td>\n",
              "      <td>193</td>\n",
              "      <td>January</td>\n",
              "      <td>Paris</td>\n",
              "    </tr>\n",
              "    <tr>\n",
              "      <th>19</th>\n",
              "      <td>75001</td>\n",
              "      <td>2018-01-20</td>\n",
              "      <td>1439</td>\n",
              "      <td>saturday</td>\n",
              "      <td>weekend</td>\n",
              "      <td>217</td>\n",
              "      <td>January</td>\n",
              "      <td>Paris</td>\n",
              "    </tr>\n",
              "  </tbody>\n",
              "</table>\n",
              "</div>"
            ],
            "text/plain": [
              "    postal_code       date  daily_data_points  ... blue_cars_taken    month   city\n",
              "5         75001 2018-01-06               1437  ...             187  January  Paris\n",
              "6         75001 2018-01-07               1440  ...             180  January  Paris\n",
              "12        75001 2018-01-13               1440  ...             224  January  Paris\n",
              "13        75001 2018-01-14               1440  ...             193  January  Paris\n",
              "19        75001 2018-01-20               1439  ...             217  January  Paris\n",
              "\n",
              "[5 rows x 8 columns]"
            ]
          },
          "metadata": {},
          "execution_count": 20
        }
      ]
    },
    {
      "cell_type": "code",
      "metadata": {
        "colab": {
          "base_uri": "https://localhost:8080/",
          "height": 299
        },
        "id": "wJYgm-5EsSCi",
        "outputId": "b4ed85ff-2528-4d54-cdb2-f69e4df511b7"
      },
      "source": [
        "#general info of cleaned data\n",
        "df1.describe()"
      ],
      "execution_count": 21,
      "outputs": [
        {
          "output_type": "execute_result",
          "data": {
            "text/html": [
              "<div>\n",
              "<style scoped>\n",
              "    .dataframe tbody tr th:only-of-type {\n",
              "        vertical-align: middle;\n",
              "    }\n",
              "\n",
              "    .dataframe tbody tr th {\n",
              "        vertical-align: top;\n",
              "    }\n",
              "\n",
              "    .dataframe thead th {\n",
              "        text-align: right;\n",
              "    }\n",
              "</style>\n",
              "<table border=\"1\" class=\"dataframe\">\n",
              "  <thead>\n",
              "    <tr style=\"text-align: right;\">\n",
              "      <th></th>\n",
              "      <th>postal_code</th>\n",
              "      <th>daily_data_points</th>\n",
              "      <th>blue_cars_taken</th>\n",
              "    </tr>\n",
              "  </thead>\n",
              "  <tbody>\n",
              "    <tr>\n",
              "      <th>count</th>\n",
              "      <td>1100.000000</td>\n",
              "      <td>1100.000000</td>\n",
              "      <td>1100.000000</td>\n",
              "    </tr>\n",
              "    <tr>\n",
              "      <th>mean</th>\n",
              "      <td>76981.520000</td>\n",
              "      <td>1434.636364</td>\n",
              "      <td>414.728182</td>\n",
              "    </tr>\n",
              "    <tr>\n",
              "      <th>std</th>\n",
              "      <td>5314.568867</td>\n",
              "      <td>20.884764</td>\n",
              "      <td>302.349489</td>\n",
              "    </tr>\n",
              "    <tr>\n",
              "      <th>min</th>\n",
              "      <td>75001.000000</td>\n",
              "      <td>1318.000000</td>\n",
              "      <td>0.000000</td>\n",
              "    </tr>\n",
              "    <tr>\n",
              "      <th>25%</th>\n",
              "      <td>75007.000000</td>\n",
              "      <td>1440.000000</td>\n",
              "      <td>185.750000</td>\n",
              "    </tr>\n",
              "    <tr>\n",
              "      <th>50%</th>\n",
              "      <td>75013.000000</td>\n",
              "      <td>1440.000000</td>\n",
              "      <td>387.500000</td>\n",
              "    </tr>\n",
              "    <tr>\n",
              "      <th>75%</th>\n",
              "      <td>75019.000000</td>\n",
              "      <td>1440.000000</td>\n",
              "      <td>624.250000</td>\n",
              "    </tr>\n",
              "    <tr>\n",
              "      <th>max</th>\n",
              "      <td>91400.000000</td>\n",
              "      <td>1440.000000</td>\n",
              "      <td>1352.000000</td>\n",
              "    </tr>\n",
              "  </tbody>\n",
              "</table>\n",
              "</div>"
            ],
            "text/plain": [
              "        postal_code  daily_data_points  blue_cars_taken\n",
              "count   1100.000000        1100.000000      1100.000000\n",
              "mean   76981.520000        1434.636364       414.728182\n",
              "std     5314.568867          20.884764       302.349489\n",
              "min    75001.000000        1318.000000         0.000000\n",
              "25%    75007.000000        1440.000000       185.750000\n",
              "50%    75013.000000        1440.000000       387.500000\n",
              "75%    75019.000000        1440.000000       624.250000\n",
              "max    91400.000000        1440.000000      1352.000000"
            ]
          },
          "metadata": {},
          "execution_count": 21
        }
      ]
    },
    {
      "cell_type": "code",
      "metadata": {
        "colab": {
          "base_uri": "https://localhost:8080/"
        },
        "id": "eUdPWlcx_tHQ",
        "outputId": "de6104cd-1818-4033-853e-d9483458a26d"
      },
      "source": [
        "#Bluecars usage per city over the weekends\n",
        "\n",
        "df1.city.value_counts()"
      ],
      "execution_count": 22,
      "outputs": [
        {
          "output_type": "execute_result",
          "data": {
            "text/plain": [
              "Paris      968\n",
              "Essonne    132\n",
              "Name: city, dtype: int64"
            ]
          },
          "metadata": {},
          "execution_count": 22
        }
      ]
    },
    {
      "cell_type": "markdown",
      "metadata": {
        "id": "YJ4k42Url9Av"
      },
      "source": [
        "Paris was much busy compared to Essonne"
      ]
    },
    {
      "cell_type": "markdown",
      "metadata": {
        "id": "qT_3IXuKrEon"
      },
      "source": [
        "# Exploratory Data Analysis"
      ]
    },
    {
      "cell_type": "markdown",
      "metadata": {
        "id": "uyUz92BbrQxi"
      },
      "source": [
        "# *(a) Univariate Analysis*"
      ]
    },
    {
      "cell_type": "code",
      "metadata": {
        "colab": {
          "base_uri": "https://localhost:8080/"
        },
        "id": "yayizMjGqPmf",
        "outputId": "297bc67b-e35b-4fde-cff0-4ef0647b4318"
      },
      "source": [
        "#MEASURES OF CENTRAL TENDENCY\n",
        "#max pickings\n",
        "max = df1.blue_cars_taken.max()\n",
        "print('max pickked =',max)\n",
        "\n",
        "#min pickings\n",
        "min = df1.blue_cars_taken.min()\n",
        "print('min pickings =',min)\n",
        "\n",
        "#range of pickings\n",
        "range = max-min\n",
        "print('range =',range)\n",
        "\n",
        "#mean\n",
        "mean = df1.blue_cars_taken.mean()\n",
        "print('mean =',mean)\n",
        "\n",
        "#mode\n",
        "mode = df1.blue_cars_taken.mode()\n",
        "print('mode =',mode)\n",
        "\n",
        "#median\n",
        "median = df1.blue_cars_taken.median()\n",
        "print('median =',median)"
      ],
      "execution_count": 23,
      "outputs": [
        {
          "output_type": "stream",
          "name": "stdout",
          "text": [
            "max pickked = 1352\n",
            "min pickings = 0\n",
            "range = 1352\n",
            "mean = 414.72818181818184\n",
            "mode = 0    11\n",
            "dtype: int64\n",
            "median = 387.5\n"
          ]
        }
      ]
    },
    {
      "cell_type": "code",
      "metadata": {
        "colab": {
          "base_uri": "https://localhost:8080/"
        },
        "id": "4pzxBRItrjg0",
        "outputId": "608f1888-05f3-4883-a817-145e6abb2257"
      },
      "source": [
        "#measures of dispersion\n",
        "#variance\n",
        "var = df1.blue_cars_taken.var()\n",
        "print('variance =',var)\n",
        "\n",
        "#standard deviation\n",
        "std = df1.blue_cars_taken.std()\n",
        "print('std =',std)\n",
        "\n",
        "#skewness\n",
        "skew = df1.blue_cars_taken.skew()\n",
        "print('skewness =',skew)\n",
        "\n",
        "#kurtosis\n",
        "kurt  = df1.blue_cars_taken.kurt()\n",
        "print('kurtosis =',kurt)"
      ],
      "execution_count": 24,
      "outputs": [
        {
          "output_type": "stream",
          "name": "stdout",
          "text": [
            "variance = 91415.21358176853\n",
            "std = 302.3494891376014\n",
            "skewness = 0.42349707941584214\n",
            "kurtosis = -0.3436469147118073\n"
          ]
        }
      ]
    },
    {
      "cell_type": "markdown",
      "metadata": {
        "id": "rsAT2Iv6t3b_"
      },
      "source": [
        "from the skewness result(0.42349707941584214) above, it shows that data is slightly right skewed"
      ]
    },
    {
      "cell_type": "code",
      "metadata": {
        "colab": {
          "base_uri": "https://localhost:8080/"
        },
        "id": "DkRx_qK5uqDg",
        "outputId": "79e987e8-60ca-4f9c-b865-09c0d071fe10"
      },
      "source": [
        "#frequency table\n",
        "df1.blue_cars_taken.value_counts()"
      ],
      "execution_count": 25,
      "outputs": [
        {
          "output_type": "execute_result",
          "data": {
            "text/plain": [
              "11      18\n",
              "13      16\n",
              "9       16\n",
              "12      15\n",
              "14      14\n",
              "        ..\n",
              "525      1\n",
              "526      1\n",
              "528      1\n",
              "530      1\n",
              "1352     1\n",
              "Name: blue_cars_taken, Length: 592, dtype: int64"
            ]
          },
          "metadata": {},
          "execution_count": 25
        }
      ]
    },
    {
      "cell_type": "code",
      "metadata": {
        "colab": {
          "base_uri": "https://localhost:8080/"
        },
        "id": "F-ntx65Zu5SP",
        "outputId": "f4de3161-92d4-4535-cdcc-87b0aa9461b1"
      },
      "source": [
        "#check how weekends looked like\n",
        "df1.day_of_week.value_counts()"
      ],
      "execution_count": 26,
      "outputs": [
        {
          "output_type": "execute_result",
          "data": {
            "text/plain": [
              "sunday      550\n",
              "saturday    550\n",
              "Name: day_of_week, dtype: int64"
            ]
          },
          "metadata": {},
          "execution_count": 26
        }
      ]
    },
    {
      "cell_type": "markdown",
      "metadata": {
        "id": "mw2NQA99mvxf"
      },
      "source": [
        "weekends were equally busy"
      ]
    },
    {
      "cell_type": "code",
      "metadata": {
        "colab": {
          "base_uri": "https://localhost:8080/",
          "height": 0
        },
        "id": "i6RIoiZQvOCC",
        "outputId": "bc7d76ef-d177-48c3-e5bf-66826f81db94"
      },
      "source": [
        "#visualizations of distributions of day of the week\n",
        "#mont and\n",
        "#cities\n",
        "fig,ax=plt.subplots(1,3,figsize=(30,10))\n",
        "custom_palette = [\"green\"]\n",
        "sns.set_context('talk')\n",
        "sns.set_palette(custom_palette)\n",
        "sns.histplot(df1['day_of_week'],ax=ax[0])\n",
        "ax[0].set_title('Day of the Week')\n",
        "sns.histplot(df1['city'],ax=ax[1])\n",
        "ax[1].set_title('City')\n",
        "sns.histplot(df1['month'],ax=ax[2])\n",
        "ax[2].set_title('Distribution per Month')\n"
      ],
      "execution_count": 27,
      "outputs": [
        {
          "output_type": "execute_result",
          "data": {
            "text/plain": [
              "Text(0.5, 1.0, 'Distribution per Month')"
            ]
          },
          "metadata": {},
          "execution_count": 27
        },
        {
          "output_type": "display_data",
          "data": {
            "image/png": "[encoded data removed]",
            "text/plain": [
              "<Figure size 2160x720 with 3 Axes>"
            ]
          },
          "metadata": {
            "needs_background": "light"
          }
        }
      ]
    },
    {
      "cell_type": "markdown",
      "metadata": {
        "id": "AXzN0muo4FJw"
      },
      "source": [
        "insights\n",
        "\n",
        "(a) Equal distributions on saturdays and sundays\n",
        "\n",
        "(b) more distributions in the city of paris compared to  the city of Enssonne\n",
        "\n",
        "(c)most pickings were done in the months of March and April and least in the month of may"
      ]
    },
    {
      "cell_type": "code",
      "metadata": {
        "colab": {
          "base_uri": "https://localhost:8080/",
          "height": 0
        },
        "id": "UCdAtJAG66Wb",
        "outputId": "ec6f609b-5516-4db9-d011-1098f9d576ad"
      },
      "source": [
        "sns.histplot(df1['blue_cars_taken'])\n",
        "plt.title('Distributions of bluecars taken')"
      ],
      "execution_count": 28,
      "outputs": [
        {
          "output_type": "execute_result",
          "data": {
            "text/plain": [
              "Text(0.5, 1.0, 'Distributions of bluecars taken')"
            ]
          },
          "metadata": {},
          "execution_count": 28
        },
        {
          "output_type": "display_data",
          "data": {
            "image/png": "[encoded data removed]",
            "text/plain": [
              "<Figure size 432x288 with 1 Axes>"
            ]
          },
          "metadata": {
            "needs_background": "light"
          }
        }
      ]
    },
    {
      "cell_type": "markdown",
      "metadata": {
        "id": "yeqkoulLGEF1"
      },
      "source": [
        "The distributions were not normally distributed because of different usage rates in the two cities"
      ]
    },
    {
      "cell_type": "markdown",
      "metadata": {
        "id": "U6QBo4gG5Lfi"
      },
      "source": [
        "# *(b) Bivariate Analysis*"
      ]
    },
    {
      "cell_type": "code",
      "metadata": {
        "colab": {
          "base_uri": "https://localhost:8080/",
          "height": 0
        },
        "id": "5TgKseaMyrVf",
        "outputId": "b32abdb4-25b3-4cc7-9b02-7dc74d26d9e4"
      },
      "source": [
        "#catplot showiing monthly bluecars picking per city  \n",
        "custom_palette = ['red','green']   \n",
        "sns.set_palette(custom_palette)\n",
        "sns.set_context(\"paper\", font_scale = 2, rc = {\"font.size\": 20,\"axes.titlesize\": 20,\"axes.labelsize\": 20,'figure.figsize':20}) \n",
        "sns.catplot(kind = 'bar', data = df1, y = 'blue_cars_taken', x = 'month',hue='city',aspect=18.7/8.27)         \n",
        "plt.title('Monthly Bluecars picking per city')\n",
        "plt.show()"
      ],
      "execution_count": 29,
      "outputs": [
        {
          "output_type": "display_data",
          "data": {
            "image/png": "[encoded data removed]",
            "text/plain": [
              "<Figure size 951.137x360 with 1 Axes>"
            ]
          },
          "metadata": {
            "needs_background": "light"
          }
        }
      ]
    },
    {
      "cell_type": "markdown",
      "metadata": {
        "id": "O7w57XlsHwIs"
      },
      "source": [
        "More bluecars are picked in the city of Paris compared to the city of Essonne"
      ]
    },
    {
      "cell_type": "code",
      "metadata": {
        "colab": {
          "base_uri": "https://localhost:8080/",
          "height": 0
        },
        "id": "yF-JOu32CeWp",
        "outputId": "1c5d0bec-a595-489e-8edb-dbf863b91ee8"
      },
      "source": [
        "#catplot showing weekend bluecars picking per city  \n",
        "custom_palette = ['red','green']   \n",
        "sns.set_palette(custom_palette)\n",
        "sns.set_context(\"paper\", font_scale = 2, rc = {\"font.size\": 20,\"axes.titlesize\": 20,\"axes.labelsize\": 20,'figure.figsize':20}) \n",
        "sns.catplot(kind = 'bar', data = df1, y = 'blue_cars_taken', x = 'day_of_week',hue='city',aspect=18.7/8.27)         \n",
        "plt.title('Weekend Bluecars picking per city')\n",
        "plt.show()"
      ],
      "execution_count": 30,
      "outputs": [
        {
          "output_type": "display_data",
          "data": {
            "image/png": "[encoded data removed]",
            "text/plain": [
              "<Figure size 951.137x360 with 1 Axes>"
            ]
          },
          "metadata": {
            "needs_background": "light"
          }
        }
      ]
    },
    {
      "cell_type": "markdown",
      "metadata": {
        "id": "1D9g8YcbICGm"
      },
      "source": [
        "The rate of picking bluecars is higher in saturdays than in sundays. This also happens most in Paris than in Essonne"
      ]
    },
    {
      "cell_type": "code",
      "metadata": {
        "colab": {
          "base_uri": "https://localhost:8080/",
          "height": 0
        },
        "id": "_kidyEeJ6P3T",
        "outputId": "3e714ec3-3d13-44cd-fcb7-ffcf3276f030"
      },
      "source": [
        "#catplot showing number of bluecars picked in every weekend\n",
        "#of the month per city\n",
        "sns.catplot(x=\"month\", y=\"blue_cars_taken\", hue=\"city\",\n",
        "                col=\"day_of_week\", data=df1,aspect=18.7/12.27)\n",
        "custom_palette = [\"red\",\"green\"]\n",
        "\n",
        "sns.set_palette(custom_palette)\n"
      ],
      "execution_count": 31,
      "outputs": [
        {
          "output_type": "display_data",
          "data": {
            "image/png": "[encoded data removed]",
            "text/plain": [
              "<Figure size 1234.42x360 with 2 Axes>"
            ]
          },
          "metadata": {
            "needs_background": "light"
          }
        }
      ]
    },
    {
      "cell_type": "markdown",
      "metadata": {
        "id": "FwcCFRnhnT8R"
      },
      "source": [
        "Distributions shows that saturdays were more busy compared with sundays with far much higher rates of bluecar picking in Paris than in Essonne"
      ]
    },
    {
      "cell_type": "code",
      "metadata": {
        "colab": {
          "base_uri": "https://localhost:8080/",
          "height": 0
        },
        "id": "XPQUfDD2_TLB",
        "outputId": "2ad85d3b-d60e-49ae-ceb5-4dd934233b03"
      },
      "source": [
        "# Plotting the Pearson correlation\n",
        "sns.heatmap(df1.corr(),annot=True)\n",
        "plt.show()"
      ],
      "execution_count": 32,
      "outputs": [
        {
          "output_type": "display_data",
          "data": {
            "image/png": "[encoded data removed]",
            "text/plain": [
              "<Figure size 432x288 with 2 Axes>"
            ]
          },
          "metadata": {
            "needs_background": "light"
          }
        }
      ]
    },
    {
      "cell_type": "markdown",
      "metadata": {
        "id": "rM1QK8vl_jrr"
      },
      "source": [
        "# Sampling Approach\n",
        "\n",
        "We will use stratified random samplinng because we are compparing samples of bluecars usage in two different cities, Paris and Enssenne. City column is our strata in this case.. Pick up and drop off stations are unique to postal codes/city. A pick up station can only exists in one postal code or city. Therefore, a car pick up or drop off recorded in a particular station belongs to a unique city. Using only one strata ensures that each record of usage has an equal chance of being selected during sampling. Each stratum has no overlapping sample therefore no bias in the sampling technique.\n",
        "\n",
        "In addition, the sample chosen needs to reflect the structure of the target dataset. Our selected sample should reflect this distribution to ensure that it is as representative to the entire target population as possible. To execute the sampling, we would split the target population into the two stratum and order each record from 1 to N for both Paris and Enssenne stratum. We need the sample size of each strata to be proportionate to the target population size of that particular strata."
      ]
    },
    {
      "cell_type": "code",
      "metadata": {
        "colab": {
          "base_uri": "https://localhost:8080/",
          "height": 205
        },
        "id": "OljsxHBfVxWy",
        "outputId": "c633adcb-960a-46a2-9e43-0b0e7e532e4c"
      },
      "source": [
        "# Stratified sample\n",
        "# We will choose a sample size of 10% of all target records\n",
        "\n",
        "sample = df1.groupby('city', group_keys=False).apply(lambda grouped_subset : grouped_subset.sample(frac=0.1))\n",
        "sample.head()"
      ],
      "execution_count": 33,
      "outputs": [
        {
          "output_type": "execute_result",
          "data": {
            "text/html": [
              "<div>\n",
              "<style scoped>\n",
              "    .dataframe tbody tr th:only-of-type {\n",
              "        vertical-align: middle;\n",
              "    }\n",
              "\n",
              "    .dataframe tbody tr th {\n",
              "        vertical-align: top;\n",
              "    }\n",
              "\n",
              "    .dataframe thead th {\n",
              "        text-align: right;\n",
              "    }\n",
              "</style>\n",
              "<table border=\"1\" class=\"dataframe\">\n",
              "  <thead>\n",
              "    <tr style=\"text-align: right;\">\n",
              "      <th></th>\n",
              "      <th>postal_code</th>\n",
              "      <th>date</th>\n",
              "      <th>daily_data_points</th>\n",
              "      <th>day_of_week</th>\n",
              "      <th>day_type</th>\n",
              "      <th>blue_cars_taken</th>\n",
              "      <th>month</th>\n",
              "      <th>city</th>\n",
              "    </tr>\n",
              "  </thead>\n",
              "  <tbody>\n",
              "    <tr>\n",
              "      <th>3904</th>\n",
              "      <td>91330</td>\n",
              "      <td>2018-01-06</td>\n",
              "      <td>1437</td>\n",
              "      <td>saturday</td>\n",
              "      <td>weekend</td>\n",
              "      <td>6</td>\n",
              "      <td>January</td>\n",
              "      <td>Essonne</td>\n",
              "    </tr>\n",
              "    <tr>\n",
              "      <th>4156</th>\n",
              "      <td>91370</td>\n",
              "      <td>2018-04-15</td>\n",
              "      <td>1439</td>\n",
              "      <td>sunday</td>\n",
              "      <td>weekend</td>\n",
              "      <td>27</td>\n",
              "      <td>April</td>\n",
              "      <td>Essonne</td>\n",
              "    </tr>\n",
              "    <tr>\n",
              "      <th>4141</th>\n",
              "      <td>91370</td>\n",
              "      <td>2018-03-31</td>\n",
              "      <td>1440</td>\n",
              "      <td>saturday</td>\n",
              "      <td>weekend</td>\n",
              "      <td>10</td>\n",
              "      <td>March</td>\n",
              "      <td>Essonne</td>\n",
              "    </tr>\n",
              "    <tr>\n",
              "      <th>4102</th>\n",
              "      <td>91370</td>\n",
              "      <td>2018-02-17</td>\n",
              "      <td>1440</td>\n",
              "      <td>saturday</td>\n",
              "      <td>weekend</td>\n",
              "      <td>26</td>\n",
              "      <td>February</td>\n",
              "      <td>Essonne</td>\n",
              "    </tr>\n",
              "    <tr>\n",
              "      <th>4000</th>\n",
              "      <td>91330</td>\n",
              "      <td>2018-04-15</td>\n",
              "      <td>1439</td>\n",
              "      <td>sunday</td>\n",
              "      <td>weekend</td>\n",
              "      <td>33</td>\n",
              "      <td>April</td>\n",
              "      <td>Essonne</td>\n",
              "    </tr>\n",
              "  </tbody>\n",
              "</table>\n",
              "</div>"
            ],
            "text/plain": [
              "      postal_code       date  ...     month     city\n",
              "3904        91330 2018-01-06  ...   January  Essonne\n",
              "4156        91370 2018-04-15  ...     April  Essonne\n",
              "4141        91370 2018-03-31  ...     March  Essonne\n",
              "4102        91370 2018-02-17  ...  February  Essonne\n",
              "4000        91330 2018-04-15  ...     April  Essonne\n",
              "\n",
              "[5 rows x 8 columns]"
            ]
          },
          "metadata": {},
          "execution_count": 33
        }
      ]
    },
    {
      "cell_type": "code",
      "metadata": {
        "colab": {
          "base_uri": "https://localhost:8080/"
        },
        "id": "zDVRAIJ5WaDW",
        "outputId": "79563f0d-e3d9-4ba6-8e5c-05710e6cfab7"
      },
      "source": [
        "# proportion of the stratified sample\n",
        "sample.city.value_counts()"
      ],
      "execution_count": 34,
      "outputs": [
        {
          "output_type": "execute_result",
          "data": {
            "text/plain": [
              "Paris      97\n",
              "Essonne    13\n",
              "Name: city, dtype: int64"
            ]
          },
          "metadata": {},
          "execution_count": 34
        }
      ]
    },
    {
      "cell_type": "markdown",
      "metadata": {
        "id": "KUbDnrSYpzp5"
      },
      "source": [
        "The sample represents 10% of the population and follows the correct proportion"
      ]
    },
    {
      "cell_type": "code",
      "metadata": {
        "colab": {
          "base_uri": "https://localhost:8080/",
          "height": 355
        },
        "id": "6EXBewVtWfiI",
        "outputId": "03027ce6-b04e-4f53-e410-f7a0b6884ffa"
      },
      "source": [
        "\n",
        "# Performing normality test on the sample selected\n",
        "\n",
        "from statsmodels.graphics.gofplots import qqplot\n",
        "\n",
        "# q-q plot\n",
        "\n",
        "qqplot(sample['blue_cars_taken'], line='s')\n",
        "plt.show()"
      ],
      "execution_count": 35,
      "outputs": [
        {
          "output_type": "stream",
          "name": "stderr",
          "text": [
            "/usr/local/lib/python3.7/dist-packages/statsmodels/tools/_testing.py:19: FutureWarning: pandas.util.testing is deprecated. Use the functions in the public API at pandas.testing instead.\n",
            "  import pandas.util.testing as tm\n"
          ]
        },
        {
          "output_type": "display_data",
          "data": {
            "image/png": "[encoded data removed]",
            "text/plain": [
              "<Figure size 432x288 with 1 Axes>"
            ]
          },
          "metadata": {
            "needs_background": "light"
          }
        }
      ]
    },
    {
      "cell_type": "markdown",
      "metadata": {
        "id": "TpC2QaylXavM"
      },
      "source": [
        "The data is slightly right skewed since the dataset contained a lot of outliers.\n",
        "\n",
        "This will not affect our hypothesis testing that much since we have a relatively large sample size to work with (n=110 which is much higher than 30)."
      ]
    },
    {
      "cell_type": "markdown",
      "metadata": {
        "id": "vOo3THkdFPDZ"
      },
      "source": [
        "**# Hypothesis Testing**\n",
        "\n",
        "To conduct hypothesis testing, we will use a two sample z-test and p-value to either reject or accept the null hypothesis.\n",
        "\n",
        "Below are the reasons why we choose to use the z-test as the appropriate test statistic:\n",
        "\n",
        "The sample size is greater than 30.\n",
        "\n",
        "Data points are independent from each other.\n",
        "\n",
        "The sample data has been randomly selected from a population, so each item has an equal chance of being selected."
      ]
    },
    {
      "cell_type": "code",
      "metadata": {
        "colab": {
          "base_uri": "https://localhost:8080/"
        },
        "id": "_5m7WNJBD7oQ",
        "outputId": "c7fde1ec-e302-497f-c53b-bc73eea0f5d5"
      },
      "source": [
        "# First we need to define the two samples separately\n",
        "\n",
        "paris = sample[(sample['city'] == 'Paris')]\n",
        "essonne = sample[(sample['city'] == 'Essonne')]\n",
        "\n",
        "print(paris)\n",
        "print(essonne)"
      ],
      "execution_count": 36,
      "outputs": [
        {
          "output_type": "stream",
          "name": "stdout",
          "text": [
            "      postal_code       date  ...     month   city\n",
            "2316        75015 2018-05-27  ...       May  Paris\n",
            "2855        75019 2018-02-17  ...  February  Paris\n",
            "3273        75112 2018-06-17  ...      June  Paris\n",
            "359         75003 2018-02-17  ...  February  Paris\n",
            "2440        75016 2018-04-14  ...     April  Paris\n",
            "...           ...        ...  ...       ...    ...\n",
            "1483        75010 2018-03-24  ...     March  Paris\n",
            "2516        75017 2018-01-21  ...   January  Paris\n",
            "125         75001 2018-05-20  ...       May  Paris\n",
            "607         75004 2018-06-03  ...      June  Paris\n",
            "2256        75015 2018-03-17  ...     March  Paris\n",
            "\n",
            "[97 rows x 8 columns]\n",
            "      postal_code       date  ...     month     city\n",
            "3904        91330 2018-01-06  ...   January  Essonne\n",
            "4156        91370 2018-04-15  ...     April  Essonne\n",
            "4141        91370 2018-03-31  ...     March  Essonne\n",
            "4102        91370 2018-02-17  ...  February  Essonne\n",
            "4000        91330 2018-04-15  ...     April  Essonne\n",
            "4170        91370 2018-04-29  ...     April  Essonne\n",
            "4350        91400 2018-06-03  ...      June  Essonne\n",
            "4364        91400 2018-06-17  ...      June  Essonne\n",
            "4259        91400 2018-02-18  ...  February  Essonne\n",
            "4297        91400 2018-03-31  ...     March  Essonne\n",
            "4356        91400 2018-06-09  ...      June  Essonne\n",
            "4333        91400 2018-05-06  ...       May  Essonne\n",
            "4238        91400 2018-01-28  ...   January  Essonne\n",
            "\n",
            "[13 rows x 8 columns]\n"
          ]
        }
      ]
    },
    {
      "cell_type": "markdown",
      "metadata": {
        "id": "9ScDgd-if1vf"
      },
      "source": [
        "\n",
        "# Significance Level\n",
        "The level of significance of a test is the probability of rejecting the null hypothesis when it is true. For this analysis, the significance level chosen is 0.05 or 5% .\n",
        "\n",
        "Because our hypothesis is two tailed, we will divide the significance level by 2 to get 0.025.\n",
        "If the p-value calculated from the test statistic is less than 0.025 then we reject the null hypothesis. If the value is greater than or equal to 0.025 then we accept the null hypothesis."
      ]
    },
    {
      "cell_type": "code",
      "metadata": {
        "colab": {
          "base_uri": "https://localhost:8080/"
        },
        "id": "xicVv4sxcaUR",
        "outputId": "f6ff7c16-a7f1-4ac0-b925-a5c3ea39fd6a"
      },
      "source": [
        "#calculating zscore and p_value\n",
        "from statsmodels.stats.weightstats import ztest as ztest\n",
        "ztest(paris['blue_cars_taken'],essonne['blue_cars_taken'],value=0)"
      ],
      "execution_count": 37,
      "outputs": [
        {
          "output_type": "execute_result",
          "data": {
            "text/plain": [
              "(5.654567558636612, 1.562391358545325e-08)"
            ]
          },
          "metadata": {},
          "execution_count": 37
        }
      ]
    },
    {
      "cell_type": "markdown",
      "metadata": {
        "id": "-AAqjNnBgVGf"
      },
      "source": [
        "from the test above, our p_value(4.16581327576743e-09) is far less than the significance level(0.025) hence we reject the null hypothesis in favor of alternate hypothesis.\n",
        "The difference between bluecars picked in the city of paris and the blue cars picked in the city of Essonne is statistically significant\n",
        "\n"
      ]
    },
    {
      "cell_type": "markdown",
      "metadata": {
        "id": "d9LEBTPQk7Om"
      },
      "source": [
        "# Power of the test"
      ]
    },
    {
      "cell_type": "code",
      "metadata": {
        "id": "TZpXmALXlHDs"
      },
      "source": [
        "#first compute effect size\n",
        "x = paris.blue_cars_taken.mean()\n",
        "y = essonne.blue_cars_taken.mean()\n",
        "z = x-y"
      ],
      "execution_count": 38,
      "outputs": []
    },
    {
      "cell_type": "code",
      "metadata": {
        "colab": {
          "base_uri": "https://localhost:8080/"
        },
        "id": "D-EPWc1CjenR",
        "outputId": "4b9ff16e-ef30-43b1-d118-42717d16aa5c"
      },
      "source": [
        "\n",
        "# Checking the power of the two sample z test\n",
        "\n",
        "from statsmodels.stats.power import zt_ind_solve_power\n",
        "\n",
        "alpha=0.05\n",
        "ratio=(97/13)\n",
        "effect_size= z\n",
        "\n",
        "statistical_power = zt_ind_solve_power(effect_size=effect_size, nobs1=97, alpha=alpha, power=None, ratio=ratio, alternative='two-sided')\n",
        "print(\"The statistical power is: {0}\".format(statistical_power))"
      ],
      "execution_count": 39,
      "outputs": [
        {
          "output_type": "stream",
          "name": "stdout",
          "text": [
            "The statistical power is: 1.0\n"
          ]
        }
      ]
    },
    {
      "cell_type": "markdown",
      "metadata": {
        "id": "Stf5xxBJltzF"
      },
      "source": [
        "The power of the test is 100% hence it is significant we reject null hypothesis"
      ]
    },
    {
      "cell_type": "markdown",
      "metadata": {
        "id": "kF_Liorqvj5g"
      },
      "source": [
        "# Hypothesis Testing Interpretation\n",
        "\n",
        "After calculation the p value of the two sample z test was found to be          4.16581327576743e-09 which is far much less than the significance level(0.025). Therefore, we reject the null hypothesis in favor of alternate hypothesis. This means that the average number of blue cars picked up on weekends is not the same for Paris and that for Essonne. In this case, we accept the alternate hypothesis.\n",
        "\n",
        "The calculated z statistic is 5.877471134260214 against the expected critical value of 1.960. This means that the data points are 5.877471134260214 standard deviations away from the mean. This is further evidence that we need to reject the null hypothesis."
      ]
    },
    {
      "cell_type": "markdown",
      "metadata": {
        "id": "yN_f9CMfygK7"
      },
      "source": [
        "# Project Summary and Conclusions\n",
        "\n",
        "We have successfully defined the null and alternate hypothesis, executed the sampling technique and carried out hypothesis testing which led to the rejection of the null hypothesis. We concluded that the average number of blue cars picked up in Paris is not the same as that in Enssonne.\n",
        "\n",
        "Further investigations need to be carried out to know which causes large gap between bluecars picking in the cities of Paris and Enssonne."
      ]
    },
    {
      "cell_type": "code",
      "metadata": {
        "id": "OfkVcvglkrEb"
      },
      "source": [
        "#interpretation of test statistics results\n",
        "#project summary and conclusions"
      ],
      "execution_count": 40,
      "outputs": []
    }
  ]
}