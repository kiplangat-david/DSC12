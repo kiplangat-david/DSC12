{
  "nbformat": 4,
  "nbformat_minor": 0,
  "metadata": {
    "colab": {
      "name": "DSC-12 IPWEEK2-Kiplangat David",
      "provenance": [],
      "collapsed_sections": [
        "J4wfHZwQrs-t",
        "a9BPYqunry97",
        "7KMRBJ7zr9HD",
        "zSGyg6kWsBUl",
        "HPQviDmNtta8",
        "qjFHK1CKty7o",
        "HSsicSdvt4Zs"
      ],
      "include_colab_link": true
    },
    "kernelspec": {
      "name": "python3",
      "display_name": "Python 3"
    }
  },
  "cells": [
    {
      "cell_type": "markdown",
      "metadata": {
        "id": "view-in-github",
        "colab_type": "text"
      },
      "source": [
        "<a href=\"https://colab.research.google.com/github/kiplangat-david/DSC12/blob/main/DSC_12_IPWEEK2_Kiplangat_David.ipynb\" target=\"_parent\"><img src=\"https://colab.research.google.com/assets/colab-badge.svg\" alt=\"Open In Colab\"/></a>"
      ]
    },
    {
      "cell_type": "markdown",
      "metadata": {
        "id": "yl5dX0V4bHs6"
      },
      "source": [
        "# **Problem Statement**\n",
        "\n",
        "Financial Inclusion remains one of the main obstacles to economic and human development in Africa. For example, across Kenya, Rwanda, Tanzania, and Uganda only 9.1 million adults (or 13.9% of the adult population) have access to or use a commercial bank account."
      ]
    },
    {
      "cell_type": "markdown",
      "metadata": {
        "id": "9ozBnKfehSAw"
      },
      "source": [
        "# **Analytic Question**\n",
        "\n",
        "Which individuals are most likely to have or use a bank account"
      ]
    },
    {
      "cell_type": "markdown",
      "metadata": {
        "id": "J4wfHZwQrs-t"
      },
      "source": [
        "# **Metric for Success**\n",
        "\n",
        "Household size with Bank accounts"
      ]
    },
    {
      "cell_type": "markdown",
      "metadata": {
        "id": "iUNbvIvnT7ep"
      },
      "source": [
        "##  Reading the Data"
      ]
    },
    {
      "cell_type": "code",
      "metadata": {
        "id": "XJn2KjW-WMlG"
      },
      "source": [
        "#imprting libraries\n",
        "import pandas as pd\n",
        "import numpy as np\n",
        "import matplotlib.pyplot as plt\n",
        "import seaborn as sns\n",
        "%matplotlib inline"
      ],
      "execution_count": 75,
      "outputs": []
    },
    {
      "cell_type": "code",
      "metadata": {
        "id": "WFBuesLZVmwp"
      },
      "source": [
        "#loading data\n",
        "df = pd.read_csv('/content/Financial Dataset - 1.csv')"
      ],
      "execution_count": 76,
      "outputs": []
    },
    {
      "cell_type": "markdown",
      "metadata": {
        "id": "OI3P3YnHUEBk"
      },
      "source": [
        "##  Checking the Data"
      ]
    },
    {
      "cell_type": "code",
      "metadata": {
        "id": "YjSVNwgptHxY",
        "colab": {
          "base_uri": "https://localhost:8080/"
        },
        "outputId": "a35c6a65-3a6a-4597-b89c-5827cde305c2"
      },
      "source": [
        "# Determining the no. of records in our dataset\n",
        "#\n",
        "df.shape"
      ],
      "execution_count": 77,
      "outputs": [
        {
          "output_type": "execute_result",
          "data": {
            "text/plain": [
              "(23524, 13)"
            ]
          },
          "metadata": {},
          "execution_count": 77
        }
      ]
    },
    {
      "cell_type": "code",
      "metadata": {
        "id": "xHhTw5eKWr0n",
        "colab": {
          "base_uri": "https://localhost:8080/",
          "height": 335
        },
        "outputId": "05a8becd-0e04-4817-dc34-0802f4197527"
      },
      "source": [
        "# Previewing the top of our dataset\n",
        "#\n",
        "df.head()"
      ],
      "execution_count": 78,
      "outputs": [
        {
          "output_type": "execute_result",
          "data": {
            "text/html": [
              "<div>\n",
              "<style scoped>\n",
              "    .dataframe tbody tr th:only-of-type {\n",
              "        vertical-align: middle;\n",
              "    }\n",
              "\n",
              "    .dataframe tbody tr th {\n",
              "        vertical-align: top;\n",
              "    }\n",
              "\n",
              "    .dataframe thead th {\n",
              "        text-align: right;\n",
              "    }\n",
              "</style>\n",
              "<table border=\"1\" class=\"dataframe\">\n",
              "  <thead>\n",
              "    <tr style=\"text-align: right;\">\n",
              "      <th></th>\n",
              "      <th>country</th>\n",
              "      <th>year</th>\n",
              "      <th>uniqueid</th>\n",
              "      <th>Has a Bank account</th>\n",
              "      <th>Type of Location</th>\n",
              "      <th>Cell Phone Access</th>\n",
              "      <th>household_size</th>\n",
              "      <th>Respondent Age</th>\n",
              "      <th>gender_of_respondent</th>\n",
              "      <th>The relathip with head</th>\n",
              "      <th>marital_status</th>\n",
              "      <th>Level of Educuation</th>\n",
              "      <th>Type of Job</th>\n",
              "    </tr>\n",
              "  </thead>\n",
              "  <tbody>\n",
              "    <tr>\n",
              "      <th>0</th>\n",
              "      <td>Kenya</td>\n",
              "      <td>2018</td>\n",
              "      <td>uniqueid_1</td>\n",
              "      <td>Yes</td>\n",
              "      <td>Rural</td>\n",
              "      <td>Yes</td>\n",
              "      <td>3.0</td>\n",
              "      <td>24.0</td>\n",
              "      <td>Female</td>\n",
              "      <td>Spouse</td>\n",
              "      <td>Married/Living together</td>\n",
              "      <td>Secondary education</td>\n",
              "      <td>Self employed</td>\n",
              "    </tr>\n",
              "    <tr>\n",
              "      <th>1</th>\n",
              "      <td>Kenya</td>\n",
              "      <td>2018</td>\n",
              "      <td>uniqueid_2</td>\n",
              "      <td>No</td>\n",
              "      <td>Rural</td>\n",
              "      <td>No</td>\n",
              "      <td>5.0</td>\n",
              "      <td>70.0</td>\n",
              "      <td>Female</td>\n",
              "      <td>Head of Household</td>\n",
              "      <td>Widowed</td>\n",
              "      <td>No formal education</td>\n",
              "      <td>Government Dependent</td>\n",
              "    </tr>\n",
              "    <tr>\n",
              "      <th>2</th>\n",
              "      <td>Kenya</td>\n",
              "      <td>2018</td>\n",
              "      <td>uniqueid_3</td>\n",
              "      <td>Yes</td>\n",
              "      <td>Urban</td>\n",
              "      <td>Yes</td>\n",
              "      <td>5.0</td>\n",
              "      <td>26.0</td>\n",
              "      <td>Male</td>\n",
              "      <td>Other relative</td>\n",
              "      <td>Single/Never Married</td>\n",
              "      <td>Vocational/Specialised training</td>\n",
              "      <td>Self employed</td>\n",
              "    </tr>\n",
              "    <tr>\n",
              "      <th>3</th>\n",
              "      <td>Kenya</td>\n",
              "      <td>2018</td>\n",
              "      <td>uniqueid_4</td>\n",
              "      <td>No</td>\n",
              "      <td>Rural</td>\n",
              "      <td>Yes</td>\n",
              "      <td>5.0</td>\n",
              "      <td>34.0</td>\n",
              "      <td>Female</td>\n",
              "      <td>Head of Household</td>\n",
              "      <td>Married/Living together</td>\n",
              "      <td>Primary education</td>\n",
              "      <td>Formally employed Private</td>\n",
              "    </tr>\n",
              "    <tr>\n",
              "      <th>4</th>\n",
              "      <td>Kenya</td>\n",
              "      <td>2018</td>\n",
              "      <td>uniqueid_5</td>\n",
              "      <td>No</td>\n",
              "      <td>Urban</td>\n",
              "      <td>No</td>\n",
              "      <td>8.0</td>\n",
              "      <td>26.0</td>\n",
              "      <td>Male</td>\n",
              "      <td>Child</td>\n",
              "      <td>Single/Never Married</td>\n",
              "      <td>Primary education</td>\n",
              "      <td>Informally employed</td>\n",
              "    </tr>\n",
              "  </tbody>\n",
              "</table>\n",
              "</div>"
            ],
            "text/plain": [
              "  country  year  ...              Level of Educuation                Type of Job\n",
              "0   Kenya  2018  ...              Secondary education              Self employed\n",
              "1   Kenya  2018  ...              No formal education       Government Dependent\n",
              "2   Kenya  2018  ...  Vocational/Specialised training              Self employed\n",
              "3   Kenya  2018  ...                Primary education  Formally employed Private\n",
              "4   Kenya  2018  ...                Primary education        Informally employed\n",
              "\n",
              "[5 rows x 13 columns]"
            ]
          },
          "metadata": {},
          "execution_count": 78
        }
      ]
    },
    {
      "cell_type": "code",
      "metadata": {
        "id": "e9AzGcZFrIIr",
        "colab": {
          "base_uri": "https://localhost:8080/",
          "height": 318
        },
        "outputId": "b9af98ff-6c8e-4257-b2c9-346f31bde2fc"
      },
      "source": [
        "# Previewing the bottom of our dataset\n",
        "# \n",
        "df.tail()"
      ],
      "execution_count": 79,
      "outputs": [
        {
          "output_type": "execute_result",
          "data": {
            "text/html": [
              "<div>\n",
              "<style scoped>\n",
              "    .dataframe tbody tr th:only-of-type {\n",
              "        vertical-align: middle;\n",
              "    }\n",
              "\n",
              "    .dataframe tbody tr th {\n",
              "        vertical-align: top;\n",
              "    }\n",
              "\n",
              "    .dataframe thead th {\n",
              "        text-align: right;\n",
              "    }\n",
              "</style>\n",
              "<table border=\"1\" class=\"dataframe\">\n",
              "  <thead>\n",
              "    <tr style=\"text-align: right;\">\n",
              "      <th></th>\n",
              "      <th>country</th>\n",
              "      <th>year</th>\n",
              "      <th>uniqueid</th>\n",
              "      <th>Has a Bank account</th>\n",
              "      <th>Type of Location</th>\n",
              "      <th>Cell Phone Access</th>\n",
              "      <th>household_size</th>\n",
              "      <th>Respondent Age</th>\n",
              "      <th>gender_of_respondent</th>\n",
              "      <th>The relathip with head</th>\n",
              "      <th>marital_status</th>\n",
              "      <th>Level of Educuation</th>\n",
              "      <th>Type of Job</th>\n",
              "    </tr>\n",
              "  </thead>\n",
              "  <tbody>\n",
              "    <tr>\n",
              "      <th>23519</th>\n",
              "      <td>Uganda</td>\n",
              "      <td>2018</td>\n",
              "      <td>uniqueid_2113</td>\n",
              "      <td>No</td>\n",
              "      <td>Rural</td>\n",
              "      <td>Yes</td>\n",
              "      <td>4.0</td>\n",
              "      <td>48.0</td>\n",
              "      <td>Female</td>\n",
              "      <td>Head of Household</td>\n",
              "      <td>Divorced/Seperated</td>\n",
              "      <td>No formal education</td>\n",
              "      <td>Other Income</td>\n",
              "    </tr>\n",
              "    <tr>\n",
              "      <th>23520</th>\n",
              "      <td>Uganda</td>\n",
              "      <td>2018</td>\n",
              "      <td>uniqueid_2114</td>\n",
              "      <td>No</td>\n",
              "      <td>Rural</td>\n",
              "      <td>Yes</td>\n",
              "      <td>2.0</td>\n",
              "      <td>27.0</td>\n",
              "      <td>Female</td>\n",
              "      <td>Head of Household</td>\n",
              "      <td>Single/Never Married</td>\n",
              "      <td>Secondary education</td>\n",
              "      <td>Other Income</td>\n",
              "    </tr>\n",
              "    <tr>\n",
              "      <th>23521</th>\n",
              "      <td>Uganda</td>\n",
              "      <td>2018</td>\n",
              "      <td>uniqueid_2115</td>\n",
              "      <td>No</td>\n",
              "      <td>Rural</td>\n",
              "      <td>Yes</td>\n",
              "      <td>5.0</td>\n",
              "      <td>27.0</td>\n",
              "      <td>Female</td>\n",
              "      <td>Parent</td>\n",
              "      <td>Widowed</td>\n",
              "      <td>Primary education</td>\n",
              "      <td>Other Income</td>\n",
              "    </tr>\n",
              "    <tr>\n",
              "      <th>23522</th>\n",
              "      <td>Uganda</td>\n",
              "      <td>2018</td>\n",
              "      <td>uniqueid_2116</td>\n",
              "      <td>No</td>\n",
              "      <td>Urban</td>\n",
              "      <td>Yes</td>\n",
              "      <td>7.0</td>\n",
              "      <td>30.0</td>\n",
              "      <td>Female</td>\n",
              "      <td>Parent</td>\n",
              "      <td>Divorced/Seperated</td>\n",
              "      <td>Secondary education</td>\n",
              "      <td>Self employed</td>\n",
              "    </tr>\n",
              "    <tr>\n",
              "      <th>23523</th>\n",
              "      <td>Uganda</td>\n",
              "      <td>2018</td>\n",
              "      <td>uniqueid_2117</td>\n",
              "      <td>No</td>\n",
              "      <td>Rural</td>\n",
              "      <td>Yes</td>\n",
              "      <td>10.0</td>\n",
              "      <td>20.0</td>\n",
              "      <td>Male</td>\n",
              "      <td>Child</td>\n",
              "      <td>Single/Never Married</td>\n",
              "      <td>Secondary education</td>\n",
              "      <td>No Income</td>\n",
              "    </tr>\n",
              "  </tbody>\n",
              "</table>\n",
              "</div>"
            ],
            "text/plain": [
              "      country  year  ...  Level of Educuation    Type of Job\n",
              "23519  Uganda  2018  ...  No formal education   Other Income\n",
              "23520  Uganda  2018  ...  Secondary education   Other Income\n",
              "23521  Uganda  2018  ...    Primary education   Other Income\n",
              "23522  Uganda  2018  ...  Secondary education  Self employed\n",
              "23523  Uganda  2018  ...  Secondary education      No Income\n",
              "\n",
              "[5 rows x 13 columns]"
            ]
          },
          "metadata": {},
          "execution_count": 79
        }
      ]
    },
    {
      "cell_type": "code",
      "metadata": {
        "id": "n8-dW4sQWzbc",
        "colab": {
          "base_uri": "https://localhost:8080/"
        },
        "outputId": "d0f78d65-2c3e-4b7f-8c5d-86223d2bf1a9"
      },
      "source": [
        "# Checking whether each column has an appropriate datatype\n",
        "#\n",
        "df.info()"
      ],
      "execution_count": 80,
      "outputs": [
        {
          "output_type": "stream",
          "name": "stdout",
          "text": [
            "<class 'pandas.core.frame.DataFrame'>\n",
            "RangeIndex: 23524 entries, 0 to 23523\n",
            "Data columns (total 13 columns):\n",
            " #   Column                  Non-Null Count  Dtype  \n",
            "---  ------                  --------------  -----  \n",
            " 0   country                 23510 non-null  object \n",
            " 1   year                    23524 non-null  int64  \n",
            " 2   uniqueid                23524 non-null  object \n",
            " 3   Has a Bank account      23488 non-null  object \n",
            " 4   Type of Location        23509 non-null  object \n",
            " 5   Cell Phone Access       23513 non-null  object \n",
            " 6   household_size          23496 non-null  float64\n",
            " 7   Respondent Age          23490 non-null  float64\n",
            " 8   gender_of_respondent    23490 non-null  object \n",
            " 9   The relathip with head  23520 non-null  object \n",
            " 10  marital_status          23492 non-null  object \n",
            " 11  Level of Educuation     23495 non-null  object \n",
            " 12  Type of Job             23494 non-null  object \n",
            "dtypes: float64(2), int64(1), object(10)\n",
            "memory usage: 2.3+ MB\n"
          ]
        }
      ]
    },
    {
      "cell_type": "markdown",
      "metadata": {
        "id": "ckfufNrcUHeH"
      },
      "source": [
        "## External Data Source Validation"
      ]
    },
    {
      "cell_type": "markdown",
      "metadata": {
        "id": "6L4sl_0WXlbg"
      },
      "source": [
        "# Data is valid. It matches https://zindi.africa/competitions/financial-inclusion-in-africa/data from Zindi Africa\n"
      ]
    },
    {
      "cell_type": "markdown",
      "metadata": {
        "id": "FlBMxEDBUc9B"
      },
      "source": [
        "**# DATA CLEANING**"
      ]
    },
    {
      "cell_type": "code",
      "metadata": {
        "id": "QARJAQq661-Z"
      },
      "source": [
        "#drop unnecessary columns\n",
        "df.drop(['uniqueid'],axis=1, inplace=True)"
      ],
      "execution_count": 81,
      "outputs": []
    },
    {
      "cell_type": "code",
      "metadata": {
        "id": "8O7ZLpiYAjpC"
      },
      "source": [
        "df.drop(['The relathip with head'],axis=1, inplace=True)"
      ],
      "execution_count": 82,
      "outputs": []
    },
    {
      "cell_type": "code",
      "metadata": {
        "colab": {
          "base_uri": "https://localhost:8080/",
          "height": 160
        },
        "id": "d3H7aFV_92Vf",
        "outputId": "aada1ccb-6bc3-4b3e-b624-11bfba9af740"
      },
      "source": [
        "df.head(2)"
      ],
      "execution_count": 83,
      "outputs": [
        {
          "output_type": "execute_result",
          "data": {
            "text/html": [
              "<div>\n",
              "<style scoped>\n",
              "    .dataframe tbody tr th:only-of-type {\n",
              "        vertical-align: middle;\n",
              "    }\n",
              "\n",
              "    .dataframe tbody tr th {\n",
              "        vertical-align: top;\n",
              "    }\n",
              "\n",
              "    .dataframe thead th {\n",
              "        text-align: right;\n",
              "    }\n",
              "</style>\n",
              "<table border=\"1\" class=\"dataframe\">\n",
              "  <thead>\n",
              "    <tr style=\"text-align: right;\">\n",
              "      <th></th>\n",
              "      <th>country</th>\n",
              "      <th>year</th>\n",
              "      <th>Has a Bank account</th>\n",
              "      <th>Type of Location</th>\n",
              "      <th>Cell Phone Access</th>\n",
              "      <th>household_size</th>\n",
              "      <th>Respondent Age</th>\n",
              "      <th>gender_of_respondent</th>\n",
              "      <th>marital_status</th>\n",
              "      <th>Level of Educuation</th>\n",
              "      <th>Type of Job</th>\n",
              "    </tr>\n",
              "  </thead>\n",
              "  <tbody>\n",
              "    <tr>\n",
              "      <th>0</th>\n",
              "      <td>Kenya</td>\n",
              "      <td>2018</td>\n",
              "      <td>Yes</td>\n",
              "      <td>Rural</td>\n",
              "      <td>Yes</td>\n",
              "      <td>3.0</td>\n",
              "      <td>24.0</td>\n",
              "      <td>Female</td>\n",
              "      <td>Married/Living together</td>\n",
              "      <td>Secondary education</td>\n",
              "      <td>Self employed</td>\n",
              "    </tr>\n",
              "    <tr>\n",
              "      <th>1</th>\n",
              "      <td>Kenya</td>\n",
              "      <td>2018</td>\n",
              "      <td>No</td>\n",
              "      <td>Rural</td>\n",
              "      <td>No</td>\n",
              "      <td>5.0</td>\n",
              "      <td>70.0</td>\n",
              "      <td>Female</td>\n",
              "      <td>Widowed</td>\n",
              "      <td>No formal education</td>\n",
              "      <td>Government Dependent</td>\n",
              "    </tr>\n",
              "  </tbody>\n",
              "</table>\n",
              "</div>"
            ],
            "text/plain": [
              "  country  year  ...  Level of Educuation           Type of Job\n",
              "0   Kenya  2018  ...  Secondary education         Self employed\n",
              "1   Kenya  2018  ...  No formal education  Government Dependent\n",
              "\n",
              "[2 rows x 11 columns]"
            ]
          },
          "metadata": {},
          "execution_count": 83
        }
      ]
    },
    {
      "cell_type": "code",
      "metadata": {
        "id": "bRqKv8O897Xg"
      },
      "source": [
        "#rename columns\n",
        "df.columns =['country',\t'year',\t'has_bank_account',\t'location_type',\t'cell_phone_access',\t'household_size',\t'respondent_age',\t'gender_of_respondent',\t'marital_status', 'education_level', 'job_type']\n"
      ],
      "execution_count": 84,
      "outputs": []
    },
    {
      "cell_type": "code",
      "metadata": {
        "colab": {
          "base_uri": "https://localhost:8080/",
          "height": 143
        },
        "id": "ln0iRxzDBQ4l",
        "outputId": "35030610-d925-4945-ab00-d85c3286b30d"
      },
      "source": [
        "#check if columns were correctly renamed\n",
        "df.head(2)"
      ],
      "execution_count": 85,
      "outputs": [
        {
          "output_type": "execute_result",
          "data": {
            "text/html": [
              "<div>\n",
              "<style scoped>\n",
              "    .dataframe tbody tr th:only-of-type {\n",
              "        vertical-align: middle;\n",
              "    }\n",
              "\n",
              "    .dataframe tbody tr th {\n",
              "        vertical-align: top;\n",
              "    }\n",
              "\n",
              "    .dataframe thead th {\n",
              "        text-align: right;\n",
              "    }\n",
              "</style>\n",
              "<table border=\"1\" class=\"dataframe\">\n",
              "  <thead>\n",
              "    <tr style=\"text-align: right;\">\n",
              "      <th></th>\n",
              "      <th>country</th>\n",
              "      <th>year</th>\n",
              "      <th>has_bank_account</th>\n",
              "      <th>location_type</th>\n",
              "      <th>cell_phone_access</th>\n",
              "      <th>household_size</th>\n",
              "      <th>respondent_age</th>\n",
              "      <th>gender_of_respondent</th>\n",
              "      <th>marital_status</th>\n",
              "      <th>education_level</th>\n",
              "      <th>job_type</th>\n",
              "    </tr>\n",
              "  </thead>\n",
              "  <tbody>\n",
              "    <tr>\n",
              "      <th>0</th>\n",
              "      <td>Kenya</td>\n",
              "      <td>2018</td>\n",
              "      <td>Yes</td>\n",
              "      <td>Rural</td>\n",
              "      <td>Yes</td>\n",
              "      <td>3.0</td>\n",
              "      <td>24.0</td>\n",
              "      <td>Female</td>\n",
              "      <td>Married/Living together</td>\n",
              "      <td>Secondary education</td>\n",
              "      <td>Self employed</td>\n",
              "    </tr>\n",
              "    <tr>\n",
              "      <th>1</th>\n",
              "      <td>Kenya</td>\n",
              "      <td>2018</td>\n",
              "      <td>No</td>\n",
              "      <td>Rural</td>\n",
              "      <td>No</td>\n",
              "      <td>5.0</td>\n",
              "      <td>70.0</td>\n",
              "      <td>Female</td>\n",
              "      <td>Widowed</td>\n",
              "      <td>No formal education</td>\n",
              "      <td>Government Dependent</td>\n",
              "    </tr>\n",
              "  </tbody>\n",
              "</table>\n",
              "</div>"
            ],
            "text/plain": [
              "  country  year  ...      education_level              job_type\n",
              "0   Kenya  2018  ...  Secondary education         Self employed\n",
              "1   Kenya  2018  ...  No formal education  Government Dependent\n",
              "\n",
              "[2 rows x 11 columns]"
            ]
          },
          "metadata": {},
          "execution_count": 85
        }
      ]
    },
    {
      "cell_type": "code",
      "metadata": {
        "id": "5o_bQcT5W3Wz",
        "colab": {
          "base_uri": "https://localhost:8080/",
          "height": 353
        },
        "outputId": "aafcda61-c648-418a-85e3-38cd46fbcff1"
      },
      "source": [
        "# Checking for Outliers\n",
        "#household size\n",
        "sns.boxplot(df['household_size'])"
      ],
      "execution_count": 86,
      "outputs": [
        {
          "output_type": "stream",
          "name": "stderr",
          "text": [
            "/usr/local/lib/python3.7/dist-packages/seaborn/_decorators.py:43: FutureWarning: Pass the following variable as a keyword arg: x. From version 0.12, the only valid positional argument will be `data`, and passing other arguments without an explicit keyword will result in an error or misinterpretation.\n",
            "  FutureWarning\n"
          ]
        },
        {
          "output_type": "execute_result",
          "data": {
            "text/plain": [
              "<matplotlib.axes._subplots.AxesSubplot at 0x7fcf37f7ef10>"
            ]
          },
          "metadata": {},
          "execution_count": 86
        },
        {
          "output_type": "display_data",
          "data": {
            "image/png": "[encoded data removed]",
            "text/plain": [
              "<Figure size 432x288 with 1 Axes>"
            ]
          },
          "metadata": {
            "needs_background": "light"
          }
        }
      ]
    },
    {
      "cell_type": "markdown",
      "metadata": {
        "id": "03-_nednN5tI"
      },
      "source": [
        "The dots represents outliers. Household_size contains outliers\n"
      ]
    },
    {
      "cell_type": "code",
      "metadata": {
        "colab": {
          "base_uri": "https://localhost:8080/",
          "height": 353
        },
        "id": "7dc7FWMtYBYR",
        "outputId": "3191b63e-40f2-46f2-c097-120114b05f08"
      },
      "source": [
        "#checking for age outliers \n",
        "sns.boxplot(df['respondent_age'])"
      ],
      "execution_count": 87,
      "outputs": [
        {
          "output_type": "stream",
          "name": "stderr",
          "text": [
            "/usr/local/lib/python3.7/dist-packages/seaborn/_decorators.py:43: FutureWarning: Pass the following variable as a keyword arg: x. From version 0.12, the only valid positional argument will be `data`, and passing other arguments without an explicit keyword will result in an error or misinterpretation.\n",
            "  FutureWarning\n"
          ]
        },
        {
          "output_type": "execute_result",
          "data": {
            "text/plain": [
              "<matplotlib.axes._subplots.AxesSubplot at 0x7fcf31ae9750>"
            ]
          },
          "metadata": {},
          "execution_count": 87
        },
        {
          "output_type": "display_data",
          "data": {
            "image/png": "[encoded data removed]",
            "text/plain": [
              "<Figure size 432x288 with 1 Axes>"
            ]
          },
          "metadata": {
            "needs_background": "light"
          }
        }
      ]
    },
    {
      "cell_type": "markdown",
      "metadata": {
        "id": "IVgPbRc_OVLH"
      },
      "source": [
        "ages of respondents also have outliers"
      ]
    },
    {
      "cell_type": "code",
      "metadata": {
        "id": "0Rc7I8pfOpWi"
      },
      "source": [
        "#checking for anomalies\n",
        "#most columns contain 'nan' as anomalies which will be dropped\n"
      ],
      "execution_count": null,
      "outputs": []
    },
    {
      "cell_type": "code",
      "metadata": {
        "id": "PWlukLKUvFQN",
        "colab": {
          "base_uri": "https://localhost:8080/"
        },
        "outputId": "4b904c7e-9c02-4e4f-9d3a-5fea1c020694"
      },
      "source": [
        "\n",
        "df.country.unique()"
      ],
      "execution_count": 88,
      "outputs": [
        {
          "output_type": "execute_result",
          "data": {
            "text/plain": [
              "array(['Kenya', 'Rwanda', 'Tanzania', nan, 'Uganda'], dtype=object)"
            ]
          },
          "metadata": {},
          "execution_count": 88
        }
      ]
    },
    {
      "cell_type": "code",
      "metadata": {
        "colab": {
          "base_uri": "https://localhost:8080/"
        },
        "id": "77zHQD_6Ekzn",
        "outputId": "f4c2244d-376f-4ff1-df95-9adcad6f4060"
      },
      "source": [
        "df.has_bank_account.unique()"
      ],
      "execution_count": 89,
      "outputs": [
        {
          "output_type": "execute_result",
          "data": {
            "text/plain": [
              "array(['Yes', 'No', nan], dtype=object)"
            ]
          },
          "metadata": {},
          "execution_count": 89
        }
      ]
    },
    {
      "cell_type": "code",
      "metadata": {
        "colab": {
          "base_uri": "https://localhost:8080/"
        },
        "id": "TZO9EfnVEvYJ",
        "outputId": "7d711e73-0824-43fe-ee69-0f34fe1de242"
      },
      "source": [
        "df.location_type.unique()"
      ],
      "execution_count": 90,
      "outputs": [
        {
          "output_type": "execute_result",
          "data": {
            "text/plain": [
              "array(['Rural', 'Urban', nan], dtype=object)"
            ]
          },
          "metadata": {},
          "execution_count": 90
        }
      ]
    },
    {
      "cell_type": "code",
      "metadata": {
        "colab": {
          "base_uri": "https://localhost:8080/"
        },
        "id": "Gpi2rvRiFDST",
        "outputId": "a1d32a38-6d9a-4c77-b262-8eb829abeb1e"
      },
      "source": [
        "df.gender_of_respondent.unique()"
      ],
      "execution_count": 91,
      "outputs": [
        {
          "output_type": "execute_result",
          "data": {
            "text/plain": [
              "array(['Female', 'Male', nan], dtype=object)"
            ]
          },
          "metadata": {},
          "execution_count": 91
        }
      ]
    },
    {
      "cell_type": "code",
      "metadata": {
        "colab": {
          "base_uri": "https://localhost:8080/"
        },
        "id": "7baOMRzyFIKu",
        "outputId": "8b9bc92f-ea00-4c90-f7b7-c1e160119d58"
      },
      "source": [
        "df.respondent_age.unique()"
      ],
      "execution_count": 92,
      "outputs": [
        {
          "output_type": "execute_result",
          "data": {
            "text/plain": [
              "array([ 24.,  70.,  26.,  34.,  32.,  42.,  54.,  76.,  40.,  69.,  64.,\n",
              "        31.,  38.,  47.,  27.,  48.,  25.,  21.,  18.,  22.,  58.,  55.,\n",
              "        62.,  29.,  35.,  45.,  67.,  19.,  80.,  66.,  50.,  33.,  28.,\n",
              "        51.,  16.,  17.,  30.,  37.,  59.,  65.,  46.,  56.,  52.,  23.,\n",
              "        43.,  49.,  44.,  72.,  53.,  63.,  39.,  81.,  78.,  36.,  20.,\n",
              "        60.,  95.,  71.,  57.,  85.,  68.,  41.,  61.,  75.,  86.,  73.,\n",
              "        nan,  93.,  74.,  88.,  90.,  77.,  84.,  82.,  89.,  79.,  83.,\n",
              "        94.,  87.,  92.,  91.,  98.,  97.,  96.,  99., 100.])"
            ]
          },
          "metadata": {},
          "execution_count": 92
        }
      ]
    },
    {
      "cell_type": "code",
      "metadata": {
        "colab": {
          "base_uri": "https://localhost:8080/"
        },
        "id": "1ndBkxYHMpkm",
        "outputId": "15aba2c6-4e61-4c8c-a616-4eaee5ee131d"
      },
      "source": [
        "df.year.unique()"
      ],
      "execution_count": 93,
      "outputs": [
        {
          "output_type": "execute_result",
          "data": {
            "text/plain": [
              "array([2018, 2029, 2056, 2016, 2039, 2017])"
            ]
          },
          "metadata": {},
          "execution_count": 93
        }
      ]
    },
    {
      "cell_type": "code",
      "metadata": {
        "colab": {
          "base_uri": "https://localhost:8080/"
        },
        "id": "XlPYjRBXM2J9",
        "outputId": "f25e0f85-da6d-40a3-fdb1-926208dcb116"
      },
      "source": [
        "#dealing with year anomalies\n",
        "#drop 2029,2056,2039\n",
        "\n",
        "anomaly = df[df['year'] > 2018].index\n",
        "df\n",
        "df = df.drop(anomaly)\n",
        "df['year'].unique()"
      ],
      "execution_count": 339,
      "outputs": [
        {
          "output_type": "execute_result",
          "data": {
            "text/plain": [
              "array([2018, 2016, 2017])"
            ]
          },
          "metadata": {},
          "execution_count": 339
        }
      ]
    },
    {
      "cell_type": "code",
      "metadata": {
        "id": "PvCYb6dgW4yh",
        "colab": {
          "base_uri": "https://localhost:8080/"
        },
        "outputId": "5b0ee578-9d25-48dc-f50b-82047eb1c1b4"
      },
      "source": [
        "# Identifying the Missing Data\n",
        "#\n",
        "df.isnull().sum()"
      ],
      "execution_count": 95,
      "outputs": [
        {
          "output_type": "execute_result",
          "data": {
            "text/plain": [
              "country                 14\n",
              "year                     0\n",
              "has_bank_account        36\n",
              "location_type           15\n",
              "cell_phone_access       11\n",
              "household_size          28\n",
              "respondent_age          34\n",
              "gender_of_respondent    34\n",
              "marital_status          32\n",
              "education_level         29\n",
              "job_type                30\n",
              "dtype: int64"
            ]
          },
          "metadata": {},
          "execution_count": 95
        }
      ]
    },
    {
      "cell_type": "markdown",
      "metadata": {
        "id": "CMfpHibUPt_p"
      },
      "source": [
        "The data contains missing values which will be dropped"
      ]
    },
    {
      "cell_type": "code",
      "metadata": {
        "id": "MpsDGKZHsf_W"
      },
      "source": [
        "# Dealing with the Missing Data\n",
        "#drop missing values\n",
        "df.dropna(inplace=True)"
      ],
      "execution_count": 96,
      "outputs": []
    },
    {
      "cell_type": "code",
      "metadata": {
        "colab": {
          "base_uri": "https://localhost:8080/"
        },
        "id": "LHQvJAfqGZsb",
        "outputId": "e149d5b8-dc4a-490e-b734-272911c796d4"
      },
      "source": [
        "#check if missing values were dropped\n",
        "df.isnull().sum()"
      ],
      "execution_count": 97,
      "outputs": [
        {
          "output_type": "execute_result",
          "data": {
            "text/plain": [
              "country                 0\n",
              "year                    0\n",
              "has_bank_account        0\n",
              "location_type           0\n",
              "cell_phone_access       0\n",
              "household_size          0\n",
              "respondent_age          0\n",
              "gender_of_respondent    0\n",
              "marital_status          0\n",
              "education_level         0\n",
              "job_type                0\n",
              "dtype: int64"
            ]
          },
          "metadata": {},
          "execution_count": 97
        }
      ]
    },
    {
      "cell_type": "markdown",
      "metadata": {
        "id": "wUfdmgRBQFhi"
      },
      "source": [
        "zeros shows that missing values were actuually dropped"
      ]
    },
    {
      "cell_type": "code",
      "metadata": {
        "id": "D-4I__6Os4C5",
        "colab": {
          "base_uri": "https://localhost:8080/"
        },
        "outputId": "f5d27e2c-7ee5-486f-fcf7-b24579fb37d1"
      },
      "source": [
        "# check duplicates\n",
        "#\n",
        "df.duplicated().sum()"
      ],
      "execution_count": 98,
      "outputs": [
        {
          "output_type": "execute_result",
          "data": {
            "text/plain": [
              "4931"
            ]
          },
          "metadata": {},
          "execution_count": 98
        }
      ]
    },
    {
      "cell_type": "markdown",
      "metadata": {
        "id": "N2oScW1lQOgN"
      },
      "source": [
        "I chose to retain duplicates because they are significant in our study"
      ]
    },
    {
      "cell_type": "markdown",
      "metadata": {
        "id": "rF2ABPsHUtbZ"
      },
      "source": [
        "# **`EXPLORATORY ANALYSIS`**"
      ]
    },
    {
      "cell_type": "markdown",
      "metadata": {
        "id": "rwWtKixpGhvI"
      },
      "source": [
        "# `**(i) UNIVARIATE ANALYSIS**`"
      ]
    },
    {
      "cell_type": "markdown",
      "metadata": {
        "id": "Na-Jg2T4UXR7"
      },
      "source": [
        "***Measures of central tendency***"
      ]
    },
    {
      "cell_type": "code",
      "metadata": {
        "colab": {
          "base_uri": "https://localhost:8080/"
        },
        "id": "MOncFIt-iXPb",
        "outputId": "b439f7ab-a9ed-4557-ca6e-392f1c8a678c"
      },
      "source": [
        "#household_size mean\n",
        "df['household_size'].mean()\n"
      ],
      "execution_count": 151,
      "outputs": [
        {
          "output_type": "execute_result",
          "data": {
            "text/plain": [
              "3.688560411311054"
            ]
          },
          "metadata": {},
          "execution_count": 151
        }
      ]
    },
    {
      "cell_type": "code",
      "metadata": {
        "colab": {
          "base_uri": "https://localhost:8080/"
        },
        "id": "RNEeLhB_SEyO",
        "outputId": "db5df867-7ed5-494a-cfda-041b22d55c67"
      },
      "source": [
        "#respondent_age mean\n",
        "df['respondent_age'].mean()"
      ],
      "execution_count": 152,
      "outputs": [
        {
          "output_type": "execute_result",
          "data": {
            "text/plain": [
              "38.80706940874036"
            ]
          },
          "metadata": {},
          "execution_count": 152
        }
      ]
    },
    {
      "cell_type": "code",
      "metadata": {
        "colab": {
          "base_uri": "https://localhost:8080/"
        },
        "id": "UGTbcfOUIxgC",
        "outputId": "03374b55-c2c4-4bd6-ca40-e28a4f8fe937"
      },
      "source": [
        "#county mode\n",
        "df['country'].mode()"
      ],
      "execution_count": 153,
      "outputs": [
        {
          "output_type": "execute_result",
          "data": {
            "text/plain": [
              "0    Rwanda\n",
              "dtype: object"
            ]
          },
          "metadata": {},
          "execution_count": 153
        }
      ]
    },
    {
      "cell_type": "code",
      "metadata": {
        "colab": {
          "base_uri": "https://localhost:8080/"
        },
        "id": "2cS_zEY9Nram",
        "outputId": "0c2fa526-c0d3-4df8-e707-e492eaf2be9a"
      },
      "source": [
        "#year mode\n",
        "df['year'].mode()"
      ],
      "execution_count": 154,
      "outputs": [
        {
          "output_type": "execute_result",
          "data": {
            "text/plain": [
              "0    2016\n",
              "dtype: int64"
            ]
          },
          "metadata": {},
          "execution_count": 154
        }
      ]
    },
    {
      "cell_type": "code",
      "metadata": {
        "colab": {
          "base_uri": "https://localhost:8080/"
        },
        "id": "wLQfhAyVI5jD",
        "outputId": "42169e86-d150-4740-83d8-166d8bc5830c"
      },
      "source": [
        "#has bank account mode\n",
        "df['has_bank_account'].mode()"
      ],
      "execution_count": 104,
      "outputs": [
        {
          "output_type": "execute_result",
          "data": {
            "text/plain": [
              "0    No\n",
              "dtype: object"
            ]
          },
          "metadata": {},
          "execution_count": 104
        }
      ]
    },
    {
      "cell_type": "code",
      "metadata": {
        "colab": {
          "base_uri": "https://localhost:8080/"
        },
        "id": "RNxMH4ZgI-vo",
        "outputId": "d7a08caa-4a4d-4122-8d26-f8fcd4fb00e8"
      },
      "source": [
        "#location type mode\n",
        "df['location_type'].mode()"
      ],
      "execution_count": 155,
      "outputs": [
        {
          "output_type": "execute_result",
          "data": {
            "text/plain": [
              "0    Rural\n",
              "dtype: object"
            ]
          },
          "metadata": {},
          "execution_count": 155
        }
      ]
    },
    {
      "cell_type": "code",
      "metadata": {
        "colab": {
          "base_uri": "https://localhost:8080/"
        },
        "id": "xIjkTp_RJDuz",
        "outputId": "98dce937-64e3-4a2c-f272-f09c55bf11f9"
      },
      "source": [
        "#respondent age mode\n",
        "df['respondent_age'].mode()"
      ],
      "execution_count": 156,
      "outputs": [
        {
          "output_type": "execute_result",
          "data": {
            "text/plain": [
              "0    30.0\n",
              "dtype: float64"
            ]
          },
          "metadata": {},
          "execution_count": 156
        }
      ]
    },
    {
      "cell_type": "code",
      "metadata": {
        "colab": {
          "base_uri": "https://localhost:8080/"
        },
        "id": "Y19-0t40Jhf8",
        "outputId": "7affa474-5752-4229-b169-acebcf423420"
      },
      "source": [
        "#gender of respondent mode\n",
        "df['gender_of_respondent'].mode()"
      ],
      "execution_count": 157,
      "outputs": [
        {
          "output_type": "execute_result",
          "data": {
            "text/plain": [
              "0    Female\n",
              "dtype: object"
            ]
          },
          "metadata": {},
          "execution_count": 157
        }
      ]
    },
    {
      "cell_type": "code",
      "metadata": {
        "colab": {
          "base_uri": "https://localhost:8080/"
        },
        "id": "o4Ln172fJo2q",
        "outputId": "f9c92f59-8a1e-4488-c46e-92cc458bd862"
      },
      "source": [
        "#marital status mode\n",
        "df['marital_status'].mode()"
      ],
      "execution_count": 158,
      "outputs": [
        {
          "output_type": "execute_result",
          "data": {
            "text/plain": [
              "0    Married/Living together\n",
              "dtype: object"
            ]
          },
          "metadata": {},
          "execution_count": 158
        }
      ]
    },
    {
      "cell_type": "code",
      "metadata": {
        "colab": {
          "base_uri": "https://localhost:8080/"
        },
        "id": "LprbXUmaJu-K",
        "outputId": "02ba72b8-9dd1-4ad1-c112-6e856e6e8923"
      },
      "source": [
        "#education level mode\n",
        "df['education_level'].mode()"
      ],
      "execution_count": 159,
      "outputs": [
        {
          "output_type": "execute_result",
          "data": {
            "text/plain": [
              "0    Primary education\n",
              "dtype: object"
            ]
          },
          "metadata": {},
          "execution_count": 159
        }
      ]
    },
    {
      "cell_type": "code",
      "metadata": {
        "colab": {
          "base_uri": "https://localhost:8080/"
        },
        "id": "9nZWI6OsJ3GP",
        "outputId": "6ab11aa1-23d0-489e-c33a-3322004c67ab"
      },
      "source": [
        "#job type mode\n",
        "df.job_type.mode()"
      ],
      "execution_count": 160,
      "outputs": [
        {
          "output_type": "execute_result",
          "data": {
            "text/plain": [
              "0    Self employed\n",
              "dtype: object"
            ]
          },
          "metadata": {},
          "execution_count": 160
        }
      ]
    },
    {
      "cell_type": "code",
      "metadata": {
        "colab": {
          "base_uri": "https://localhost:8080/"
        },
        "id": "OjQYOigalxOf",
        "outputId": "7d19e980-f598-4191-d154-4b6d0ec9e694"
      },
      "source": [
        "#median()\n",
        "df.median()\n"
      ],
      "execution_count": 111,
      "outputs": [
        {
          "output_type": "execute_result",
          "data": {
            "text/plain": [
              "year              2017.0\n",
              "household_size       3.0\n",
              "respondent_age      35.0\n",
              "dtype: float64"
            ]
          },
          "metadata": {},
          "execution_count": 111
        }
      ]
    },
    {
      "cell_type": "markdown",
      "metadata": {
        "id": "nqj27y_pUjV7"
      },
      "source": [
        "***Measures of Dispesion***"
      ]
    },
    {
      "cell_type": "code",
      "metadata": {
        "colab": {
          "base_uri": "https://localhost:8080/"
        },
        "id": "i4wLrNvql8fR",
        "outputId": "eecd47b1-b348-4b85-e1d1-a5dc32283f48"
      },
      "source": [
        "#range of household size column\n",
        "maxhousehold = df.household_size.max()\n",
        "minhousehold = df.household_size.min()\n",
        "range = maxhousehold - minhousehold\n",
        "range"
      ],
      "execution_count": 112,
      "outputs": [
        {
          "output_type": "execute_result",
          "data": {
            "text/plain": [
              "21.0"
            ]
          },
          "metadata": {},
          "execution_count": 112
        }
      ]
    },
    {
      "cell_type": "code",
      "metadata": {
        "id": "6UzyQC6kmdBi",
        "colab": {
          "base_uri": "https://localhost:8080/"
        },
        "outputId": "85c9499d-3dc1-473d-b366-5ee908cdef09"
      },
      "source": [
        "\n",
        "#range of Age column\n",
        "maxage = df.respondent_age.max()\n",
        "minage = df.respondent_age.min()\n",
        "range = maxage - minage\n",
        "range"
      ],
      "execution_count": 113,
      "outputs": [
        {
          "output_type": "execute_result",
          "data": {
            "text/plain": [
              "84.0"
            ]
          },
          "metadata": {},
          "execution_count": 113
        }
      ]
    },
    {
      "cell_type": "code",
      "metadata": {
        "colab": {
          "base_uri": "https://localhost:8080/"
        },
        "id": "G2KTfb4eIDuu",
        "outputId": "8d026d5e-0136-4af0-a18c-59a1b81d32ba"
      },
      "source": [
        "#variance\n",
        "df.var()"
      ],
      "execution_count": 114,
      "outputs": [
        {
          "output_type": "execute_result",
          "data": {
            "text/plain": [
              "year                0.721031\n",
              "household_size      5.204214\n",
              "respondent_age    272.907247\n",
              "dtype: float64"
            ]
          },
          "metadata": {},
          "execution_count": 114
        }
      ]
    },
    {
      "cell_type": "code",
      "metadata": {
        "colab": {
          "base_uri": "https://localhost:8080/"
        },
        "id": "aPyEse97IIes",
        "outputId": "21835894-a50c-4cc3-cc52-500baaf7a6eb"
      },
      "source": [
        "#standard deviation\n",
        "df.std()"
      ],
      "execution_count": 115,
      "outputs": [
        {
          "output_type": "execute_result",
          "data": {
            "text/plain": [
              "year               0.849136\n",
              "household_size     2.281275\n",
              "respondent_age    16.519905\n",
              "dtype: float64"
            ]
          },
          "metadata": {},
          "execution_count": 115
        }
      ]
    },
    {
      "cell_type": "code",
      "metadata": {
        "colab": {
          "base_uri": "https://localhost:8080/"
        },
        "id": "GUfyCgqiIPTQ",
        "outputId": "3743c2b8-9aef-4ae4-b0eb-5c34bfe805fe"
      },
      "source": [
        "#sskewness\n",
        "df.skew()"
      ],
      "execution_count": 116,
      "outputs": [
        {
          "output_type": "execute_result",
          "data": {
            "text/plain": [
              "year              0.042833\n",
              "household_size    0.974183\n",
              "respondent_age    0.840615\n",
              "dtype: float64"
            ]
          },
          "metadata": {},
          "execution_count": 116
        }
      ]
    },
    {
      "cell_type": "markdown",
      "metadata": {
        "id": "tOSHorrKVZDN"
      },
      "source": [
        "The data is slighly skewed positively which also portrays normal distribution"
      ]
    },
    {
      "cell_type": "code",
      "metadata": {
        "colab": {
          "base_uri": "https://localhost:8080/"
        },
        "id": "MMS0lAZBITuZ",
        "outputId": "a680e609-611f-49ad-d998-37f1e9936903"
      },
      "source": [
        "#kurtosis\n",
        "df.kurt()"
      ],
      "execution_count": 117,
      "outputs": [
        {
          "output_type": "execute_result",
          "data": {
            "text/plain": [
              "year             -1.611829\n",
              "household_size    1.153836\n",
              "respondent_age    0.098268\n",
              "dtype: float64"
            ]
          },
          "metadata": {},
          "execution_count": 117
        }
      ]
    },
    {
      "cell_type": "markdown",
      "metadata": {
        "id": "QcosvcGXVgNj"
      },
      "source": [
        ""
      ]
    },
    {
      "cell_type": "code",
      "metadata": {
        "colab": {
          "base_uri": "https://localhost:8080/",
          "height": 357
        },
        "id": "g1-HN_qeKCxw",
        "outputId": "14a24e20-6abd-46e9-a143-45ddb044cc91"
      },
      "source": [
        "#histogram displaying the column Age\n",
        "\n",
        "sns.distplot(df['respondent_age'], kde=True)\n",
        "plt.title('Respondent_age Histogram',weight='bold',fontsize=14)\n",
        "sns.set_context('talk')\n",
        "sns.set_theme(palette='flag_r')\n"
      ],
      "execution_count": 180,
      "outputs": [
        {
          "output_type": "stream",
          "name": "stderr",
          "text": [
            "/usr/local/lib/python3.7/dist-packages/seaborn/distributions.py:2619: FutureWarning: `distplot` is a deprecated function and will be removed in a future version. Please adapt your code to use either `displot` (a figure-level function with similar flexibility) or `histplot` (an axes-level function for histograms).\n",
            "  warnings.warn(msg, FutureWarning)\n"
          ]
        },
        {
          "output_type": "display_data",
          "data": {
            "image/png": "[encoded data removed]",
            "text/plain": [
              "<Figure size 432x288 with 1 Axes>"
            ]
          },
          "metadata": {}
        }
      ]
    },
    {
      "cell_type": "markdown",
      "metadata": {
        "id": "nDXtL6Wsdeu0"
      },
      "source": [
        "The distribution is right skewed but still portray normal distribution"
      ]
    },
    {
      "cell_type": "code",
      "metadata": {
        "colab": {
          "base_uri": "https://localhost:8080/",
          "height": 302
        },
        "id": "uuVMj6gCKfSX",
        "outputId": "c2f65c9b-d795-40a0-affa-2a60243a521d"
      },
      "source": [
        "#bar chart displaying the column household size\n",
        "plt.bar(df['country'],df['household_size'])\n",
        "plt.title('Household Size',fontsize=14, weight='bold')\n",
        "plt.xlabel('Country')\n",
        "plt.ylabel('Size')\n",
        "sns.set_theme(context='paper', palette='flag_r')\n",
        "\n",
        "\n"
      ],
      "execution_count": 195,
      "outputs": [
        {
          "output_type": "display_data",
          "data": {
            "image/png": "[encoded data removed]",
            "text/plain": [
              "<Figure size 432x288 with 1 Axes>"
            ]
          },
          "metadata": {}
        }
      ]
    },
    {
      "cell_type": "code",
      "metadata": {
        "colab": {
          "base_uri": "https://localhost:8080/",
          "height": 373
        },
        "id": "kUuhL15QLHBX",
        "outputId": "d52c0c39-5976-48be-f6e1-30daa747d6ba"
      },
      "source": [
        "#Boxplot displaying the column age\n",
        "#The data is tightly grouped\n",
        "#There are presence of outliers in the column that were retained since they proved useful\n",
        "\n",
        "sns.boxplot(df['respondent_age'])\n",
        "plt.title(\"Age BoxPlot\", weight='bold', fontsize=14)\n",
        "plt.show()"
      ],
      "execution_count": 182,
      "outputs": [
        {
          "output_type": "stream",
          "name": "stderr",
          "text": [
            "/usr/local/lib/python3.7/dist-packages/seaborn/_decorators.py:43: FutureWarning: Pass the following variable as a keyword arg: x. From version 0.12, the only valid positional argument will be `data`, and passing other arguments without an explicit keyword will result in an error or misinterpretation.\n",
            "  FutureWarning\n"
          ]
        },
        {
          "output_type": "display_data",
          "data": {
            "image/png": "[encoded data removed]",
            "text/plain": [
              "<Figure size 432x288 with 1 Axes>"
            ]
          },
          "metadata": {}
        }
      ]
    },
    {
      "cell_type": "code",
      "metadata": {
        "colab": {
          "base_uri": "https://localhost:8080/",
          "height": 391
        },
        "id": "fnQOgBz8Lcbm",
        "outputId": "dae047ad-c08f-4b7f-c0fb-aef19a6d2b2f"
      },
      "source": [
        "#Boxplot showing relationship between year and household sizes\n",
        "\n",
        "sns.boxplot(df['year'],df['household_size'])\n",
        "plt.title('Household size boxplot',weight='bold',fontsize=14)\n",
        "#plt.xticks(rotation=45)\n",
        "#plt.xticks(np.arange(min(year), max(year)+1, 1.0))\n",
        "#plt.show()"
      ],
      "execution_count": 267,
      "outputs": [
        {
          "output_type": "stream",
          "name": "stderr",
          "text": [
            "/usr/local/lib/python3.7/dist-packages/seaborn/_decorators.py:43: FutureWarning: Pass the following variables as keyword args: x, y. From version 0.12, the only valid positional argument will be `data`, and passing other arguments without an explicit keyword will result in an error or misinterpretation.\n",
            "  FutureWarning\n"
          ]
        },
        {
          "output_type": "execute_result",
          "data": {
            "text/plain": [
              "Text(0.5, 1.0, 'Household size boxplot')"
            ]
          },
          "metadata": {},
          "execution_count": 267
        },
        {
          "output_type": "display_data",
          "data": {
            "image/png": "[encoded data removed]",
            "text/plain": [
              "<Figure size 432x288 with 1 Axes>"
            ]
          },
          "metadata": {}
        }
      ]
    },
    {
      "cell_type": "code",
      "metadata": {
        "colab": {
          "base_uri": "https://localhost:8080/"
        },
        "id": "MDz9_Ic9L0y-",
        "outputId": "4cea140a-9f92-482a-bfb9-3777710a8d7d"
      },
      "source": [
        "#frequency table of the respondent age\n",
        "df.respondent_age.value_counts()"
      ],
      "execution_count": 122,
      "outputs": [
        {
          "output_type": "execute_result",
          "data": {
            "text/plain": [
              "30.0     1043\n",
              "35.0      831\n",
              "25.0      785\n",
              "28.0      742\n",
              "32.0      707\n",
              "         ... \n",
              "100.0       5\n",
              "93.0        4\n",
              "96.0        3\n",
              "99.0        2\n",
              "97.0        1\n",
              "Name: respondent_age, Length: 85, dtype: int64"
            ]
          },
          "metadata": {},
          "execution_count": 122
        }
      ]
    },
    {
      "cell_type": "code",
      "metadata": {
        "colab": {
          "base_uri": "https://localhost:8080/"
        },
        "id": "igOQ8hh0MLMv",
        "outputId": "01323d62-c75b-41a1-8e1c-0dc4b9a93563"
      },
      "source": [
        "#frequency table of  household size column\n",
        "df.household_size.value_counts()"
      ],
      "execution_count": 123,
      "outputs": [
        {
          "output_type": "execute_result",
          "data": {
            "text/plain": [
              "2.0     5072\n",
              "1.0     3928\n",
              "3.0     3513\n",
              "4.0     3199\n",
              "5.0     2716\n",
              "6.0     2028\n",
              "7.0     1378\n",
              "8.0      740\n",
              "9.0      354\n",
              "10.0     191\n",
              "12.0      66\n",
              "11.0      66\n",
              "0.0       36\n",
              "13.0      25\n",
              "15.0      11\n",
              "14.0       9\n",
              "16.0       4\n",
              "18.0       1\n",
              "20.0       1\n",
              "21.0       1\n",
              "17.0       1\n",
              "Name: household_size, dtype: int64"
            ]
          },
          "metadata": {},
          "execution_count": 123
        }
      ]
    },
    {
      "cell_type": "code",
      "metadata": {
        "colab": {
          "base_uri": "https://localhost:8080/"
        },
        "id": "_MbrMPZoMR--",
        "outputId": "0e24118b-05c0-416b-f7f8-26c2327beba2"
      },
      "source": [
        "#frequency table of the year \n",
        "df.year.value_counts()"
      ],
      "execution_count": 124,
      "outputs": [
        {
          "output_type": "execute_result",
          "data": {
            "text/plain": [
              "2016    8683\n",
              "2018    8157\n",
              "2017    6500\n",
              "Name: year, dtype: int64"
            ]
          },
          "metadata": {},
          "execution_count": 124
        }
      ]
    },
    {
      "cell_type": "markdown",
      "metadata": {
        "id": "BvuMVeL8PXXl"
      },
      "source": [
        "# **`(ii) BIVARIATE ANALYSIS`**\n",
        "\n",
        "> Indented block\n",
        "\n"
      ]
    },
    {
      "cell_type": "code",
      "metadata": {
        "colab": {
          "base_uri": "https://localhost:8080/",
          "height": 317
        },
        "id": "-S3H4z33Pepn",
        "outputId": "37f46b8c-7adb-47c4-88cf-752ca20727e9"
      },
      "source": [
        "#scatter plot \n",
        "#Age vs household size\n",
        "plt.scatter(df['respondent_age'],df['household_size'],color='b')\n",
        "plt.title('Age vs Households',weight='bold',fontsize=14)\n",
        "plt.xlabel(\"Age\")\n",
        "plt.ylabel(\"Household size\")\n",
        "\n",
        "plt.show()\n"
      ],
      "execution_count": 269,
      "outputs": [
        {
          "output_type": "display_data",
          "data": {
            "image/png": "[encoded data removed]",
            "text/plain": [
              "<Figure size 432x288 with 1 Axes>"
            ]
          },
          "metadata": {}
        }
      ]
    },
    {
      "cell_type": "markdown",
      "metadata": {
        "id": "sFKFS-DUjXp5"
      },
      "source": [
        "The distribution is inclined more to the young people as compared to the old people"
      ]
    },
    {
      "cell_type": "code",
      "metadata": {
        "colab": {
          "base_uri": "https://localhost:8080/",
          "height": 316
        },
        "id": "OTnUWUL4QNuw",
        "outputId": "9b68d4b4-e18d-4f4e-eb01-7a6a3c48191a"
      },
      "source": [
        "#scatter plot showing relatinship between\n",
        "#cell phone access and household size\n",
        "plt.scatter(df['cell_phone_access'],df['household_size'],label='size',color='b')\n",
        "plt.title('cell phones vs households')"
      ],
      "execution_count": 275,
      "outputs": [
        {
          "output_type": "execute_result",
          "data": {
            "text/plain": [
              "Text(0.5, 1.0, 'cell phones vs households')"
            ]
          },
          "metadata": {},
          "execution_count": 275
        },
        {
          "output_type": "display_data",
          "data": {
            "image/png": "[encoded data removed]",
            "text/plain": [
              "<Figure size 432x288 with 1 Axes>"
            ]
          },
          "metadata": {}
        }
      ]
    },
    {
      "cell_type": "markdown",
      "metadata": {
        "id": "BNCaa6fI11M9"
      },
      "source": [
        "a greater number of people living in households has no cell_phone access"
      ]
    },
    {
      "cell_type": "code",
      "metadata": {
        "colab": {
          "base_uri": "https://localhost:8080/",
          "height": 298
        },
        "id": "svQkXE73oGJi",
        "outputId": "6b617f3f-a01d-420b-de43-aa92998c1e19"
      },
      "source": [
        "#scatter\n",
        "#bank account vs households\n",
        "plt.scatter(df['has_bank_account'],df['household_size'], color='green')\n",
        "plt.title('Households vs Bank accounts')\n",
        "\n",
        "plt.show()"
      ],
      "execution_count": 324,
      "outputs": [
        {
          "output_type": "display_data",
          "data": {
            "image/png": "[encoded data removed]",
            "text/plain": [
              "<Figure size 432x288 with 1 Axes>"
            ]
          },
          "metadata": {}
        }
      ]
    },
    {
      "cell_type": "markdown",
      "metadata": {
        "id": "QX0OoXj35xEv"
      },
      "source": [
        "Fewer number of households have bank accounts compared to those who don't have"
      ]
    },
    {
      "cell_type": "code",
      "metadata": {
        "colab": {
          "base_uri": "https://localhost:8080/",
          "height": 563
        },
        "id": "e6yaMUTAPG3d",
        "outputId": "16c79af4-f36a-4718-c013-3bc8761ee5eb"
      },
      "source": [
        "#scatter\n",
        "#job type vs households\n",
        "plt.scatter(df['job_type'],df['household_size'], color='green')\n",
        "plt.title('Job type vs household_size')\n",
        "plt.xticks(rotation=90)\n"
      ],
      "execution_count": 328,
      "outputs": [
        {
          "output_type": "execute_result",
          "data": {
            "text/plain": [
              "([0, 1, 2, 3, 4, 5, 6, 7, 8, 9], <a list of 10 Text major ticklabel objects>)"
            ]
          },
          "metadata": {},
          "execution_count": 328
        },
        {
          "output_type": "display_data",
          "data": {
            "image/png": "[encoded data removed]",
            "text/plain": [
              "<Figure size 432x288 with 1 Axes>"
            ]
          },
          "metadata": {}
        }
      ]
    },
    {
      "cell_type": "markdown",
      "metadata": {
        "id": "ToXd94TKQhL_"
      },
      "source": [
        "There are relatively fewer government dependent and those formally employed by the goverment compared to other job types in the households"
      ]
    },
    {
      "cell_type": "code",
      "metadata": {
        "colab": {
          "base_uri": "https://localhost:8080/",
          "height": 552
        },
        "id": "qs7s4zejQ_n0",
        "outputId": "23fd2b9f-8318-4c0d-c48f-bb56fb1f1962"
      },
      "source": [
        "#scatter\n",
        "#education level vs households\n",
        "plt.scatter(df['education_level'],df['household_size'], color='green')\n",
        "plt.title('Education level vs household_size')\n",
        "plt.xticks(rotation=90)"
      ],
      "execution_count": 330,
      "outputs": [
        {
          "output_type": "execute_result",
          "data": {
            "text/plain": [
              "([0, 1, 2, 3, 4, 5, 6], <a list of 7 Text major ticklabel objects>)"
            ]
          },
          "metadata": {},
          "execution_count": 330
        },
        {
          "output_type": "display_data",
          "data": {
            "image/png": "[encoded data removed]",
            "text/plain": [
              "<Figure size 432x288 with 1 Axes>"
            ]
          },
          "metadata": {}
        }
      ]
    },
    {
      "cell_type": "code",
      "metadata": {
        "colab": {
          "base_uri": "https://localhost:8080/"
        },
        "id": "KoAipuqcRYH1",
        "outputId": "77ee8ba2-e949-42d9-ae3b-df880d1aa1d6"
      },
      "source": [
        "df['education_level'].unique()"
      ],
      "execution_count": 331,
      "outputs": [
        {
          "output_type": "execute_result",
          "data": {
            "text/plain": [
              "array(['Secondary education', 'No formal education',\n",
              "       'Vocational/Specialised training', 'Primary education',\n",
              "       'Tertiary education', 'Other/Dont know/RTA', '6'], dtype=object)"
            ]
          },
          "metadata": {},
          "execution_count": 331
        }
      ]
    },
    {
      "cell_type": "code",
      "metadata": {
        "colab": {
          "base_uri": "https://localhost:8080/",
          "height": 321
        },
        "id": "A6iPzdKeRMcC",
        "outputId": "6f0d38ae-aee4-4024-c055-116beb76b1ac"
      },
      "source": [
        "#year vs household size\n",
        "plt.scatter(df[\"year\"],df[\"household_size\"])\n",
        "plt.title(\"Year vs household size\")\n",
        "plt.xlabel('year')\n",
        "plt.ylabel(\"household_size\")\n",
        "plt.xticks(np.arange(min(year), max(year)+1, 1.0))\n",
        "plt.show()\n"
      ],
      "execution_count": 322,
      "outputs": [
        {
          "output_type": "display_data",
          "data": {
            "image/png": "[encoded data removed]",
            "text/plain": [
              "<Figure size 432x288 with 1 Axes>"
            ]
          },
          "metadata": {}
        }
      ]
    },
    {
      "cell_type": "markdown",
      "metadata": {
        "id": "Y-9wxyVN5s4J"
      },
      "source": [
        "There exist a decrease in household size from 2016 to 2017 , but the number showed a steady increse in the year 2018."
      ]
    },
    {
      "cell_type": "code",
      "metadata": {
        "colab": {
          "base_uri": "https://localhost:8080/",
          "height": 296
        },
        "id": "3_UZ3bYX4vGq",
        "outputId": "80d98337-7276-428d-8229-929ef264da21"
      },
      "source": [
        "#line chart showing relationship between\n",
        "#cellphone acess & respondent age\n",
        "#bank account & respondent age\n",
        "plt.plot(df['cell_phone_access'],df['respondent_age'], color='r')\n",
        "plt.plot(df['has_bank_account'],df['respondent_age'],color='grey')"
      ],
      "execution_count": 286,
      "outputs": [
        {
          "output_type": "execute_result",
          "data": {
            "text/plain": [
              "[<matplotlib.lines.Line2D at 0x7fcea9f1a250>]"
            ]
          },
          "metadata": {},
          "execution_count": 286
        },
        {
          "output_type": "display_data",
          "data": {
            "image/png": "[encoded data removed]",
            "text/plain": [
              "<Figure size 432x288 with 1 Axes>"
            ]
          },
          "metadata": {}
        }
      ]
    },
    {
      "cell_type": "code",
      "metadata": {
        "id": "OkPiG2pxyNTe",
        "colab": {
          "base_uri": "https://localhost:8080/"
        },
        "outputId": "aca9bf31-b0e3-41df-e5f7-606edb981eea"
      },
      "source": [
        "#correlation between age and household size variables\n",
        "corr = df[\"respondent_age\"].corr(df[\"household_size\"],method = \"pearson\")\n",
        "corr\n",
        "\n"
      ],
      "execution_count": 130,
      "outputs": [
        {
          "output_type": "execute_result",
          "data": {
            "text/plain": [
              "-0.11967115234154871"
            ]
          },
          "metadata": {},
          "execution_count": 130
        }
      ]
    },
    {
      "cell_type": "markdown",
      "metadata": {
        "id": "4Xvs4wQ3_rBK"
      },
      "source": [
        "low degree of corelation"
      ]
    },
    {
      "cell_type": "code",
      "metadata": {
        "colab": {
          "base_uri": "https://localhost:8080/"
        },
        "id": "KRCPUl_-1hnv",
        "outputId": "54225015-24f7-407b-aaef-afb7ea06819e"
      },
      "source": [
        "#correlation between year and household size variables\n",
        "corr = df[\"year\"].corr(df[\"household_size\"],method = \"pearson\")\n",
        "corr"
      ],
      "execution_count": 131,
      "outputs": [
        {
          "output_type": "execute_result",
          "data": {
            "text/plain": [
              "-0.05248406515317324"
            ]
          },
          "metadata": {},
          "execution_count": 131
        }
      ]
    },
    {
      "cell_type": "markdown",
      "metadata": {
        "id": "0o06x-OZ_vTs"
      },
      "source": [
        "weak correlation"
      ]
    },
    {
      "cell_type": "code",
      "metadata": {
        "colab": {
          "base_uri": "https://localhost:8080/",
          "height": 392
        },
        "id": "CQBMlI4V1YHD",
        "outputId": "85e5ec9b-d1d7-428a-b6c0-64c80c6a8777"
      },
      "source": [
        "#line chart\n",
        "#year vs respondent age\n",
        "var = df.groupby('year').respondent_age.sum()\n",
        "fig = plt.figure()\n",
        "ax1 = fig.add_subplot(1,1,1)\n",
        "ax1.set_xlabel('Year')\n",
        "ax1.set_ylabel('Age')\n",
        "ax1.set_title(\"Year vs Age\")\n",
        "var.plot(kind='line')\n",
        "plt.xticks(np.arange(min(year), max(year)+1, 1.0))"
      ],
      "execution_count": 292,
      "outputs": [
        {
          "output_type": "execute_result",
          "data": {
            "text/plain": [
              "([<matplotlib.axis.XTick at 0x7fcea93e6750>,\n",
              "  <matplotlib.axis.XTick at 0x7fcea93e6dd0>,\n",
              "  <matplotlib.axis.XTick at 0x7fcea95e4050>],\n",
              " <a list of 3 Text major ticklabel objects>)"
            ]
          },
          "metadata": {},
          "execution_count": 292
        },
        {
          "output_type": "display_data",
          "data": {
            "image/png": "[encoded data removed]",
            "text/plain": [
              "<Figure size 432x288 with 1 Axes>"
            ]
          },
          "metadata": {}
        }
      ]
    },
    {
      "cell_type": "markdown",
      "metadata": {
        "id": "JCV321yi4dvt"
      },
      "source": [
        "# **`(iii) MULTIVARIATE ANALYSIS`**"
      ]
    },
    {
      "cell_type": "markdown",
      "metadata": {
        "id": "llBbShUFC98e"
      },
      "source": [
        "# ***`(a) PRINCIPAL COMPONENT ANALYSIS (PCA)`***"
      ]
    },
    {
      "cell_type": "code",
      "metadata": {
        "colab": {
          "base_uri": "https://localhost:8080/",
          "height": 255
        },
        "id": "jrEqY4uc4rsy",
        "outputId": "a0768bbb-051b-4764-86d0-42f448f14692"
      },
      "source": [
        "#Creating Dummy Variables-numerical variable for pca analysis\n",
        "dummy = pd.get_dummies(df)\n",
        "dummy.head()"
      ],
      "execution_count": 133,
      "outputs": [
        {
          "output_type": "execute_result",
          "data": {
            "text/html": [
              "<div>\n",
              "<style scoped>\n",
              "    .dataframe tbody tr th:only-of-type {\n",
              "        vertical-align: middle;\n",
              "    }\n",
              "\n",
              "    .dataframe tbody tr th {\n",
              "        vertical-align: top;\n",
              "    }\n",
              "\n",
              "    .dataframe thead th {\n",
              "        text-align: right;\n",
              "    }\n",
              "</style>\n",
              "<table border=\"1\" class=\"dataframe\">\n",
              "  <thead>\n",
              "    <tr style=\"text-align: right;\">\n",
              "      <th></th>\n",
              "      <th>year</th>\n",
              "      <th>household_size</th>\n",
              "      <th>respondent_age</th>\n",
              "      <th>country_Kenya</th>\n",
              "      <th>country_Rwanda</th>\n",
              "      <th>country_Tanzania</th>\n",
              "      <th>country_Uganda</th>\n",
              "      <th>has_bank_account_No</th>\n",
              "      <th>has_bank_account_Yes</th>\n",
              "      <th>location_type_Rural</th>\n",
              "      <th>location_type_Urban</th>\n",
              "      <th>cell_phone_access_No</th>\n",
              "      <th>cell_phone_access_Yes</th>\n",
              "      <th>gender_of_respondent_Female</th>\n",
              "      <th>gender_of_respondent_Male</th>\n",
              "      <th>marital_status_Divorced/Seperated</th>\n",
              "      <th>marital_status_Dont know</th>\n",
              "      <th>marital_status_Married/Living together</th>\n",
              "      <th>marital_status_Single/Never Married</th>\n",
              "      <th>marital_status_Widowed</th>\n",
              "      <th>education_level_6</th>\n",
              "      <th>education_level_No formal education</th>\n",
              "      <th>education_level_Other/Dont know/RTA</th>\n",
              "      <th>education_level_Primary education</th>\n",
              "      <th>education_level_Secondary education</th>\n",
              "      <th>education_level_Tertiary education</th>\n",
              "      <th>education_level_Vocational/Specialised training</th>\n",
              "      <th>job_type_Dont Know/Refuse to answer</th>\n",
              "      <th>job_type_Farming and Fishing</th>\n",
              "      <th>job_type_Formally employed Government</th>\n",
              "      <th>job_type_Formally employed Private</th>\n",
              "      <th>job_type_Government Dependent</th>\n",
              "      <th>job_type_Informally employed</th>\n",
              "      <th>job_type_No Income</th>\n",
              "      <th>job_type_Other Income</th>\n",
              "      <th>job_type_Remittance Dependent</th>\n",
              "      <th>job_type_Self employed</th>\n",
              "    </tr>\n",
              "  </thead>\n",
              "  <tbody>\n",
              "    <tr>\n",
              "      <th>0</th>\n",
              "      <td>2018</td>\n",
              "      <td>3.0</td>\n",
              "      <td>24.0</td>\n",
              "      <td>1</td>\n",
              "      <td>0</td>\n",
              "      <td>0</td>\n",
              "      <td>0</td>\n",
              "      <td>0</td>\n",
              "      <td>1</td>\n",
              "      <td>1</td>\n",
              "      <td>0</td>\n",
              "      <td>0</td>\n",
              "      <td>1</td>\n",
              "      <td>1</td>\n",
              "      <td>0</td>\n",
              "      <td>0</td>\n",
              "      <td>0</td>\n",
              "      <td>1</td>\n",
              "      <td>0</td>\n",
              "      <td>0</td>\n",
              "      <td>0</td>\n",
              "      <td>0</td>\n",
              "      <td>0</td>\n",
              "      <td>0</td>\n",
              "      <td>1</td>\n",
              "      <td>0</td>\n",
              "      <td>0</td>\n",
              "      <td>0</td>\n",
              "      <td>0</td>\n",
              "      <td>0</td>\n",
              "      <td>0</td>\n",
              "      <td>0</td>\n",
              "      <td>0</td>\n",
              "      <td>0</td>\n",
              "      <td>0</td>\n",
              "      <td>0</td>\n",
              "      <td>1</td>\n",
              "    </tr>\n",
              "    <tr>\n",
              "      <th>1</th>\n",
              "      <td>2018</td>\n",
              "      <td>5.0</td>\n",
              "      <td>70.0</td>\n",
              "      <td>1</td>\n",
              "      <td>0</td>\n",
              "      <td>0</td>\n",
              "      <td>0</td>\n",
              "      <td>1</td>\n",
              "      <td>0</td>\n",
              "      <td>1</td>\n",
              "      <td>0</td>\n",
              "      <td>1</td>\n",
              "      <td>0</td>\n",
              "      <td>1</td>\n",
              "      <td>0</td>\n",
              "      <td>0</td>\n",
              "      <td>0</td>\n",
              "      <td>0</td>\n",
              "      <td>0</td>\n",
              "      <td>1</td>\n",
              "      <td>0</td>\n",
              "      <td>1</td>\n",
              "      <td>0</td>\n",
              "      <td>0</td>\n",
              "      <td>0</td>\n",
              "      <td>0</td>\n",
              "      <td>0</td>\n",
              "      <td>0</td>\n",
              "      <td>0</td>\n",
              "      <td>0</td>\n",
              "      <td>0</td>\n",
              "      <td>1</td>\n",
              "      <td>0</td>\n",
              "      <td>0</td>\n",
              "      <td>0</td>\n",
              "      <td>0</td>\n",
              "      <td>0</td>\n",
              "    </tr>\n",
              "    <tr>\n",
              "      <th>2</th>\n",
              "      <td>2018</td>\n",
              "      <td>5.0</td>\n",
              "      <td>26.0</td>\n",
              "      <td>1</td>\n",
              "      <td>0</td>\n",
              "      <td>0</td>\n",
              "      <td>0</td>\n",
              "      <td>0</td>\n",
              "      <td>1</td>\n",
              "      <td>0</td>\n",
              "      <td>1</td>\n",
              "      <td>0</td>\n",
              "      <td>1</td>\n",
              "      <td>0</td>\n",
              "      <td>1</td>\n",
              "      <td>0</td>\n",
              "      <td>0</td>\n",
              "      <td>0</td>\n",
              "      <td>1</td>\n",
              "      <td>0</td>\n",
              "      <td>0</td>\n",
              "      <td>0</td>\n",
              "      <td>0</td>\n",
              "      <td>0</td>\n",
              "      <td>0</td>\n",
              "      <td>0</td>\n",
              "      <td>1</td>\n",
              "      <td>0</td>\n",
              "      <td>0</td>\n",
              "      <td>0</td>\n",
              "      <td>0</td>\n",
              "      <td>0</td>\n",
              "      <td>0</td>\n",
              "      <td>0</td>\n",
              "      <td>0</td>\n",
              "      <td>0</td>\n",
              "      <td>1</td>\n",
              "    </tr>\n",
              "    <tr>\n",
              "      <th>3</th>\n",
              "      <td>2018</td>\n",
              "      <td>5.0</td>\n",
              "      <td>34.0</td>\n",
              "      <td>1</td>\n",
              "      <td>0</td>\n",
              "      <td>0</td>\n",
              "      <td>0</td>\n",
              "      <td>1</td>\n",
              "      <td>0</td>\n",
              "      <td>1</td>\n",
              "      <td>0</td>\n",
              "      <td>0</td>\n",
              "      <td>1</td>\n",
              "      <td>1</td>\n",
              "      <td>0</td>\n",
              "      <td>0</td>\n",
              "      <td>0</td>\n",
              "      <td>1</td>\n",
              "      <td>0</td>\n",
              "      <td>0</td>\n",
              "      <td>0</td>\n",
              "      <td>0</td>\n",
              "      <td>0</td>\n",
              "      <td>1</td>\n",
              "      <td>0</td>\n",
              "      <td>0</td>\n",
              "      <td>0</td>\n",
              "      <td>0</td>\n",
              "      <td>0</td>\n",
              "      <td>0</td>\n",
              "      <td>1</td>\n",
              "      <td>0</td>\n",
              "      <td>0</td>\n",
              "      <td>0</td>\n",
              "      <td>0</td>\n",
              "      <td>0</td>\n",
              "      <td>0</td>\n",
              "    </tr>\n",
              "    <tr>\n",
              "      <th>4</th>\n",
              "      <td>2018</td>\n",
              "      <td>8.0</td>\n",
              "      <td>26.0</td>\n",
              "      <td>1</td>\n",
              "      <td>0</td>\n",
              "      <td>0</td>\n",
              "      <td>0</td>\n",
              "      <td>1</td>\n",
              "      <td>0</td>\n",
              "      <td>0</td>\n",
              "      <td>1</td>\n",
              "      <td>1</td>\n",
              "      <td>0</td>\n",
              "      <td>0</td>\n",
              "      <td>1</td>\n",
              "      <td>0</td>\n",
              "      <td>0</td>\n",
              "      <td>0</td>\n",
              "      <td>1</td>\n",
              "      <td>0</td>\n",
              "      <td>0</td>\n",
              "      <td>0</td>\n",
              "      <td>0</td>\n",
              "      <td>1</td>\n",
              "      <td>0</td>\n",
              "      <td>0</td>\n",
              "      <td>0</td>\n",
              "      <td>0</td>\n",
              "      <td>0</td>\n",
              "      <td>0</td>\n",
              "      <td>0</td>\n",
              "      <td>0</td>\n",
              "      <td>1</td>\n",
              "      <td>0</td>\n",
              "      <td>0</td>\n",
              "      <td>0</td>\n",
              "      <td>0</td>\n",
              "    </tr>\n",
              "  </tbody>\n",
              "</table>\n",
              "</div>"
            ],
            "text/plain": [
              "   year  household_size  ...  job_type_Remittance Dependent  job_type_Self employed\n",
              "0  2018             3.0  ...                              0                       1\n",
              "1  2018             5.0  ...                              0                       0\n",
              "2  2018             5.0  ...                              0                       1\n",
              "3  2018             5.0  ...                              0                       0\n",
              "4  2018             8.0  ...                              0                       0\n",
              "\n",
              "[5 rows x 37 columns]"
            ]
          },
          "metadata": {},
          "execution_count": 133
        }
      ]
    },
    {
      "cell_type": "code",
      "metadata": {
        "colab": {
          "base_uri": "https://localhost:8080/",
          "height": 467
        },
        "id": "w0wCsXQ27h_N",
        "outputId": "5defa5fe-6325-4afe-ba44-5c32130d0e03"
      },
      "source": [
        "pd.get_dummies(df)"
      ],
      "execution_count": 134,
      "outputs": [
        {
          "output_type": "execute_result",
          "data": {
            "text/html": [
              "<div>\n",
              "<style scoped>\n",
              "    .dataframe tbody tr th:only-of-type {\n",
              "        vertical-align: middle;\n",
              "    }\n",
              "\n",
              "    .dataframe tbody tr th {\n",
              "        vertical-align: top;\n",
              "    }\n",
              "\n",
              "    .dataframe thead th {\n",
              "        text-align: right;\n",
              "    }\n",
              "</style>\n",
              "<table border=\"1\" class=\"dataframe\">\n",
              "  <thead>\n",
              "    <tr style=\"text-align: right;\">\n",
              "      <th></th>\n",
              "      <th>year</th>\n",
              "      <th>household_size</th>\n",
              "      <th>respondent_age</th>\n",
              "      <th>country_Kenya</th>\n",
              "      <th>country_Rwanda</th>\n",
              "      <th>country_Tanzania</th>\n",
              "      <th>country_Uganda</th>\n",
              "      <th>has_bank_account_No</th>\n",
              "      <th>has_bank_account_Yes</th>\n",
              "      <th>location_type_Rural</th>\n",
              "      <th>location_type_Urban</th>\n",
              "      <th>cell_phone_access_No</th>\n",
              "      <th>cell_phone_access_Yes</th>\n",
              "      <th>gender_of_respondent_Female</th>\n",
              "      <th>gender_of_respondent_Male</th>\n",
              "      <th>marital_status_Divorced/Seperated</th>\n",
              "      <th>marital_status_Dont know</th>\n",
              "      <th>marital_status_Married/Living together</th>\n",
              "      <th>marital_status_Single/Never Married</th>\n",
              "      <th>marital_status_Widowed</th>\n",
              "      <th>education_level_6</th>\n",
              "      <th>education_level_No formal education</th>\n",
              "      <th>education_level_Other/Dont know/RTA</th>\n",
              "      <th>education_level_Primary education</th>\n",
              "      <th>education_level_Secondary education</th>\n",
              "      <th>education_level_Tertiary education</th>\n",
              "      <th>education_level_Vocational/Specialised training</th>\n",
              "      <th>job_type_Dont Know/Refuse to answer</th>\n",
              "      <th>job_type_Farming and Fishing</th>\n",
              "      <th>job_type_Formally employed Government</th>\n",
              "      <th>job_type_Formally employed Private</th>\n",
              "      <th>job_type_Government Dependent</th>\n",
              "      <th>job_type_Informally employed</th>\n",
              "      <th>job_type_No Income</th>\n",
              "      <th>job_type_Other Income</th>\n",
              "      <th>job_type_Remittance Dependent</th>\n",
              "      <th>job_type_Self employed</th>\n",
              "    </tr>\n",
              "  </thead>\n",
              "  <tbody>\n",
              "    <tr>\n",
              "      <th>0</th>\n",
              "      <td>2018</td>\n",
              "      <td>3.0</td>\n",
              "      <td>24.0</td>\n",
              "      <td>1</td>\n",
              "      <td>0</td>\n",
              "      <td>0</td>\n",
              "      <td>0</td>\n",
              "      <td>0</td>\n",
              "      <td>1</td>\n",
              "      <td>1</td>\n",
              "      <td>0</td>\n",
              "      <td>0</td>\n",
              "      <td>1</td>\n",
              "      <td>1</td>\n",
              "      <td>0</td>\n",
              "      <td>0</td>\n",
              "      <td>0</td>\n",
              "      <td>1</td>\n",
              "      <td>0</td>\n",
              "      <td>0</td>\n",
              "      <td>0</td>\n",
              "      <td>0</td>\n",
              "      <td>0</td>\n",
              "      <td>0</td>\n",
              "      <td>1</td>\n",
              "      <td>0</td>\n",
              "      <td>0</td>\n",
              "      <td>0</td>\n",
              "      <td>0</td>\n",
              "      <td>0</td>\n",
              "      <td>0</td>\n",
              "      <td>0</td>\n",
              "      <td>0</td>\n",
              "      <td>0</td>\n",
              "      <td>0</td>\n",
              "      <td>0</td>\n",
              "      <td>1</td>\n",
              "    </tr>\n",
              "    <tr>\n",
              "      <th>1</th>\n",
              "      <td>2018</td>\n",
              "      <td>5.0</td>\n",
              "      <td>70.0</td>\n",
              "      <td>1</td>\n",
              "      <td>0</td>\n",
              "      <td>0</td>\n",
              "      <td>0</td>\n",
              "      <td>1</td>\n",
              "      <td>0</td>\n",
              "      <td>1</td>\n",
              "      <td>0</td>\n",
              "      <td>1</td>\n",
              "      <td>0</td>\n",
              "      <td>1</td>\n",
              "      <td>0</td>\n",
              "      <td>0</td>\n",
              "      <td>0</td>\n",
              "      <td>0</td>\n",
              "      <td>0</td>\n",
              "      <td>1</td>\n",
              "      <td>0</td>\n",
              "      <td>1</td>\n",
              "      <td>0</td>\n",
              "      <td>0</td>\n",
              "      <td>0</td>\n",
              "      <td>0</td>\n",
              "      <td>0</td>\n",
              "      <td>0</td>\n",
              "      <td>0</td>\n",
              "      <td>0</td>\n",
              "      <td>0</td>\n",
              "      <td>1</td>\n",
              "      <td>0</td>\n",
              "      <td>0</td>\n",
              "      <td>0</td>\n",
              "      <td>0</td>\n",
              "      <td>0</td>\n",
              "    </tr>\n",
              "    <tr>\n",
              "      <th>2</th>\n",
              "      <td>2018</td>\n",
              "      <td>5.0</td>\n",
              "      <td>26.0</td>\n",
              "      <td>1</td>\n",
              "      <td>0</td>\n",
              "      <td>0</td>\n",
              "      <td>0</td>\n",
              "      <td>0</td>\n",
              "      <td>1</td>\n",
              "      <td>0</td>\n",
              "      <td>1</td>\n",
              "      <td>0</td>\n",
              "      <td>1</td>\n",
              "      <td>0</td>\n",
              "      <td>1</td>\n",
              "      <td>0</td>\n",
              "      <td>0</td>\n",
              "      <td>0</td>\n",
              "      <td>1</td>\n",
              "      <td>0</td>\n",
              "      <td>0</td>\n",
              "      <td>0</td>\n",
              "      <td>0</td>\n",
              "      <td>0</td>\n",
              "      <td>0</td>\n",
              "      <td>0</td>\n",
              "      <td>1</td>\n",
              "      <td>0</td>\n",
              "      <td>0</td>\n",
              "      <td>0</td>\n",
              "      <td>0</td>\n",
              "      <td>0</td>\n",
              "      <td>0</td>\n",
              "      <td>0</td>\n",
              "      <td>0</td>\n",
              "      <td>0</td>\n",
              "      <td>1</td>\n",
              "    </tr>\n",
              "    <tr>\n",
              "      <th>3</th>\n",
              "      <td>2018</td>\n",
              "      <td>5.0</td>\n",
              "      <td>34.0</td>\n",
              "      <td>1</td>\n",
              "      <td>0</td>\n",
              "      <td>0</td>\n",
              "      <td>0</td>\n",
              "      <td>1</td>\n",
              "      <td>0</td>\n",
              "      <td>1</td>\n",
              "      <td>0</td>\n",
              "      <td>0</td>\n",
              "      <td>1</td>\n",
              "      <td>1</td>\n",
              "      <td>0</td>\n",
              "      <td>0</td>\n",
              "      <td>0</td>\n",
              "      <td>1</td>\n",
              "      <td>0</td>\n",
              "      <td>0</td>\n",
              "      <td>0</td>\n",
              "      <td>0</td>\n",
              "      <td>0</td>\n",
              "      <td>1</td>\n",
              "      <td>0</td>\n",
              "      <td>0</td>\n",
              "      <td>0</td>\n",
              "      <td>0</td>\n",
              "      <td>0</td>\n",
              "      <td>0</td>\n",
              "      <td>1</td>\n",
              "      <td>0</td>\n",
              "      <td>0</td>\n",
              "      <td>0</td>\n",
              "      <td>0</td>\n",
              "      <td>0</td>\n",
              "      <td>0</td>\n",
              "    </tr>\n",
              "    <tr>\n",
              "      <th>4</th>\n",
              "      <td>2018</td>\n",
              "      <td>8.0</td>\n",
              "      <td>26.0</td>\n",
              "      <td>1</td>\n",
              "      <td>0</td>\n",
              "      <td>0</td>\n",
              "      <td>0</td>\n",
              "      <td>1</td>\n",
              "      <td>0</td>\n",
              "      <td>0</td>\n",
              "      <td>1</td>\n",
              "      <td>1</td>\n",
              "      <td>0</td>\n",
              "      <td>0</td>\n",
              "      <td>1</td>\n",
              "      <td>0</td>\n",
              "      <td>0</td>\n",
              "      <td>0</td>\n",
              "      <td>1</td>\n",
              "      <td>0</td>\n",
              "      <td>0</td>\n",
              "      <td>0</td>\n",
              "      <td>0</td>\n",
              "      <td>1</td>\n",
              "      <td>0</td>\n",
              "      <td>0</td>\n",
              "      <td>0</td>\n",
              "      <td>0</td>\n",
              "      <td>0</td>\n",
              "      <td>0</td>\n",
              "      <td>0</td>\n",
              "      <td>0</td>\n",
              "      <td>1</td>\n",
              "      <td>0</td>\n",
              "      <td>0</td>\n",
              "      <td>0</td>\n",
              "      <td>0</td>\n",
              "    </tr>\n",
              "    <tr>\n",
              "      <th>...</th>\n",
              "      <td>...</td>\n",
              "      <td>...</td>\n",
              "      <td>...</td>\n",
              "      <td>...</td>\n",
              "      <td>...</td>\n",
              "      <td>...</td>\n",
              "      <td>...</td>\n",
              "      <td>...</td>\n",
              "      <td>...</td>\n",
              "      <td>...</td>\n",
              "      <td>...</td>\n",
              "      <td>...</td>\n",
              "      <td>...</td>\n",
              "      <td>...</td>\n",
              "      <td>...</td>\n",
              "      <td>...</td>\n",
              "      <td>...</td>\n",
              "      <td>...</td>\n",
              "      <td>...</td>\n",
              "      <td>...</td>\n",
              "      <td>...</td>\n",
              "      <td>...</td>\n",
              "      <td>...</td>\n",
              "      <td>...</td>\n",
              "      <td>...</td>\n",
              "      <td>...</td>\n",
              "      <td>...</td>\n",
              "      <td>...</td>\n",
              "      <td>...</td>\n",
              "      <td>...</td>\n",
              "      <td>...</td>\n",
              "      <td>...</td>\n",
              "      <td>...</td>\n",
              "      <td>...</td>\n",
              "      <td>...</td>\n",
              "      <td>...</td>\n",
              "      <td>...</td>\n",
              "    </tr>\n",
              "    <tr>\n",
              "      <th>23519</th>\n",
              "      <td>2018</td>\n",
              "      <td>4.0</td>\n",
              "      <td>48.0</td>\n",
              "      <td>0</td>\n",
              "      <td>0</td>\n",
              "      <td>0</td>\n",
              "      <td>1</td>\n",
              "      <td>1</td>\n",
              "      <td>0</td>\n",
              "      <td>1</td>\n",
              "      <td>0</td>\n",
              "      <td>0</td>\n",
              "      <td>1</td>\n",
              "      <td>1</td>\n",
              "      <td>0</td>\n",
              "      <td>1</td>\n",
              "      <td>0</td>\n",
              "      <td>0</td>\n",
              "      <td>0</td>\n",
              "      <td>0</td>\n",
              "      <td>0</td>\n",
              "      <td>1</td>\n",
              "      <td>0</td>\n",
              "      <td>0</td>\n",
              "      <td>0</td>\n",
              "      <td>0</td>\n",
              "      <td>0</td>\n",
              "      <td>0</td>\n",
              "      <td>0</td>\n",
              "      <td>0</td>\n",
              "      <td>0</td>\n",
              "      <td>0</td>\n",
              "      <td>0</td>\n",
              "      <td>0</td>\n",
              "      <td>1</td>\n",
              "      <td>0</td>\n",
              "      <td>0</td>\n",
              "    </tr>\n",
              "    <tr>\n",
              "      <th>23520</th>\n",
              "      <td>2018</td>\n",
              "      <td>2.0</td>\n",
              "      <td>27.0</td>\n",
              "      <td>0</td>\n",
              "      <td>0</td>\n",
              "      <td>0</td>\n",
              "      <td>1</td>\n",
              "      <td>1</td>\n",
              "      <td>0</td>\n",
              "      <td>1</td>\n",
              "      <td>0</td>\n",
              "      <td>0</td>\n",
              "      <td>1</td>\n",
              "      <td>1</td>\n",
              "      <td>0</td>\n",
              "      <td>0</td>\n",
              "      <td>0</td>\n",
              "      <td>0</td>\n",
              "      <td>1</td>\n",
              "      <td>0</td>\n",
              "      <td>0</td>\n",
              "      <td>0</td>\n",
              "      <td>0</td>\n",
              "      <td>0</td>\n",
              "      <td>1</td>\n",
              "      <td>0</td>\n",
              "      <td>0</td>\n",
              "      <td>0</td>\n",
              "      <td>0</td>\n",
              "      <td>0</td>\n",
              "      <td>0</td>\n",
              "      <td>0</td>\n",
              "      <td>0</td>\n",
              "      <td>0</td>\n",
              "      <td>1</td>\n",
              "      <td>0</td>\n",
              "      <td>0</td>\n",
              "    </tr>\n",
              "    <tr>\n",
              "      <th>23521</th>\n",
              "      <td>2018</td>\n",
              "      <td>5.0</td>\n",
              "      <td>27.0</td>\n",
              "      <td>0</td>\n",
              "      <td>0</td>\n",
              "      <td>0</td>\n",
              "      <td>1</td>\n",
              "      <td>1</td>\n",
              "      <td>0</td>\n",
              "      <td>1</td>\n",
              "      <td>0</td>\n",
              "      <td>0</td>\n",
              "      <td>1</td>\n",
              "      <td>1</td>\n",
              "      <td>0</td>\n",
              "      <td>0</td>\n",
              "      <td>0</td>\n",
              "      <td>0</td>\n",
              "      <td>0</td>\n",
              "      <td>1</td>\n",
              "      <td>0</td>\n",
              "      <td>0</td>\n",
              "      <td>0</td>\n",
              "      <td>1</td>\n",
              "      <td>0</td>\n",
              "      <td>0</td>\n",
              "      <td>0</td>\n",
              "      <td>0</td>\n",
              "      <td>0</td>\n",
              "      <td>0</td>\n",
              "      <td>0</td>\n",
              "      <td>0</td>\n",
              "      <td>0</td>\n",
              "      <td>0</td>\n",
              "      <td>1</td>\n",
              "      <td>0</td>\n",
              "      <td>0</td>\n",
              "    </tr>\n",
              "    <tr>\n",
              "      <th>23522</th>\n",
              "      <td>2018</td>\n",
              "      <td>7.0</td>\n",
              "      <td>30.0</td>\n",
              "      <td>0</td>\n",
              "      <td>0</td>\n",
              "      <td>0</td>\n",
              "      <td>1</td>\n",
              "      <td>1</td>\n",
              "      <td>0</td>\n",
              "      <td>0</td>\n",
              "      <td>1</td>\n",
              "      <td>0</td>\n",
              "      <td>1</td>\n",
              "      <td>1</td>\n",
              "      <td>0</td>\n",
              "      <td>1</td>\n",
              "      <td>0</td>\n",
              "      <td>0</td>\n",
              "      <td>0</td>\n",
              "      <td>0</td>\n",
              "      <td>0</td>\n",
              "      <td>0</td>\n",
              "      <td>0</td>\n",
              "      <td>0</td>\n",
              "      <td>1</td>\n",
              "      <td>0</td>\n",
              "      <td>0</td>\n",
              "      <td>0</td>\n",
              "      <td>0</td>\n",
              "      <td>0</td>\n",
              "      <td>0</td>\n",
              "      <td>0</td>\n",
              "      <td>0</td>\n",
              "      <td>0</td>\n",
              "      <td>0</td>\n",
              "      <td>0</td>\n",
              "      <td>1</td>\n",
              "    </tr>\n",
              "    <tr>\n",
              "      <th>23523</th>\n",
              "      <td>2018</td>\n",
              "      <td>10.0</td>\n",
              "      <td>20.0</td>\n",
              "      <td>0</td>\n",
              "      <td>0</td>\n",
              "      <td>0</td>\n",
              "      <td>1</td>\n",
              "      <td>1</td>\n",
              "      <td>0</td>\n",
              "      <td>1</td>\n",
              "      <td>0</td>\n",
              "      <td>0</td>\n",
              "      <td>1</td>\n",
              "      <td>0</td>\n",
              "      <td>1</td>\n",
              "      <td>0</td>\n",
              "      <td>0</td>\n",
              "      <td>0</td>\n",
              "      <td>1</td>\n",
              "      <td>0</td>\n",
              "      <td>0</td>\n",
              "      <td>0</td>\n",
              "      <td>0</td>\n",
              "      <td>0</td>\n",
              "      <td>1</td>\n",
              "      <td>0</td>\n",
              "      <td>0</td>\n",
              "      <td>0</td>\n",
              "      <td>0</td>\n",
              "      <td>0</td>\n",
              "      <td>0</td>\n",
              "      <td>0</td>\n",
              "      <td>0</td>\n",
              "      <td>1</td>\n",
              "      <td>0</td>\n",
              "      <td>0</td>\n",
              "      <td>0</td>\n",
              "    </tr>\n",
              "  </tbody>\n",
              "</table>\n",
              "<p>23340 rows × 37 columns</p>\n",
              "</div>"
            ],
            "text/plain": [
              "       year  ...  job_type_Self employed\n",
              "0      2018  ...                       1\n",
              "1      2018  ...                       0\n",
              "2      2018  ...                       1\n",
              "3      2018  ...                       0\n",
              "4      2018  ...                       0\n",
              "...     ...  ...                     ...\n",
              "23519  2018  ...                       0\n",
              "23520  2018  ...                       0\n",
              "23521  2018  ...                       0\n",
              "23522  2018  ...                       1\n",
              "23523  2018  ...                       0\n",
              "\n",
              "[23340 rows x 37 columns]"
            ]
          },
          "metadata": {},
          "execution_count": 134
        }
      ]
    },
    {
      "cell_type": "code",
      "metadata": {
        "colab": {
          "base_uri": "https://localhost:8080/"
        },
        "id": "8fwV9vYj8k2d",
        "outputId": "9d784b7f-5fa9-4261-eec4-bd26d2cba630"
      },
      "source": [
        "dummy.shape"
      ],
      "execution_count": 135,
      "outputs": [
        {
          "output_type": "execute_result",
          "data": {
            "text/plain": [
              "(23340, 37)"
            ]
          },
          "metadata": {},
          "execution_count": 135
        }
      ]
    },
    {
      "cell_type": "code",
      "metadata": {
        "colab": {
          "base_uri": "https://localhost:8080/",
          "height": 252
        },
        "id": "fxTu96Vk8qdE",
        "outputId": "ce488ac7-adf4-4336-8ef8-e686f86eb0f8"
      },
      "source": [
        "#Preprocessing\n",
        "#Dividing my features into the feature set and corresponding labels: X and Y respectively.\n",
        "x = df.drop(\"has_bank_account\",1)\n",
        "y = df[\"has_bank_account\"]\n",
        "x.head()"
      ],
      "execution_count": 136,
      "outputs": [
        {
          "output_type": "execute_result",
          "data": {
            "text/html": [
              "<div>\n",
              "<style scoped>\n",
              "    .dataframe tbody tr th:only-of-type {\n",
              "        vertical-align: middle;\n",
              "    }\n",
              "\n",
              "    .dataframe tbody tr th {\n",
              "        vertical-align: top;\n",
              "    }\n",
              "\n",
              "    .dataframe thead th {\n",
              "        text-align: right;\n",
              "    }\n",
              "</style>\n",
              "<table border=\"1\" class=\"dataframe\">\n",
              "  <thead>\n",
              "    <tr style=\"text-align: right;\">\n",
              "      <th></th>\n",
              "      <th>country</th>\n",
              "      <th>year</th>\n",
              "      <th>location_type</th>\n",
              "      <th>cell_phone_access</th>\n",
              "      <th>household_size</th>\n",
              "      <th>respondent_age</th>\n",
              "      <th>gender_of_respondent</th>\n",
              "      <th>marital_status</th>\n",
              "      <th>education_level</th>\n",
              "      <th>job_type</th>\n",
              "    </tr>\n",
              "  </thead>\n",
              "  <tbody>\n",
              "    <tr>\n",
              "      <th>0</th>\n",
              "      <td>Kenya</td>\n",
              "      <td>2018</td>\n",
              "      <td>Rural</td>\n",
              "      <td>Yes</td>\n",
              "      <td>3.0</td>\n",
              "      <td>24.0</td>\n",
              "      <td>Female</td>\n",
              "      <td>Married/Living together</td>\n",
              "      <td>Secondary education</td>\n",
              "      <td>Self employed</td>\n",
              "    </tr>\n",
              "    <tr>\n",
              "      <th>1</th>\n",
              "      <td>Kenya</td>\n",
              "      <td>2018</td>\n",
              "      <td>Rural</td>\n",
              "      <td>No</td>\n",
              "      <td>5.0</td>\n",
              "      <td>70.0</td>\n",
              "      <td>Female</td>\n",
              "      <td>Widowed</td>\n",
              "      <td>No formal education</td>\n",
              "      <td>Government Dependent</td>\n",
              "    </tr>\n",
              "    <tr>\n",
              "      <th>2</th>\n",
              "      <td>Kenya</td>\n",
              "      <td>2018</td>\n",
              "      <td>Urban</td>\n",
              "      <td>Yes</td>\n",
              "      <td>5.0</td>\n",
              "      <td>26.0</td>\n",
              "      <td>Male</td>\n",
              "      <td>Single/Never Married</td>\n",
              "      <td>Vocational/Specialised training</td>\n",
              "      <td>Self employed</td>\n",
              "    </tr>\n",
              "    <tr>\n",
              "      <th>3</th>\n",
              "      <td>Kenya</td>\n",
              "      <td>2018</td>\n",
              "      <td>Rural</td>\n",
              "      <td>Yes</td>\n",
              "      <td>5.0</td>\n",
              "      <td>34.0</td>\n",
              "      <td>Female</td>\n",
              "      <td>Married/Living together</td>\n",
              "      <td>Primary education</td>\n",
              "      <td>Formally employed Private</td>\n",
              "    </tr>\n",
              "    <tr>\n",
              "      <th>4</th>\n",
              "      <td>Kenya</td>\n",
              "      <td>2018</td>\n",
              "      <td>Urban</td>\n",
              "      <td>No</td>\n",
              "      <td>8.0</td>\n",
              "      <td>26.0</td>\n",
              "      <td>Male</td>\n",
              "      <td>Single/Never Married</td>\n",
              "      <td>Primary education</td>\n",
              "      <td>Informally employed</td>\n",
              "    </tr>\n",
              "  </tbody>\n",
              "</table>\n",
              "</div>"
            ],
            "text/plain": [
              "  country  year  ...                  education_level                   job_type\n",
              "0   Kenya  2018  ...              Secondary education              Self employed\n",
              "1   Kenya  2018  ...              No formal education       Government Dependent\n",
              "2   Kenya  2018  ...  Vocational/Specialised training              Self employed\n",
              "3   Kenya  2018  ...                Primary education  Formally employed Private\n",
              "4   Kenya  2018  ...                Primary education        Informally employed\n",
              "\n",
              "[5 rows x 10 columns]"
            ]
          },
          "metadata": {},
          "execution_count": 136
        }
      ]
    },
    {
      "cell_type": "code",
      "metadata": {
        "colab": {
          "base_uri": "https://localhost:8080/"
        },
        "id": "gBYU2pko9uG-",
        "outputId": "4ddcd9d2-6a47-41e2-bc0f-f569b1dba6c7"
      },
      "source": [
        "x.shape"
      ],
      "execution_count": 137,
      "outputs": [
        {
          "output_type": "execute_result",
          "data": {
            "text/plain": [
              "(23340, 10)"
            ]
          },
          "metadata": {},
          "execution_count": 137
        }
      ]
    },
    {
      "cell_type": "code",
      "metadata": {
        "colab": {
          "base_uri": "https://localhost:8080/"
        },
        "id": "E8UBCbPO9xvP",
        "outputId": "b6e3b471-080c-4673-b86f-89e7d66b2eb2"
      },
      "source": [
        "y.shape"
      ],
      "execution_count": 138,
      "outputs": [
        {
          "output_type": "execute_result",
          "data": {
            "text/plain": [
              "(23340,)"
            ]
          },
          "metadata": {},
          "execution_count": 138
        }
      ]
    },
    {
      "cell_type": "code",
      "metadata": {
        "colab": {
          "base_uri": "https://localhost:8080/",
          "height": 163
        },
        "id": "bvmNIero96Rm",
        "outputId": "9bce9742-734c-4ee5-dad7-a1ba21c91a53"
      },
      "source": [
        "#creating dummy for the categorical data\n",
        "x = pd.get_dummies(x)\n",
        "x.head(2)"
      ],
      "execution_count": 139,
      "outputs": [
        {
          "output_type": "execute_result",
          "data": {
            "text/html": [
              "<div>\n",
              "<style scoped>\n",
              "    .dataframe tbody tr th:only-of-type {\n",
              "        vertical-align: middle;\n",
              "    }\n",
              "\n",
              "    .dataframe tbody tr th {\n",
              "        vertical-align: top;\n",
              "    }\n",
              "\n",
              "    .dataframe thead th {\n",
              "        text-align: right;\n",
              "    }\n",
              "</style>\n",
              "<table border=\"1\" class=\"dataframe\">\n",
              "  <thead>\n",
              "    <tr style=\"text-align: right;\">\n",
              "      <th></th>\n",
              "      <th>year</th>\n",
              "      <th>household_size</th>\n",
              "      <th>respondent_age</th>\n",
              "      <th>country_Kenya</th>\n",
              "      <th>country_Rwanda</th>\n",
              "      <th>country_Tanzania</th>\n",
              "      <th>country_Uganda</th>\n",
              "      <th>location_type_Rural</th>\n",
              "      <th>location_type_Urban</th>\n",
              "      <th>cell_phone_access_No</th>\n",
              "      <th>cell_phone_access_Yes</th>\n",
              "      <th>gender_of_respondent_Female</th>\n",
              "      <th>gender_of_respondent_Male</th>\n",
              "      <th>marital_status_Divorced/Seperated</th>\n",
              "      <th>marital_status_Dont know</th>\n",
              "      <th>marital_status_Married/Living together</th>\n",
              "      <th>marital_status_Single/Never Married</th>\n",
              "      <th>marital_status_Widowed</th>\n",
              "      <th>education_level_6</th>\n",
              "      <th>education_level_No formal education</th>\n",
              "      <th>education_level_Other/Dont know/RTA</th>\n",
              "      <th>education_level_Primary education</th>\n",
              "      <th>education_level_Secondary education</th>\n",
              "      <th>education_level_Tertiary education</th>\n",
              "      <th>education_level_Vocational/Specialised training</th>\n",
              "      <th>job_type_Dont Know/Refuse to answer</th>\n",
              "      <th>job_type_Farming and Fishing</th>\n",
              "      <th>job_type_Formally employed Government</th>\n",
              "      <th>job_type_Formally employed Private</th>\n",
              "      <th>job_type_Government Dependent</th>\n",
              "      <th>job_type_Informally employed</th>\n",
              "      <th>job_type_No Income</th>\n",
              "      <th>job_type_Other Income</th>\n",
              "      <th>job_type_Remittance Dependent</th>\n",
              "      <th>job_type_Self employed</th>\n",
              "    </tr>\n",
              "  </thead>\n",
              "  <tbody>\n",
              "    <tr>\n",
              "      <th>0</th>\n",
              "      <td>2018</td>\n",
              "      <td>3.0</td>\n",
              "      <td>24.0</td>\n",
              "      <td>1</td>\n",
              "      <td>0</td>\n",
              "      <td>0</td>\n",
              "      <td>0</td>\n",
              "      <td>1</td>\n",
              "      <td>0</td>\n",
              "      <td>0</td>\n",
              "      <td>1</td>\n",
              "      <td>1</td>\n",
              "      <td>0</td>\n",
              "      <td>0</td>\n",
              "      <td>0</td>\n",
              "      <td>1</td>\n",
              "      <td>0</td>\n",
              "      <td>0</td>\n",
              "      <td>0</td>\n",
              "      <td>0</td>\n",
              "      <td>0</td>\n",
              "      <td>0</td>\n",
              "      <td>1</td>\n",
              "      <td>0</td>\n",
              "      <td>0</td>\n",
              "      <td>0</td>\n",
              "      <td>0</td>\n",
              "      <td>0</td>\n",
              "      <td>0</td>\n",
              "      <td>0</td>\n",
              "      <td>0</td>\n",
              "      <td>0</td>\n",
              "      <td>0</td>\n",
              "      <td>0</td>\n",
              "      <td>1</td>\n",
              "    </tr>\n",
              "    <tr>\n",
              "      <th>1</th>\n",
              "      <td>2018</td>\n",
              "      <td>5.0</td>\n",
              "      <td>70.0</td>\n",
              "      <td>1</td>\n",
              "      <td>0</td>\n",
              "      <td>0</td>\n",
              "      <td>0</td>\n",
              "      <td>1</td>\n",
              "      <td>0</td>\n",
              "      <td>1</td>\n",
              "      <td>0</td>\n",
              "      <td>1</td>\n",
              "      <td>0</td>\n",
              "      <td>0</td>\n",
              "      <td>0</td>\n",
              "      <td>0</td>\n",
              "      <td>0</td>\n",
              "      <td>1</td>\n",
              "      <td>0</td>\n",
              "      <td>1</td>\n",
              "      <td>0</td>\n",
              "      <td>0</td>\n",
              "      <td>0</td>\n",
              "      <td>0</td>\n",
              "      <td>0</td>\n",
              "      <td>0</td>\n",
              "      <td>0</td>\n",
              "      <td>0</td>\n",
              "      <td>0</td>\n",
              "      <td>1</td>\n",
              "      <td>0</td>\n",
              "      <td>0</td>\n",
              "      <td>0</td>\n",
              "      <td>0</td>\n",
              "      <td>0</td>\n",
              "    </tr>\n",
              "  </tbody>\n",
              "</table>\n",
              "</div>"
            ],
            "text/plain": [
              "   year  household_size  ...  job_type_Remittance Dependent  job_type_Self employed\n",
              "0  2018             3.0  ...                              0                       1\n",
              "1  2018             5.0  ...                              0                       0\n",
              "\n",
              "[2 rows x 35 columns]"
            ]
          },
          "metadata": {},
          "execution_count": 139
        }
      ]
    },
    {
      "cell_type": "code",
      "metadata": {
        "colab": {
          "base_uri": "https://localhost:8080/"
        },
        "id": "aX_dfTHd-GKb",
        "outputId": "662501f2-4e60-4c2e-b18e-5619767cd085"
      },
      "source": [
        "#splitting the data into training and test sets\n",
        "from sklearn.model_selection import train_test_split\n",
        "x_train, x_test, y_train, y_test = train_test_split(x,y)\n",
        "x_train, x_test, y_train, y_test"
      ],
      "execution_count": 140,
      "outputs": [
        {
          "output_type": "execute_result",
          "data": {
            "text/plain": [
              "(       year  ...  job_type_Self employed\n",
              " 17830  2017  ...                       0\n",
              " 3581   2018  ...                       0\n",
              " 23242  2018  ...                       0\n",
              " 16976  2017  ...                       1\n",
              " 3914   2018  ...                       0\n",
              " ...     ...  ...                     ...\n",
              " 19882  2017  ...                       0\n",
              " 10126  2016  ...                       0\n",
              " 23371  2018  ...                       1\n",
              " 7061   2016  ...                       0\n",
              " 6204   2016  ...                       0\n",
              " \n",
              " [17505 rows x 35 columns],        year  ...  job_type_Self employed\n",
              " 5158   2018  ...                       0\n",
              " 5566   2018  ...                       0\n",
              " 15326  2017  ...                       0\n",
              " 13228  2016  ...                       1\n",
              " 1665   2018  ...                       1\n",
              " ...     ...  ...                     ...\n",
              " 18045  2017  ...                       1\n",
              " 6465   2016  ...                       0\n",
              " 21792  2018  ...                       0\n",
              " 18541  2017  ...                       1\n",
              " 12530  2016  ...                       1\n",
              " \n",
              " [5835 rows x 35 columns], 17830    No\n",
              " 3581     No\n",
              " 23242    No\n",
              " 16976    No\n",
              " 3914     No\n",
              "          ..\n",
              " 19882    No\n",
              " 10126    No\n",
              " 23371    No\n",
              " 7061     No\n",
              " 6204     No\n",
              " Name: has_bank_account, Length: 17505, dtype: object, 5158      No\n",
              " 5566      No\n",
              " 15326     No\n",
              " 13228    Yes\n",
              " 1665      No\n",
              "         ... \n",
              " 18045     No\n",
              " 6465     Yes\n",
              " 21792     No\n",
              " 18541     No\n",
              " 12530     No\n",
              " Name: has_bank_account, Length: 5835, dtype: object)"
            ]
          },
          "metadata": {},
          "execution_count": 140
        }
      ]
    },
    {
      "cell_type": "code",
      "metadata": {
        "colab": {
          "base_uri": "https://localhost:8080/"
        },
        "id": "gktZy7Y6-ma9",
        "outputId": "01e1d671-b5db-4a98-f0ec-a9d8f42f62fc"
      },
      "source": [
        "#Perform Feature Scaling#standardisation\n",
        "#As you can see in the dataset, all values are not in the same range. And that requires a lot of time for calculation. So to overcome this problem, we perform feature scaling.\n",
        "\n",
        "#Feature scaling help us to normalize the data within a particular range.\n",
        "from sklearn.preprocessing import StandardScaler\n",
        "sc = StandardScaler()\n",
        "x_train = sc.fit_transform(x_train)\n",
        "x_test = sc.transform(x_test)\n",
        "x_test\n",
        "x_train"
      ],
      "execution_count": 141,
      "outputs": [
        {
          "output_type": "execute_result",
          "data": {
            "text/plain": [
              "array([[ 0.0217376 , -1.17497931, -1.38193638, ..., -0.2185507 ,\n",
              "        -0.34220278, -0.61298175],\n",
              "       [ 1.1998078 ,  1.02208239, -0.53689156, ..., -0.2185507 ,\n",
              "        -0.34220278, -0.61298175],\n",
              "       [ 1.1998078 , -0.73556697, -1.26121569, ..., -0.2185507 ,\n",
              "        -0.34220278, -0.61298175],\n",
              "       ...,\n",
              "       [ 1.1998078 ,  4.97679344, -0.23508983, ..., -0.2185507 ,\n",
              "        -0.34220278,  1.63136995],\n",
              "       [-1.1563326 , -0.29615463, -0.89905362, ..., -0.2185507 ,\n",
              "        -0.34220278, -0.61298175],\n",
              "       [-1.1563326 , -0.29615463, -0.95941397, ..., -0.2185507 ,\n",
              "        -0.34220278, -0.61298175]])"
            ]
          },
          "metadata": {},
          "execution_count": 141
        }
      ]
    },
    {
      "cell_type": "code",
      "metadata": {
        "colab": {
          "base_uri": "https://localhost:8080/"
        },
        "id": "q3AdZawXAphA",
        "outputId": "930dbcad-2b6e-42b4-aae4-03be0e62be9d"
      },
      "source": [
        "#Principal Component Analysis\n",
        "from sklearn.decomposition import PCA\n",
        "pca = PCA()\n",
        "x_train = pca.fit_transform(x_train)\n",
        "x_test = pca.transform(x_test)\n",
        "x_train\n",
        "x_test"
      ],
      "execution_count": 142,
      "outputs": [
        {
          "output_type": "execute_result",
          "data": {
            "text/plain": [
              "array([[ 8.18057426e-02,  1.71621647e+00,  2.07274880e+00, ...,\n",
              "        -8.82307284e-16, -2.71652662e-16,  6.24379775e-16],\n",
              "       [ 9.94192984e-01,  7.97655199e-02,  1.38342137e+00, ...,\n",
              "         9.63438494e-16,  1.97808815e-17,  3.21291058e-16],\n",
              "       [ 2.34059322e+00, -2.58863713e-01, -1.06174145e+00, ...,\n",
              "        -8.00665245e-18, -2.30019299e-16,  4.30578637e-16],\n",
              "       ...,\n",
              "       [ 2.23833100e-01,  3.10901764e+00,  4.03837537e+00, ...,\n",
              "        -8.00665245e-18,  5.74892394e-16, -7.08755216e-16],\n",
              "       [ 1.89024958e+00, -1.26804410e+00, -1.99153796e+00, ...,\n",
              "         5.81807916e-16, -5.92859509e-17, -7.35858485e-16],\n",
              "       [-1.65259519e+00, -1.44533575e+00, -1.21209261e+00, ...,\n",
              "        -2.50859353e-16, -1.14797102e-16, -2.58809529e-16]])"
            ]
          },
          "metadata": {},
          "execution_count": 142
        }
      ]
    },
    {
      "cell_type": "code",
      "metadata": {
        "colab": {
          "base_uri": "https://localhost:8080/"
        },
        "id": "d2EtbMCRAwi3",
        "outputId": "dedeb9ba-fd67-4bfe-f234-f74c69ff83a1"
      },
      "source": [
        "#Explained Variance Ratio\n",
        "#returns the variance caused by each of the principal components.\n",
        "explained_variance = pca.explained_variance_ratio_\n",
        "explained_variance"
      ],
      "execution_count": 143,
      "outputs": [
        {
          "output_type": "execute_result",
          "data": {
            "text/plain": [
              "array([1.17822678e-01, 8.09074997e-02, 7.19685677e-02, 5.44844890e-02,\n",
              "       5.39049011e-02, 4.81237434e-02, 4.38683641e-02, 4.03034171e-02,\n",
              "       3.76413667e-02, 3.46449463e-02, 3.26273458e-02, 3.05396587e-02,\n",
              "       2.99122702e-02, 2.90703643e-02, 2.89068820e-02, 2.85245701e-02,\n",
              "       2.84883817e-02, 2.80603759e-02, 2.76373952e-02, 2.70977458e-02,\n",
              "       2.53552637e-02, 2.33215976e-02, 2.06567735e-02, 1.81394825e-02,\n",
              "       1.39015697e-02, 1.26747940e-02, 1.14155561e-02, 1.71324807e-31,\n",
              "       1.25796381e-32, 5.96535976e-33, 3.97095322e-33, 2.31833875e-33,\n",
              "       1.07731816e-33, 7.25569040e-34, 1.12498852e-34])"
            ]
          },
          "metadata": {},
          "execution_count": 143
        }
      ]
    },
    {
      "cell_type": "code",
      "metadata": {
        "id": "5f_q5OVwA-Qj"
      },
      "source": [
        "#Apply PCA\n",
        "from sklearn.decomposition import PCA\n",
        "pca = PCA(n_components = 2)\n",
        "x_train = pca.fit_transform(x_train)\n",
        "x_test = pca.transform(x_test)"
      ],
      "execution_count": 144,
      "outputs": []
    },
    {
      "cell_type": "code",
      "metadata": {
        "colab": {
          "base_uri": "https://localhost:8080/"
        },
        "id": "Bfbmqr8dBKRT",
        "outputId": "dc8d3024-9ac2-4f9f-e0bc-a35391afb42e"
      },
      "source": [
        "#training and making prediction\n",
        "#we use random forest\n",
        "from sklearn.ensemble import RandomForestClassifier\n",
        "rfc = RandomForestClassifier()\n",
        "rfc.fit(x_train,y_train)\n"
      ],
      "execution_count": 145,
      "outputs": [
        {
          "output_type": "execute_result",
          "data": {
            "text/plain": [
              "RandomForestClassifier(bootstrap=True, ccp_alpha=0.0, class_weight=None,\n",
              "                       criterion='gini', max_depth=None, max_features='auto',\n",
              "                       max_leaf_nodes=None, max_samples=None,\n",
              "                       min_impurity_decrease=0.0, min_impurity_split=None,\n",
              "                       min_samples_leaf=1, min_samples_split=2,\n",
              "                       min_weight_fraction_leaf=0.0, n_estimators=100,\n",
              "                       n_jobs=None, oob_score=False, random_state=None,\n",
              "                       verbose=0, warm_start=False)"
            ]
          },
          "metadata": {},
          "execution_count": 145
        }
      ]
    },
    {
      "cell_type": "code",
      "metadata": {
        "colab": {
          "base_uri": "https://localhost:8080/"
        },
        "id": "rSWj-5HBBTZf",
        "outputId": "2f3770c6-7cdb-466f-ca70-32f299356f68"
      },
      "source": [
        " #Predict the Test Set Results\n",
        "y_pred = rfc.predict(x_test)\n",
        "y_pred"
      ],
      "execution_count": 146,
      "outputs": [
        {
          "output_type": "execute_result",
          "data": {
            "text/plain": [
              "array(['No', 'No', 'No', ..., 'No', 'No', 'No'], dtype=object)"
            ]
          },
          "metadata": {},
          "execution_count": 146
        }
      ]
    },
    {
      "cell_type": "code",
      "metadata": {
        "colab": {
          "base_uri": "https://localhost:8080/"
        },
        "id": "mLxs2USbBbPh",
        "outputId": "c4cf65d9-b6c2-4d3d-8761-2eb7c60f37cb"
      },
      "source": [
        "#Make the Confusion Matrix\n",
        "#to explain predicted values\n",
        "from sklearn.metrics import confusion_matrix, accuracy_score\n",
        "cm = confusion_matrix(y_test, y_pred)\n",
        "print(cm)\n",
        "accuracy_score(y_test,y_pred)"
      ],
      "execution_count": 147,
      "outputs": [
        {
          "output_type": "stream",
          "name": "stdout",
          "text": [
            "[[4797  234]\n",
            " [ 606  198]]\n"
          ]
        },
        {
          "output_type": "execute_result",
          "data": {
            "text/plain": [
              "0.8560411311053985"
            ]
          },
          "metadata": {},
          "execution_count": 147
        }
      ]
    },
    {
      "cell_type": "markdown",
      "metadata": {
        "id": "MYx2GjNuDYqZ"
      },
      "source": [
        "It has an accuracy of 85.60%"
      ]
    },
    {
      "cell_type": "markdown",
      "metadata": {
        "id": "VYoIs-BEH0_e"
      },
      "source": [
        "# ***`(b) FACTOR ANALYSIS`***"
      ]
    },
    {
      "cell_type": "code",
      "metadata": {
        "colab": {
          "base_uri": "https://localhost:8080/",
          "height": 302
        },
        "id": "yczY2DMCHzzU",
        "outputId": "a28238a3-7f21-4b69-912b-9e667ff4209b"
      },
      "source": [
        "df.head()"
      ],
      "execution_count": 293,
      "outputs": [
        {
          "output_type": "execute_result",
          "data": {
            "text/html": [
              "<div>\n",
              "<style scoped>\n",
              "    .dataframe tbody tr th:only-of-type {\n",
              "        vertical-align: middle;\n",
              "    }\n",
              "\n",
              "    .dataframe tbody tr th {\n",
              "        vertical-align: top;\n",
              "    }\n",
              "\n",
              "    .dataframe thead th {\n",
              "        text-align: right;\n",
              "    }\n",
              "</style>\n",
              "<table border=\"1\" class=\"dataframe\">\n",
              "  <thead>\n",
              "    <tr style=\"text-align: right;\">\n",
              "      <th></th>\n",
              "      <th>country</th>\n",
              "      <th>year</th>\n",
              "      <th>has_bank_account</th>\n",
              "      <th>location_type</th>\n",
              "      <th>cell_phone_access</th>\n",
              "      <th>household_size</th>\n",
              "      <th>respondent_age</th>\n",
              "      <th>gender_of_respondent</th>\n",
              "      <th>marital_status</th>\n",
              "      <th>education_level</th>\n",
              "      <th>job_type</th>\n",
              "    </tr>\n",
              "  </thead>\n",
              "  <tbody>\n",
              "    <tr>\n",
              "      <th>0</th>\n",
              "      <td>Kenya</td>\n",
              "      <td>2018</td>\n",
              "      <td>Yes</td>\n",
              "      <td>Rural</td>\n",
              "      <td>Yes</td>\n",
              "      <td>3.0</td>\n",
              "      <td>24.0</td>\n",
              "      <td>Female</td>\n",
              "      <td>Married/Living together</td>\n",
              "      <td>Secondary education</td>\n",
              "      <td>Self employed</td>\n",
              "    </tr>\n",
              "    <tr>\n",
              "      <th>1</th>\n",
              "      <td>Kenya</td>\n",
              "      <td>2018</td>\n",
              "      <td>No</td>\n",
              "      <td>Rural</td>\n",
              "      <td>No</td>\n",
              "      <td>5.0</td>\n",
              "      <td>70.0</td>\n",
              "      <td>Female</td>\n",
              "      <td>Widowed</td>\n",
              "      <td>No formal education</td>\n",
              "      <td>Government Dependent</td>\n",
              "    </tr>\n",
              "    <tr>\n",
              "      <th>2</th>\n",
              "      <td>Kenya</td>\n",
              "      <td>2018</td>\n",
              "      <td>Yes</td>\n",
              "      <td>Urban</td>\n",
              "      <td>Yes</td>\n",
              "      <td>5.0</td>\n",
              "      <td>26.0</td>\n",
              "      <td>Male</td>\n",
              "      <td>Single/Never Married</td>\n",
              "      <td>Vocational/Specialised training</td>\n",
              "      <td>Self employed</td>\n",
              "    </tr>\n",
              "    <tr>\n",
              "      <th>3</th>\n",
              "      <td>Kenya</td>\n",
              "      <td>2018</td>\n",
              "      <td>No</td>\n",
              "      <td>Rural</td>\n",
              "      <td>Yes</td>\n",
              "      <td>5.0</td>\n",
              "      <td>34.0</td>\n",
              "      <td>Female</td>\n",
              "      <td>Married/Living together</td>\n",
              "      <td>Primary education</td>\n",
              "      <td>Formally employed Private</td>\n",
              "    </tr>\n",
              "    <tr>\n",
              "      <th>4</th>\n",
              "      <td>Kenya</td>\n",
              "      <td>2018</td>\n",
              "      <td>No</td>\n",
              "      <td>Urban</td>\n",
              "      <td>No</td>\n",
              "      <td>8.0</td>\n",
              "      <td>26.0</td>\n",
              "      <td>Male</td>\n",
              "      <td>Single/Never Married</td>\n",
              "      <td>Primary education</td>\n",
              "      <td>Informally employed</td>\n",
              "    </tr>\n",
              "  </tbody>\n",
              "</table>\n",
              "</div>"
            ],
            "text/plain": [
              "  country  year  ...                  education_level                   job_type\n",
              "0   Kenya  2018  ...              Secondary education              Self employed\n",
              "1   Kenya  2018  ...              No formal education       Government Dependent\n",
              "2   Kenya  2018  ...  Vocational/Specialised training              Self employed\n",
              "3   Kenya  2018  ...                Primary education  Formally employed Private\n",
              "4   Kenya  2018  ...                Primary education        Informally employed\n",
              "\n",
              "[5 rows x 11 columns]"
            ]
          },
          "metadata": {},
          "execution_count": 293
        }
      ]
    },
    {
      "cell_type": "code",
      "metadata": {
        "id": "7XYgqe0ZIHXn"
      },
      "source": [
        "#get dummy data\n",
        "dummy = pd.get_dummies(df)"
      ],
      "execution_count": 294,
      "outputs": []
    },
    {
      "cell_type": "code",
      "metadata": {
        "colab": {
          "base_uri": "https://localhost:8080/"
        },
        "id": "uNqVuUGdIUu4",
        "outputId": "de0ee0dd-2881-4328-92f5-a21996e37e2c"
      },
      "source": [
        "dummy.info()"
      ],
      "execution_count": 295,
      "outputs": [
        {
          "output_type": "stream",
          "name": "stdout",
          "text": [
            "<class 'pandas.core.frame.DataFrame'>\n",
            "Int64Index: 23340 entries, 0 to 23523\n",
            "Data columns (total 37 columns):\n",
            " #   Column                                           Non-Null Count  Dtype  \n",
            "---  ------                                           --------------  -----  \n",
            " 0   year                                             23340 non-null  int64  \n",
            " 1   household_size                                   23340 non-null  float64\n",
            " 2   respondent_age                                   23340 non-null  float64\n",
            " 3   country_Kenya                                    23340 non-null  uint8  \n",
            " 4   country_Rwanda                                   23340 non-null  uint8  \n",
            " 5   country_Tanzania                                 23340 non-null  uint8  \n",
            " 6   country_Uganda                                   23340 non-null  uint8  \n",
            " 7   has_bank_account_No                              23340 non-null  uint8  \n",
            " 8   has_bank_account_Yes                             23340 non-null  uint8  \n",
            " 9   location_type_Rural                              23340 non-null  uint8  \n",
            " 10  location_type_Urban                              23340 non-null  uint8  \n",
            " 11  cell_phone_access_No                             23340 non-null  uint8  \n",
            " 12  cell_phone_access_Yes                            23340 non-null  uint8  \n",
            " 13  gender_of_respondent_Female                      23340 non-null  uint8  \n",
            " 14  gender_of_respondent_Male                        23340 non-null  uint8  \n",
            " 15  marital_status_Divorced/Seperated                23340 non-null  uint8  \n",
            " 16  marital_status_Dont know                         23340 non-null  uint8  \n",
            " 17  marital_status_Married/Living together           23340 non-null  uint8  \n",
            " 18  marital_status_Single/Never Married              23340 non-null  uint8  \n",
            " 19  marital_status_Widowed                           23340 non-null  uint8  \n",
            " 20  education_level_6                                23340 non-null  uint8  \n",
            " 21  education_level_No formal education              23340 non-null  uint8  \n",
            " 22  education_level_Other/Dont know/RTA              23340 non-null  uint8  \n",
            " 23  education_level_Primary education                23340 non-null  uint8  \n",
            " 24  education_level_Secondary education              23340 non-null  uint8  \n",
            " 25  education_level_Tertiary education               23340 non-null  uint8  \n",
            " 26  education_level_Vocational/Specialised training  23340 non-null  uint8  \n",
            " 27  job_type_Dont Know/Refuse to answer              23340 non-null  uint8  \n",
            " 28  job_type_Farming and Fishing                     23340 non-null  uint8  \n",
            " 29  job_type_Formally employed Government            23340 non-null  uint8  \n",
            " 30  job_type_Formally employed Private               23340 non-null  uint8  \n",
            " 31  job_type_Government Dependent                    23340 non-null  uint8  \n",
            " 32  job_type_Informally employed                     23340 non-null  uint8  \n",
            " 33  job_type_No Income                               23340 non-null  uint8  \n",
            " 34  job_type_Other Income                            23340 non-null  uint8  \n",
            " 35  job_type_Remittance Dependent                    23340 non-null  uint8  \n",
            " 36  job_type_Self employed                           23340 non-null  uint8  \n",
            "dtypes: float64(2), int64(1), uint8(34)\n",
            "memory usage: 2.1 MB\n"
          ]
        }
      ]
    },
    {
      "cell_type": "code",
      "metadata": {
        "colab": {
          "base_uri": "https://localhost:8080/"
        },
        "id": "I2VKmhDyIZaV",
        "outputId": "5ef9ecdb-9ace-4f0d-a276-f7d6c8cb17a2"
      },
      "source": [
        "#perform adequacy test\n",
        "#Use Bartlett’s test\n",
        "# Bartlett’s test of sphericity checks whether or not the observed variables intercorrelate at all \n",
        "# Installing factor analyzer \n",
        "!pip install factor_analyzer==0.2.3\n",
        "\n",
        "from factor_analyzer.factor_analyzer import calculate_bartlett_sphericity\n",
        "\n",
        "chi_square_value,p_value=calculate_bartlett_sphericity(dummy)\n",
        "chi_square_value, p_value\n"
      ],
      "execution_count": 297,
      "outputs": [
        {
          "output_type": "stream",
          "name": "stdout",
          "text": [
            "Requirement already satisfied: factor_analyzer==0.2.3 in /usr/local/lib/python3.7/dist-packages (0.2.3)\n",
            "Requirement already satisfied: numpy in /usr/local/lib/python3.7/dist-packages (from factor_analyzer==0.2.3) (1.19.5)\n",
            "Requirement already satisfied: scipy in /usr/local/lib/python3.7/dist-packages (from factor_analyzer==0.2.3) (1.4.1)\n",
            "Requirement already satisfied: pandas in /usr/local/lib/python3.7/dist-packages (from factor_analyzer==0.2.3) (1.1.5)\n",
            "Requirement already satisfied: pytz>=2017.2 in /usr/local/lib/python3.7/dist-packages (from pandas->factor_analyzer==0.2.3) (2018.9)\n",
            "Requirement already satisfied: python-dateutil>=2.7.3 in /usr/local/lib/python3.7/dist-packages (from pandas->factor_analyzer==0.2.3) (2.8.2)\n",
            "Requirement already satisfied: six>=1.5 in /usr/local/lib/python3.7/dist-packages (from python-dateutil>=2.7.3->pandas->factor_analyzer==0.2.3) (1.15.0)\n"
          ]
        },
        {
          "output_type": "stream",
          "name": "stderr",
          "text": [
            "/usr/local/lib/python3.7/dist-packages/factor_analyzer/factor_analyzer.py:188: RuntimeWarning: invalid value encountered in log\n",
            "  statistic = -np.log(corr_det) * (n - 1 - (2 * p + 5) / 6)\n"
          ]
        },
        {
          "output_type": "execute_result",
          "data": {
            "text/plain": [
              "(nan, nan)"
            ]
          },
          "metadata": {},
          "execution_count": 297
        }
      ]
    },
    {
      "cell_type": "code",
      "metadata": {
        "colab": {
          "base_uri": "https://localhost:8080/"
        },
        "id": "VxCcFDYmI-PX",
        "outputId": "197dfbd1-4dad-45dd-ee2b-4922718fd57e"
      },
      "source": [
        "# \n",
        "from factor_analyzer.factor_analyzer import calculate_kmo\n",
        "\n",
        "kmo_all,kmo_model=calculate_kmo(dummy)"
      ],
      "execution_count": 298,
      "outputs": [
        {
          "output_type": "stream",
          "name": "stderr",
          "text": [
            "/usr/local/lib/python3.7/dist-packages/factor_analyzer/factor_analyzer.py:50: RuntimeWarning: invalid value encountered in sqrt\n",
            "  Is = np.sqrt(1 / np.diag(m))\n"
          ]
        }
      ]
    },
    {
      "cell_type": "code",
      "metadata": {
        "colab": {
          "base_uri": "https://localhost:8080/",
          "height": 1000
        },
        "id": "dFpBmVRjJKP_",
        "outputId": "b32dbc81-0fb8-450f-cee3-4f1cddcc489c"
      },
      "source": [
        "#choose numbe of factors\n",
        "from factor_analyzer.factor_analyzer import FactorAnalyzer\n",
        "\n",
        "# Creating factor analysis object and perform factor analysis\n",
        "fa = FactorAnalyzer()\n",
        "fa.analyze(dummy, 36, rotation=None)\n",
        "\n",
        "# Checking the Eigenvalues\n",
        "ev, v = fa.get_eigenvalues()\n",
        "ev"
      ],
      "execution_count": 299,
      "outputs": [
        {
          "output_type": "execute_result",
          "data": {
            "text/html": [
              "<div>\n",
              "<style scoped>\n",
              "    .dataframe tbody tr th:only-of-type {\n",
              "        vertical-align: middle;\n",
              "    }\n",
              "\n",
              "    .dataframe tbody tr th {\n",
              "        vertical-align: top;\n",
              "    }\n",
              "\n",
              "    .dataframe thead th {\n",
              "        text-align: right;\n",
              "    }\n",
              "</style>\n",
              "<table border=\"1\" class=\"dataframe\">\n",
              "  <thead>\n",
              "    <tr style=\"text-align: right;\">\n",
              "      <th></th>\n",
              "      <th>Original_Eigenvalues</th>\n",
              "    </tr>\n",
              "  </thead>\n",
              "  <tbody>\n",
              "    <tr>\n",
              "      <th>0</th>\n",
              "      <td>4.123830e+00</td>\n",
              "    </tr>\n",
              "    <tr>\n",
              "      <th>1</th>\n",
              "      <td>3.364115e+00</td>\n",
              "    </tr>\n",
              "    <tr>\n",
              "      <th>2</th>\n",
              "      <td>2.529230e+00</td>\n",
              "    </tr>\n",
              "    <tr>\n",
              "      <th>3</th>\n",
              "      <td>2.163878e+00</td>\n",
              "    </tr>\n",
              "    <tr>\n",
              "      <th>4</th>\n",
              "      <td>1.881439e+00</td>\n",
              "    </tr>\n",
              "    <tr>\n",
              "      <th>5</th>\n",
              "      <td>1.721628e+00</td>\n",
              "    </tr>\n",
              "    <tr>\n",
              "      <th>6</th>\n",
              "      <td>1.564861e+00</td>\n",
              "    </tr>\n",
              "    <tr>\n",
              "      <th>7</th>\n",
              "      <td>1.446797e+00</td>\n",
              "    </tr>\n",
              "    <tr>\n",
              "      <th>8</th>\n",
              "      <td>1.362723e+00</td>\n",
              "    </tr>\n",
              "    <tr>\n",
              "      <th>9</th>\n",
              "      <td>1.298371e+00</td>\n",
              "    </tr>\n",
              "    <tr>\n",
              "      <th>10</th>\n",
              "      <td>1.187131e+00</td>\n",
              "    </tr>\n",
              "    <tr>\n",
              "      <th>11</th>\n",
              "      <td>1.077526e+00</td>\n",
              "    </tr>\n",
              "    <tr>\n",
              "      <th>12</th>\n",
              "      <td>1.057076e+00</td>\n",
              "    </tr>\n",
              "    <tr>\n",
              "      <th>13</th>\n",
              "      <td>1.020110e+00</td>\n",
              "    </tr>\n",
              "    <tr>\n",
              "      <th>14</th>\n",
              "      <td>1.010966e+00</td>\n",
              "    </tr>\n",
              "    <tr>\n",
              "      <th>15</th>\n",
              "      <td>9.982257e-01</td>\n",
              "    </tr>\n",
              "    <tr>\n",
              "      <th>16</th>\n",
              "      <td>9.979001e-01</td>\n",
              "    </tr>\n",
              "    <tr>\n",
              "      <th>17</th>\n",
              "      <td>9.893639e-01</td>\n",
              "    </tr>\n",
              "    <tr>\n",
              "      <th>18</th>\n",
              "      <td>9.840400e-01</td>\n",
              "    </tr>\n",
              "    <tr>\n",
              "      <th>19</th>\n",
              "      <td>9.653210e-01</td>\n",
              "    </tr>\n",
              "    <tr>\n",
              "      <th>20</th>\n",
              "      <td>9.368153e-01</td>\n",
              "    </tr>\n",
              "    <tr>\n",
              "      <th>21</th>\n",
              "      <td>8.645035e-01</td>\n",
              "    </tr>\n",
              "    <tr>\n",
              "      <th>22</th>\n",
              "      <td>7.828493e-01</td>\n",
              "    </tr>\n",
              "    <tr>\n",
              "      <th>23</th>\n",
              "      <td>7.206746e-01</td>\n",
              "    </tr>\n",
              "    <tr>\n",
              "      <th>24</th>\n",
              "      <td>6.263312e-01</td>\n",
              "    </tr>\n",
              "    <tr>\n",
              "      <th>25</th>\n",
              "      <td>4.853127e-01</td>\n",
              "    </tr>\n",
              "    <tr>\n",
              "      <th>26</th>\n",
              "      <td>4.432188e-01</td>\n",
              "    </tr>\n",
              "    <tr>\n",
              "      <th>27</th>\n",
              "      <td>3.957634e-01</td>\n",
              "    </tr>\n",
              "    <tr>\n",
              "      <th>28</th>\n",
              "      <td>2.591929e-13</td>\n",
              "    </tr>\n",
              "    <tr>\n",
              "      <th>29</th>\n",
              "      <td>1.555545e-13</td>\n",
              "    </tr>\n",
              "    <tr>\n",
              "      <th>30</th>\n",
              "      <td>1.034785e-13</td>\n",
              "    </tr>\n",
              "    <tr>\n",
              "      <th>31</th>\n",
              "      <td>5.613511e-17</td>\n",
              "    </tr>\n",
              "    <tr>\n",
              "      <th>32</th>\n",
              "      <td>-2.733298e-16</td>\n",
              "    </tr>\n",
              "    <tr>\n",
              "      <th>33</th>\n",
              "      <td>-3.031358e-16</td>\n",
              "    </tr>\n",
              "    <tr>\n",
              "      <th>34</th>\n",
              "      <td>-3.967592e-16</td>\n",
              "    </tr>\n",
              "    <tr>\n",
              "      <th>35</th>\n",
              "      <td>-6.989604e-14</td>\n",
              "    </tr>\n",
              "    <tr>\n",
              "      <th>36</th>\n",
              "      <td>-1.517100e-13</td>\n",
              "    </tr>\n",
              "  </tbody>\n",
              "</table>\n",
              "</div>"
            ],
            "text/plain": [
              "    Original_Eigenvalues\n",
              "0           4.123830e+00\n",
              "1           3.364115e+00\n",
              "2           2.529230e+00\n",
              "3           2.163878e+00\n",
              "4           1.881439e+00\n",
              "5           1.721628e+00\n",
              "6           1.564861e+00\n",
              "7           1.446797e+00\n",
              "8           1.362723e+00\n",
              "9           1.298371e+00\n",
              "10          1.187131e+00\n",
              "11          1.077526e+00\n",
              "12          1.057076e+00\n",
              "13          1.020110e+00\n",
              "14          1.010966e+00\n",
              "15          9.982257e-01\n",
              "16          9.979001e-01\n",
              "17          9.893639e-01\n",
              "18          9.840400e-01\n",
              "19          9.653210e-01\n",
              "20          9.368153e-01\n",
              "21          8.645035e-01\n",
              "22          7.828493e-01\n",
              "23          7.206746e-01\n",
              "24          6.263312e-01\n",
              "25          4.853127e-01\n",
              "26          4.432188e-01\n",
              "27          3.957634e-01\n",
              "28          2.591929e-13\n",
              "29          1.555545e-13\n",
              "30          1.034785e-13\n",
              "31          5.613511e-17\n",
              "32         -2.733298e-16\n",
              "33         -3.031358e-16\n",
              "34         -3.967592e-16\n",
              "35         -6.989604e-14\n",
              "36         -1.517100e-13"
            ]
          },
          "metadata": {},
          "execution_count": 299
        }
      ]
    },
    {
      "cell_type": "markdown",
      "metadata": {
        "id": "CLS6dCMDGxHR"
      },
      "source": [
        "#  31-factors eigenvalues are greater than one. \n",
        "# so we are choosing 31 factors (or unobserved variables)."
      ]
    },
    {
      "cell_type": "code",
      "metadata": {
        "colab": {
          "base_uri": "https://localhost:8080/",
          "height": 1000
        },
        "id": "Y5MUzcWgKq5C",
        "outputId": "e0881dce-d850-480c-8be7-e9b2b8968118"
      },
      "source": [
        "#Performing Factor Analysis\n",
        "# Creating factor analysis object and perform factor analysis\n",
        "#\n",
        "fa = FactorAnalyzer()\n",
        "fa.analyze(dummy, 31, rotation=\"varimax\")\n",
        "fa.loadings\n"
      ],
      "execution_count": 301,
      "outputs": [
        {
          "output_type": "execute_result",
          "data": {
            "text/html": [
              "<div>\n",
              "<style scoped>\n",
              "    .dataframe tbody tr th:only-of-type {\n",
              "        vertical-align: middle;\n",
              "    }\n",
              "\n",
              "    .dataframe tbody tr th {\n",
              "        vertical-align: top;\n",
              "    }\n",
              "\n",
              "    .dataframe thead th {\n",
              "        text-align: right;\n",
              "    }\n",
              "</style>\n",
              "<table border=\"1\" class=\"dataframe\">\n",
              "  <thead>\n",
              "    <tr style=\"text-align: right;\">\n",
              "      <th></th>\n",
              "      <th>Factor1</th>\n",
              "      <th>Factor2</th>\n",
              "      <th>Factor3</th>\n",
              "      <th>Factor4</th>\n",
              "      <th>Factor5</th>\n",
              "      <th>Factor6</th>\n",
              "      <th>Factor7</th>\n",
              "      <th>Factor8</th>\n",
              "      <th>Factor9</th>\n",
              "      <th>Factor10</th>\n",
              "      <th>Factor11</th>\n",
              "      <th>Factor12</th>\n",
              "      <th>Factor13</th>\n",
              "      <th>Factor14</th>\n",
              "      <th>Factor15</th>\n",
              "      <th>Factor16</th>\n",
              "      <th>Factor17</th>\n",
              "      <th>Factor18</th>\n",
              "      <th>Factor19</th>\n",
              "      <th>Factor20</th>\n",
              "      <th>Factor21</th>\n",
              "      <th>Factor22</th>\n",
              "      <th>Factor23</th>\n",
              "      <th>Factor24</th>\n",
              "      <th>Factor25</th>\n",
              "      <th>Factor26</th>\n",
              "      <th>Factor27</th>\n",
              "      <th>Factor28</th>\n",
              "      <th>Factor29</th>\n",
              "      <th>Factor30</th>\n",
              "      <th>Factor31</th>\n",
              "    </tr>\n",
              "  </thead>\n",
              "  <tbody>\n",
              "    <tr>\n",
              "      <th>year</th>\n",
              "      <td>-0.102428</td>\n",
              "      <td>0.050082</td>\n",
              "      <td>0.952480</td>\n",
              "      <td>-0.013494</td>\n",
              "      <td>0.001798</td>\n",
              "      <td>0.044139</td>\n",
              "      <td>0.239732</td>\n",
              "      <td>0.038055</td>\n",
              "      <td>0.005359</td>\n",
              "      <td>0.051027</td>\n",
              "      <td>0.006302</td>\n",
              "      <td>0.043751</td>\n",
              "      <td>0.014452</td>\n",
              "      <td>0.008415</td>\n",
              "      <td>0.034579</td>\n",
              "      <td>0.008056</td>\n",
              "      <td>0.045413</td>\n",
              "      <td>-0.005931</td>\n",
              "      <td>0.007431</td>\n",
              "      <td>-0.020311</td>\n",
              "      <td>-0.002410</td>\n",
              "      <td>0.028899</td>\n",
              "      <td>0.029705</td>\n",
              "      <td>0.010224</td>\n",
              "      <td>-0.019300</td>\n",
              "      <td>-0.076001</td>\n",
              "      <td>0.000932</td>\n",
              "      <td>0.0</td>\n",
              "      <td>0.0</td>\n",
              "      <td>0.0</td>\n",
              "      <td>0.0</td>\n",
              "    </tr>\n",
              "    <tr>\n",
              "      <th>household_size</th>\n",
              "      <td>0.178516</td>\n",
              "      <td>-0.022819</td>\n",
              "      <td>-0.051472</td>\n",
              "      <td>-0.169958</td>\n",
              "      <td>-0.006158</td>\n",
              "      <td>0.047636</td>\n",
              "      <td>0.115607</td>\n",
              "      <td>-0.046989</td>\n",
              "      <td>-0.090982</td>\n",
              "      <td>0.013189</td>\n",
              "      <td>0.171417</td>\n",
              "      <td>-0.015772</td>\n",
              "      <td>-0.006508</td>\n",
              "      <td>0.005000</td>\n",
              "      <td>-0.037730</td>\n",
              "      <td>-0.007536</td>\n",
              "      <td>0.019291</td>\n",
              "      <td>0.000340</td>\n",
              "      <td>0.004149</td>\n",
              "      <td>0.006882</td>\n",
              "      <td>-0.020431</td>\n",
              "      <td>0.019180</td>\n",
              "      <td>-0.048232</td>\n",
              "      <td>-0.042817</td>\n",
              "      <td>0.442094</td>\n",
              "      <td>0.060953</td>\n",
              "      <td>0.178979</td>\n",
              "      <td>0.0</td>\n",
              "      <td>0.0</td>\n",
              "      <td>0.0</td>\n",
              "      <td>0.0</td>\n",
              "    </tr>\n",
              "    <tr>\n",
              "      <th>respondent_age</th>\n",
              "      <td>0.025050</td>\n",
              "      <td>0.037344</td>\n",
              "      <td>0.012749</td>\n",
              "      <td>0.489121</td>\n",
              "      <td>-0.052654</td>\n",
              "      <td>-0.134394</td>\n",
              "      <td>-0.043982</td>\n",
              "      <td>0.068126</td>\n",
              "      <td>-0.080085</td>\n",
              "      <td>0.085408</td>\n",
              "      <td>0.187762</td>\n",
              "      <td>-0.031518</td>\n",
              "      <td>-0.001861</td>\n",
              "      <td>-0.002851</td>\n",
              "      <td>-0.047985</td>\n",
              "      <td>0.004834</td>\n",
              "      <td>-0.010295</td>\n",
              "      <td>0.019073</td>\n",
              "      <td>0.008038</td>\n",
              "      <td>0.239462</td>\n",
              "      <td>0.110247</td>\n",
              "      <td>-0.045465</td>\n",
              "      <td>-0.042208</td>\n",
              "      <td>-0.068955</td>\n",
              "      <td>-0.093153</td>\n",
              "      <td>0.055078</td>\n",
              "      <td>-0.187372</td>\n",
              "      <td>0.0</td>\n",
              "      <td>0.0</td>\n",
              "      <td>0.0</td>\n",
              "      <td>0.0</td>\n",
              "    </tr>\n",
              "    <tr>\n",
              "      <th>country_Kenya</th>\n",
              "      <td>-0.000534</td>\n",
              "      <td>0.107324</td>\n",
              "      <td>0.838976</td>\n",
              "      <td>0.032809</td>\n",
              "      <td>-0.007752</td>\n",
              "      <td>0.082638</td>\n",
              "      <td>-0.339628</td>\n",
              "      <td>-0.041679</td>\n",
              "      <td>-0.024629</td>\n",
              "      <td>-0.030253</td>\n",
              "      <td>0.074809</td>\n",
              "      <td>0.044350</td>\n",
              "      <td>0.052520</td>\n",
              "      <td>-0.021906</td>\n",
              "      <td>-0.057238</td>\n",
              "      <td>0.015500</td>\n",
              "      <td>-0.041887</td>\n",
              "      <td>-0.008230</td>\n",
              "      <td>0.013119</td>\n",
              "      <td>0.001158</td>\n",
              "      <td>0.003142</td>\n",
              "      <td>0.079717</td>\n",
              "      <td>0.020903</td>\n",
              "      <td>-0.011600</td>\n",
              "      <td>0.346215</td>\n",
              "      <td>0.086645</td>\n",
              "      <td>-0.066787</td>\n",
              "      <td>0.0</td>\n",
              "      <td>0.0</td>\n",
              "      <td>0.0</td>\n",
              "      <td>0.0</td>\n",
              "    </tr>\n",
              "    <tr>\n",
              "      <th>country_Rwanda</th>\n",
              "      <td>0.209883</td>\n",
              "      <td>-0.014841</td>\n",
              "      <td>-0.827509</td>\n",
              "      <td>0.039192</td>\n",
              "      <td>0.007091</td>\n",
              "      <td>0.008610</td>\n",
              "      <td>-0.176917</td>\n",
              "      <td>-0.090366</td>\n",
              "      <td>-0.032528</td>\n",
              "      <td>-0.065636</td>\n",
              "      <td>0.093488</td>\n",
              "      <td>-0.029989</td>\n",
              "      <td>0.008694</td>\n",
              "      <td>0.003102</td>\n",
              "      <td>-0.052716</td>\n",
              "      <td>-0.002222</td>\n",
              "      <td>-0.010602</td>\n",
              "      <td>0.008608</td>\n",
              "      <td>-0.004198</td>\n",
              "      <td>0.027277</td>\n",
              "      <td>0.001387</td>\n",
              "      <td>-0.016981</td>\n",
              "      <td>-0.026621</td>\n",
              "      <td>-0.038094</td>\n",
              "      <td>0.427252</td>\n",
              "      <td>0.142258</td>\n",
              "      <td>-0.059069</td>\n",
              "      <td>0.0</td>\n",
              "      <td>0.0</td>\n",
              "      <td>0.0</td>\n",
              "      <td>0.0</td>\n",
              "    </tr>\n",
              "    <tr>\n",
              "      <th>country_Tanzania</th>\n",
              "      <td>-0.258598</td>\n",
              "      <td>-0.062863</td>\n",
              "      <td>-0.019684</td>\n",
              "      <td>-0.058958</td>\n",
              "      <td>-0.018696</td>\n",
              "      <td>-0.102180</td>\n",
              "      <td>-0.072585</td>\n",
              "      <td>0.122793</td>\n",
              "      <td>0.059997</td>\n",
              "      <td>0.044888</td>\n",
              "      <td>-0.213549</td>\n",
              "      <td>-0.018203</td>\n",
              "      <td>-0.046125</td>\n",
              "      <td>-0.022631</td>\n",
              "      <td>0.048182</td>\n",
              "      <td>-0.010469</td>\n",
              "      <td>-0.063160</td>\n",
              "      <td>-0.007330</td>\n",
              "      <td>-0.005022</td>\n",
              "      <td>-0.020349</td>\n",
              "      <td>0.001574</td>\n",
              "      <td>-0.018123</td>\n",
              "      <td>0.001139</td>\n",
              "      <td>0.062785</td>\n",
              "      <td>-0.884832</td>\n",
              "      <td>-0.162822</td>\n",
              "      <td>0.125620</td>\n",
              "      <td>0.0</td>\n",
              "      <td>0.0</td>\n",
              "      <td>0.0</td>\n",
              "      <td>0.0</td>\n",
              "    </tr>\n",
              "    <tr>\n",
              "      <th>country_Uganda</th>\n",
              "      <td>0.051452</td>\n",
              "      <td>-0.040959</td>\n",
              "      <td>0.143149</td>\n",
              "      <td>-0.024143</td>\n",
              "      <td>0.029223</td>\n",
              "      <td>0.018911</td>\n",
              "      <td>0.933992</td>\n",
              "      <td>0.024177</td>\n",
              "      <td>-0.001302</td>\n",
              "      <td>0.087003</td>\n",
              "      <td>0.062046</td>\n",
              "      <td>0.011223</td>\n",
              "      <td>-0.022935</td>\n",
              "      <td>0.063848</td>\n",
              "      <td>0.101386</td>\n",
              "      <td>-0.003604</td>\n",
              "      <td>0.181232</td>\n",
              "      <td>0.009563</td>\n",
              "      <td>-0.005150</td>\n",
              "      <td>-0.015991</td>\n",
              "      <td>-0.009634</td>\n",
              "      <td>-0.065154</td>\n",
              "      <td>0.011164</td>\n",
              "      <td>-0.016250</td>\n",
              "      <td>0.134034</td>\n",
              "      <td>-0.118131</td>\n",
              "      <td>0.005338</td>\n",
              "      <td>0.0</td>\n",
              "      <td>0.0</td>\n",
              "      <td>0.0</td>\n",
              "      <td>0.0</td>\n",
              "    </tr>\n",
              "    <tr>\n",
              "      <th>has_bank_account_No</th>\n",
              "      <td>0.042405</td>\n",
              "      <td>-0.973479</td>\n",
              "      <td>-0.060098</td>\n",
              "      <td>0.001404</td>\n",
              "      <td>0.055780</td>\n",
              "      <td>-0.050988</td>\n",
              "      <td>0.021122</td>\n",
              "      <td>0.100984</td>\n",
              "      <td>0.009576</td>\n",
              "      <td>-0.029160</td>\n",
              "      <td>-0.029671</td>\n",
              "      <td>-0.076357</td>\n",
              "      <td>-0.077291</td>\n",
              "      <td>0.001454</td>\n",
              "      <td>0.017072</td>\n",
              "      <td>-0.001567</td>\n",
              "      <td>-0.009741</td>\n",
              "      <td>-0.002569</td>\n",
              "      <td>-0.011204</td>\n",
              "      <td>0.018758</td>\n",
              "      <td>-0.009192</td>\n",
              "      <td>0.015310</td>\n",
              "      <td>-0.079372</td>\n",
              "      <td>-0.081484</td>\n",
              "      <td>-0.017175</td>\n",
              "      <td>0.003231</td>\n",
              "      <td>0.002552</td>\n",
              "      <td>0.0</td>\n",
              "      <td>0.0</td>\n",
              "      <td>0.0</td>\n",
              "      <td>0.0</td>\n",
              "    </tr>\n",
              "    <tr>\n",
              "      <th>has_bank_account_Yes</th>\n",
              "      <td>-0.042405</td>\n",
              "      <td>0.973479</td>\n",
              "      <td>0.060098</td>\n",
              "      <td>-0.001404</td>\n",
              "      <td>-0.055780</td>\n",
              "      <td>0.050988</td>\n",
              "      <td>-0.021122</td>\n",
              "      <td>-0.100984</td>\n",
              "      <td>-0.009576</td>\n",
              "      <td>0.029160</td>\n",
              "      <td>0.029671</td>\n",
              "      <td>0.076357</td>\n",
              "      <td>0.077291</td>\n",
              "      <td>-0.001454</td>\n",
              "      <td>-0.017072</td>\n",
              "      <td>0.001567</td>\n",
              "      <td>0.009741</td>\n",
              "      <td>0.002569</td>\n",
              "      <td>0.011204</td>\n",
              "      <td>-0.018758</td>\n",
              "      <td>0.009192</td>\n",
              "      <td>-0.015310</td>\n",
              "      <td>0.079372</td>\n",
              "      <td>0.081484</td>\n",
              "      <td>0.017175</td>\n",
              "      <td>-0.003231</td>\n",
              "      <td>-0.002552</td>\n",
              "      <td>0.0</td>\n",
              "      <td>0.0</td>\n",
              "      <td>0.0</td>\n",
              "      <td>0.0</td>\n",
              "    </tr>\n",
              "    <tr>\n",
              "      <th>location_type_Rural</th>\n",
              "      <td>0.967076</td>\n",
              "      <td>-0.043765</td>\n",
              "      <td>-0.107892</td>\n",
              "      <td>0.025172</td>\n",
              "      <td>0.004335</td>\n",
              "      <td>-0.018741</td>\n",
              "      <td>0.022028</td>\n",
              "      <td>-0.037029</td>\n",
              "      <td>0.000072</td>\n",
              "      <td>-0.016688</td>\n",
              "      <td>0.095862</td>\n",
              "      <td>-0.013241</td>\n",
              "      <td>-0.016064</td>\n",
              "      <td>0.006192</td>\n",
              "      <td>-0.011136</td>\n",
              "      <td>-0.002837</td>\n",
              "      <td>-0.008306</td>\n",
              "      <td>-0.001619</td>\n",
              "      <td>-0.002803</td>\n",
              "      <td>0.022191</td>\n",
              "      <td>0.001584</td>\n",
              "      <td>-0.015093</td>\n",
              "      <td>-0.017492</td>\n",
              "      <td>-0.020481</td>\n",
              "      <td>0.162196</td>\n",
              "      <td>0.089088</td>\n",
              "      <td>0.002056</td>\n",
              "      <td>0.0</td>\n",
              "      <td>0.0</td>\n",
              "      <td>0.0</td>\n",
              "      <td>0.0</td>\n",
              "    </tr>\n",
              "    <tr>\n",
              "      <th>location_type_Urban</th>\n",
              "      <td>-0.967076</td>\n",
              "      <td>0.043765</td>\n",
              "      <td>0.107892</td>\n",
              "      <td>-0.025172</td>\n",
              "      <td>-0.004335</td>\n",
              "      <td>0.018741</td>\n",
              "      <td>-0.022028</td>\n",
              "      <td>0.037029</td>\n",
              "      <td>-0.000072</td>\n",
              "      <td>0.016688</td>\n",
              "      <td>-0.095862</td>\n",
              "      <td>0.013241</td>\n",
              "      <td>0.016064</td>\n",
              "      <td>-0.006192</td>\n",
              "      <td>0.011136</td>\n",
              "      <td>0.002837</td>\n",
              "      <td>0.008306</td>\n",
              "      <td>0.001619</td>\n",
              "      <td>0.002803</td>\n",
              "      <td>-0.022191</td>\n",
              "      <td>-0.001584</td>\n",
              "      <td>0.015093</td>\n",
              "      <td>0.017492</td>\n",
              "      <td>0.020481</td>\n",
              "      <td>-0.162196</td>\n",
              "      <td>-0.089088</td>\n",
              "      <td>-0.002056</td>\n",
              "      <td>0.0</td>\n",
              "      <td>0.0</td>\n",
              "      <td>0.0</td>\n",
              "      <td>0.0</td>\n",
              "    </tr>\n",
              "    <tr>\n",
              "      <th>cell_phone_access_No</th>\n",
              "      <td>-0.037782</td>\n",
              "      <td>-0.098588</td>\n",
              "      <td>0.030695</td>\n",
              "      <td>0.051020</td>\n",
              "      <td>0.046199</td>\n",
              "      <td>-0.036699</td>\n",
              "      <td>0.012502</td>\n",
              "      <td>0.981601</td>\n",
              "      <td>0.009139</td>\n",
              "      <td>-0.006417</td>\n",
              "      <td>-0.041589</td>\n",
              "      <td>-0.030252</td>\n",
              "      <td>-0.017597</td>\n",
              "      <td>0.000100</td>\n",
              "      <td>0.033417</td>\n",
              "      <td>-0.001982</td>\n",
              "      <td>0.004247</td>\n",
              "      <td>0.004251</td>\n",
              "      <td>-0.001404</td>\n",
              "      <td>0.059124</td>\n",
              "      <td>0.018983</td>\n",
              "      <td>0.026993</td>\n",
              "      <td>-0.029598</td>\n",
              "      <td>-0.031681</td>\n",
              "      <td>-0.067152</td>\n",
              "      <td>-0.020244</td>\n",
              "      <td>-0.002778</td>\n",
              "      <td>0.0</td>\n",
              "      <td>0.0</td>\n",
              "      <td>0.0</td>\n",
              "      <td>0.0</td>\n",
              "    </tr>\n",
              "    <tr>\n",
              "      <th>cell_phone_access_Yes</th>\n",
              "      <td>0.037782</td>\n",
              "      <td>0.098588</td>\n",
              "      <td>-0.030695</td>\n",
              "      <td>-0.051020</td>\n",
              "      <td>-0.046199</td>\n",
              "      <td>0.036699</td>\n",
              "      <td>-0.012502</td>\n",
              "      <td>-0.981601</td>\n",
              "      <td>-0.009139</td>\n",
              "      <td>0.006417</td>\n",
              "      <td>0.041589</td>\n",
              "      <td>0.030252</td>\n",
              "      <td>0.017597</td>\n",
              "      <td>-0.000100</td>\n",
              "      <td>-0.033417</td>\n",
              "      <td>0.001982</td>\n",
              "      <td>-0.004247</td>\n",
              "      <td>-0.004251</td>\n",
              "      <td>0.001404</td>\n",
              "      <td>-0.059124</td>\n",
              "      <td>-0.018983</td>\n",
              "      <td>-0.026993</td>\n",
              "      <td>0.029598</td>\n",
              "      <td>0.031681</td>\n",
              "      <td>0.067152</td>\n",
              "      <td>0.020244</td>\n",
              "      <td>0.002778</td>\n",
              "      <td>0.0</td>\n",
              "      <td>0.0</td>\n",
              "      <td>0.0</td>\n",
              "      <td>0.0</td>\n",
              "    </tr>\n",
              "    <tr>\n",
              "      <th>gender_of_respondent_Female</th>\n",
              "      <td>0.004047</td>\n",
              "      <td>-0.052574</td>\n",
              "      <td>-0.003398</td>\n",
              "      <td>0.058643</td>\n",
              "      <td>0.992519</td>\n",
              "      <td>-0.013975</td>\n",
              "      <td>0.013055</td>\n",
              "      <td>0.044600</td>\n",
              "      <td>0.000884</td>\n",
              "      <td>0.015327</td>\n",
              "      <td>0.006078</td>\n",
              "      <td>-0.004258</td>\n",
              "      <td>-0.006089</td>\n",
              "      <td>0.002044</td>\n",
              "      <td>0.024285</td>\n",
              "      <td>-0.005993</td>\n",
              "      <td>0.004154</td>\n",
              "      <td>0.001521</td>\n",
              "      <td>-0.000744</td>\n",
              "      <td>0.028550</td>\n",
              "      <td>0.005943</td>\n",
              "      <td>0.040279</td>\n",
              "      <td>-0.015530</td>\n",
              "      <td>-0.008977</td>\n",
              "      <td>0.004859</td>\n",
              "      <td>0.004642</td>\n",
              "      <td>0.001477</td>\n",
              "      <td>0.0</td>\n",
              "      <td>0.0</td>\n",
              "      <td>0.0</td>\n",
              "      <td>0.0</td>\n",
              "    </tr>\n",
              "    <tr>\n",
              "      <th>gender_of_respondent_Male</th>\n",
              "      <td>-0.004047</td>\n",
              "      <td>0.052574</td>\n",
              "      <td>0.003398</td>\n",
              "      <td>-0.058643</td>\n",
              "      <td>-0.992519</td>\n",
              "      <td>0.013975</td>\n",
              "      <td>-0.013055</td>\n",
              "      <td>-0.044600</td>\n",
              "      <td>-0.000884</td>\n",
              "      <td>-0.015327</td>\n",
              "      <td>-0.006078</td>\n",
              "      <td>0.004258</td>\n",
              "      <td>0.006089</td>\n",
              "      <td>-0.002044</td>\n",
              "      <td>-0.024285</td>\n",
              "      <td>0.005993</td>\n",
              "      <td>-0.004154</td>\n",
              "      <td>-0.001521</td>\n",
              "      <td>0.000744</td>\n",
              "      <td>-0.028550</td>\n",
              "      <td>-0.005943</td>\n",
              "      <td>-0.040279</td>\n",
              "      <td>0.015530</td>\n",
              "      <td>0.008977</td>\n",
              "      <td>-0.004859</td>\n",
              "      <td>-0.004642</td>\n",
              "      <td>-0.001477</td>\n",
              "      <td>0.0</td>\n",
              "      <td>0.0</td>\n",
              "      <td>0.0</td>\n",
              "      <td>0.0</td>\n",
              "    </tr>\n",
              "    <tr>\n",
              "      <th>marital_status_Divorced/Seperated</th>\n",
              "      <td>-0.002734</td>\n",
              "      <td>-0.016775</td>\n",
              "      <td>0.007811</td>\n",
              "      <td>-0.077566</td>\n",
              "      <td>-0.001435</td>\n",
              "      <td>0.005354</td>\n",
              "      <td>-0.000467</td>\n",
              "      <td>0.015811</td>\n",
              "      <td>0.986695</td>\n",
              "      <td>-0.020320</td>\n",
              "      <td>-0.009188</td>\n",
              "      <td>0.005341</td>\n",
              "      <td>-0.009164</td>\n",
              "      <td>-0.003820</td>\n",
              "      <td>0.042118</td>\n",
              "      <td>-0.003163</td>\n",
              "      <td>-0.002310</td>\n",
              "      <td>-0.000351</td>\n",
              "      <td>-0.002278</td>\n",
              "      <td>-0.006648</td>\n",
              "      <td>-0.004984</td>\n",
              "      <td>-0.002315</td>\n",
              "      <td>0.017271</td>\n",
              "      <td>0.043685</td>\n",
              "      <td>-0.102889</td>\n",
              "      <td>-0.010441</td>\n",
              "      <td>-0.001801</td>\n",
              "      <td>0.0</td>\n",
              "      <td>0.0</td>\n",
              "      <td>0.0</td>\n",
              "      <td>0.0</td>\n",
              "    </tr>\n",
              "    <tr>\n",
              "      <th>marital_status_Dont know</th>\n",
              "      <td>-0.004912</td>\n",
              "      <td>0.002647</td>\n",
              "      <td>0.015927</td>\n",
              "      <td>-0.000058</td>\n",
              "      <td>-0.011129</td>\n",
              "      <td>-0.003236</td>\n",
              "      <td>-0.003465</td>\n",
              "      <td>-0.003564</td>\n",
              "      <td>-0.002352</td>\n",
              "      <td>-0.003235</td>\n",
              "      <td>-0.001427</td>\n",
              "      <td>-0.002870</td>\n",
              "      <td>-0.001599</td>\n",
              "      <td>-0.000493</td>\n",
              "      <td>-0.001001</td>\n",
              "      <td>0.997246</td>\n",
              "      <td>-0.001815</td>\n",
              "      <td>-0.000207</td>\n",
              "      <td>-0.000358</td>\n",
              "      <td>-0.001284</td>\n",
              "      <td>-0.000791</td>\n",
              "      <td>0.000500</td>\n",
              "      <td>0.002865</td>\n",
              "      <td>-0.002803</td>\n",
              "      <td>0.002464</td>\n",
              "      <td>0.000066</td>\n",
              "      <td>-0.000700</td>\n",
              "      <td>0.0</td>\n",
              "      <td>0.0</td>\n",
              "      <td>0.0</td>\n",
              "      <td>0.0</td>\n",
              "    </tr>\n",
              "    <tr>\n",
              "      <th>marital_status_Married/Living together</th>\n",
              "      <td>0.118585</td>\n",
              "      <td>0.052859</td>\n",
              "      <td>0.004906</td>\n",
              "      <td>-0.263581</td>\n",
              "      <td>-0.039426</td>\n",
              "      <td>-0.024914</td>\n",
              "      <td>0.034361</td>\n",
              "      <td>-0.080130</td>\n",
              "      <td>-0.270801</td>\n",
              "      <td>-0.000180</td>\n",
              "      <td>0.875076</td>\n",
              "      <td>-0.003236</td>\n",
              "      <td>0.027081</td>\n",
              "      <td>0.005882</td>\n",
              "      <td>-0.029538</td>\n",
              "      <td>-0.017356</td>\n",
              "      <td>0.005530</td>\n",
              "      <td>0.005303</td>\n",
              "      <td>0.002327</td>\n",
              "      <td>0.006434</td>\n",
              "      <td>-0.020219</td>\n",
              "      <td>-0.057500</td>\n",
              "      <td>-0.012453</td>\n",
              "      <td>-0.042452</td>\n",
              "      <td>0.224658</td>\n",
              "      <td>0.051521</td>\n",
              "      <td>-0.028589</td>\n",
              "      <td>0.0</td>\n",
              "      <td>0.0</td>\n",
              "      <td>0.0</td>\n",
              "      <td>0.0</td>\n",
              "    </tr>\n",
              "    <tr>\n",
              "      <th>marital_status_Single/Never Married</th>\n",
              "      <td>-0.144177</td>\n",
              "      <td>-0.027389</td>\n",
              "      <td>0.006150</td>\n",
              "      <td>-0.329815</td>\n",
              "      <td>-0.062791</td>\n",
              "      <td>0.028615</td>\n",
              "      <td>-0.038118</td>\n",
              "      <td>0.035797</td>\n",
              "      <td>-0.279890</td>\n",
              "      <td>0.015874</td>\n",
              "      <td>-0.859877</td>\n",
              "      <td>0.005204</td>\n",
              "      <td>-0.016424</td>\n",
              "      <td>-0.006268</td>\n",
              "      <td>0.001382</td>\n",
              "      <td>-0.016094</td>\n",
              "      <td>-0.010073</td>\n",
              "      <td>-0.005663</td>\n",
              "      <td>0.002291</td>\n",
              "      <td>-0.052215</td>\n",
              "      <td>-0.001050</td>\n",
              "      <td>0.044241</td>\n",
              "      <td>0.009032</td>\n",
              "      <td>0.022831</td>\n",
              "      <td>-0.174418</td>\n",
              "      <td>-0.059484</td>\n",
              "      <td>-0.030005</td>\n",
              "      <td>0.0</td>\n",
              "      <td>0.0</td>\n",
              "      <td>0.0</td>\n",
              "      <td>0.0</td>\n",
              "    </tr>\n",
              "    <tr>\n",
              "      <th>marital_status_Widowed</th>\n",
              "      <td>0.031368</td>\n",
              "      <td>-0.027208</td>\n",
              "      <td>-0.024641</td>\n",
              "      <td>0.969884</td>\n",
              "      <td>0.156665</td>\n",
              "      <td>-0.008096</td>\n",
              "      <td>0.003492</td>\n",
              "      <td>0.058243</td>\n",
              "      <td>-0.036994</td>\n",
              "      <td>-0.005054</td>\n",
              "      <td>-0.083020</td>\n",
              "      <td>-0.007238</td>\n",
              "      <td>-0.009714</td>\n",
              "      <td>0.003528</td>\n",
              "      <td>0.006782</td>\n",
              "      <td>-0.004077</td>\n",
              "      <td>0.008460</td>\n",
              "      <td>0.000440</td>\n",
              "      <td>-0.004992</td>\n",
              "      <td>0.073388</td>\n",
              "      <td>0.037610</td>\n",
              "      <td>0.026210</td>\n",
              "      <td>-0.009435</td>\n",
              "      <td>-0.006152</td>\n",
              "      <td>-0.001035</td>\n",
              "      <td>0.017030</td>\n",
              "      <td>0.090813</td>\n",
              "      <td>0.0</td>\n",
              "      <td>0.0</td>\n",
              "      <td>0.0</td>\n",
              "      <td>0.0</td>\n",
              "    </tr>\n",
              "    <tr>\n",
              "      <th>education_level_6</th>\n",
              "      <td>-0.002752</td>\n",
              "      <td>0.004400</td>\n",
              "      <td>-0.013783</td>\n",
              "      <td>0.010841</td>\n",
              "      <td>0.002848</td>\n",
              "      <td>-0.001962</td>\n",
              "      <td>0.007961</td>\n",
              "      <td>0.007565</td>\n",
              "      <td>-0.000356</td>\n",
              "      <td>-0.013150</td>\n",
              "      <td>0.007356</td>\n",
              "      <td>-0.002267</td>\n",
              "      <td>-0.001759</td>\n",
              "      <td>-0.001443</td>\n",
              "      <td>0.009091</td>\n",
              "      <td>-0.000207</td>\n",
              "      <td>-0.000950</td>\n",
              "      <td>0.997072</td>\n",
              "      <td>-0.000236</td>\n",
              "      <td>-0.002078</td>\n",
              "      <td>0.004063</td>\n",
              "      <td>-0.000092</td>\n",
              "      <td>0.000515</td>\n",
              "      <td>-0.002667</td>\n",
              "      <td>0.005356</td>\n",
              "      <td>-0.003197</td>\n",
              "      <td>-0.000822</td>\n",
              "      <td>0.0</td>\n",
              "      <td>0.0</td>\n",
              "      <td>0.0</td>\n",
              "      <td>0.0</td>\n",
              "    </tr>\n",
              "    <tr>\n",
              "      <th>education_level_No formal education</th>\n",
              "      <td>0.048390</td>\n",
              "      <td>-0.084504</td>\n",
              "      <td>-0.055958</td>\n",
              "      <td>0.191455</td>\n",
              "      <td>0.063259</td>\n",
              "      <td>-0.124423</td>\n",
              "      <td>-0.012803</td>\n",
              "      <td>0.125371</td>\n",
              "      <td>-0.007394</td>\n",
              "      <td>-0.007177</td>\n",
              "      <td>0.042962</td>\n",
              "      <td>-0.068141</td>\n",
              "      <td>-0.023380</td>\n",
              "      <td>-0.006150</td>\n",
              "      <td>-0.003276</td>\n",
              "      <td>-0.000220</td>\n",
              "      <td>-0.005914</td>\n",
              "      <td>-0.019073</td>\n",
              "      <td>-0.007254</td>\n",
              "      <td>0.946141</td>\n",
              "      <td>0.031934</td>\n",
              "      <td>-0.004703</td>\n",
              "      <td>-0.029108</td>\n",
              "      <td>-0.079486</td>\n",
              "      <td>0.011827</td>\n",
              "      <td>0.020495</td>\n",
              "      <td>0.000458</td>\n",
              "      <td>0.0</td>\n",
              "      <td>0.0</td>\n",
              "      <td>0.0</td>\n",
              "      <td>0.0</td>\n",
              "    </tr>\n",
              "    <tr>\n",
              "      <th>education_level_Other/Dont know/RTA</th>\n",
              "      <td>-0.004570</td>\n",
              "      <td>0.019415</td>\n",
              "      <td>0.015104</td>\n",
              "      <td>-0.000215</td>\n",
              "      <td>-0.001308</td>\n",
              "      <td>-0.003842</td>\n",
              "      <td>-0.004469</td>\n",
              "      <td>-0.002470</td>\n",
              "      <td>-0.002307</td>\n",
              "      <td>0.000907</td>\n",
              "      <td>0.000403</td>\n",
              "      <td>-0.004347</td>\n",
              "      <td>0.015138</td>\n",
              "      <td>-0.000451</td>\n",
              "      <td>-0.000729</td>\n",
              "      <td>-0.000359</td>\n",
              "      <td>0.008826</td>\n",
              "      <td>-0.000234</td>\n",
              "      <td>0.996960</td>\n",
              "      <td>0.000722</td>\n",
              "      <td>-0.000955</td>\n",
              "      <td>-0.002958</td>\n",
              "      <td>0.002333</td>\n",
              "      <td>-0.004142</td>\n",
              "      <td>0.006004</td>\n",
              "      <td>-0.001969</td>\n",
              "      <td>-0.000167</td>\n",
              "      <td>0.0</td>\n",
              "      <td>0.0</td>\n",
              "      <td>0.0</td>\n",
              "      <td>0.0</td>\n",
              "    </tr>\n",
              "    <tr>\n",
              "      <th>education_level_Primary education</th>\n",
              "      <td>0.010698</td>\n",
              "      <td>-0.110265</td>\n",
              "      <td>-0.049222</td>\n",
              "      <td>-0.043790</td>\n",
              "      <td>-0.013093</td>\n",
              "      <td>-0.614713</td>\n",
              "      <td>0.001081</td>\n",
              "      <td>0.004312</td>\n",
              "      <td>-0.016489</td>\n",
              "      <td>-0.019778</td>\n",
              "      <td>0.014787</td>\n",
              "      <td>-0.215526</td>\n",
              "      <td>-0.051022</td>\n",
              "      <td>0.003624</td>\n",
              "      <td>-0.011563</td>\n",
              "      <td>0.004515</td>\n",
              "      <td>-0.013845</td>\n",
              "      <td>-0.040731</td>\n",
              "      <td>-0.020119</td>\n",
              "      <td>-0.685906</td>\n",
              "      <td>-0.013405</td>\n",
              "      <td>-0.056101</td>\n",
              "      <td>-0.047299</td>\n",
              "      <td>-0.266075</td>\n",
              "      <td>-0.052214</td>\n",
              "      <td>-0.018632</td>\n",
              "      <td>-0.005120</td>\n",
              "      <td>0.0</td>\n",
              "      <td>0.0</td>\n",
              "      <td>0.0</td>\n",
              "      <td>0.0</td>\n",
              "    </tr>\n",
              "    <tr>\n",
              "      <th>education_level_Secondary education</th>\n",
              "      <td>-0.029682</td>\n",
              "      <td>0.072698</td>\n",
              "      <td>0.072235</td>\n",
              "      <td>-0.101555</td>\n",
              "      <td>-0.033625</td>\n",
              "      <td>0.963195</td>\n",
              "      <td>0.014992</td>\n",
              "      <td>-0.072191</td>\n",
              "      <td>0.000579</td>\n",
              "      <td>0.019074</td>\n",
              "      <td>-0.033653</td>\n",
              "      <td>-0.086857</td>\n",
              "      <td>0.019043</td>\n",
              "      <td>0.005871</td>\n",
              "      <td>0.014304</td>\n",
              "      <td>-0.002471</td>\n",
              "      <td>0.020748</td>\n",
              "      <td>-0.012418</td>\n",
              "      <td>-0.009390</td>\n",
              "      <td>-0.080951</td>\n",
              "      <td>-0.013497</td>\n",
              "      <td>0.060567</td>\n",
              "      <td>0.012294</td>\n",
              "      <td>-0.096730</td>\n",
              "      <td>0.099015</td>\n",
              "      <td>0.009468</td>\n",
              "      <td>0.005739</td>\n",
              "      <td>0.0</td>\n",
              "      <td>0.0</td>\n",
              "      <td>0.0</td>\n",
              "      <td>0.0</td>\n",
              "    </tr>\n",
              "    <tr>\n",
              "      <th>education_level_Tertiary education</th>\n",
              "      <td>-0.039096</td>\n",
              "      <td>0.156088</td>\n",
              "      <td>0.021521</td>\n",
              "      <td>-0.046925</td>\n",
              "      <td>-0.018476</td>\n",
              "      <td>-0.039006</td>\n",
              "      <td>-0.014011</td>\n",
              "      <td>-0.062152</td>\n",
              "      <td>0.046203</td>\n",
              "      <td>0.010892</td>\n",
              "      <td>-0.047963</td>\n",
              "      <td>-0.044942</td>\n",
              "      <td>0.074056</td>\n",
              "      <td>-0.003354</td>\n",
              "      <td>0.011806</td>\n",
              "      <td>-0.002990</td>\n",
              "      <td>0.001888</td>\n",
              "      <td>-0.003723</td>\n",
              "      <td>-0.004961</td>\n",
              "      <td>0.000879</td>\n",
              "      <td>-0.002402</td>\n",
              "      <td>0.023397</td>\n",
              "      <td>0.070017</td>\n",
              "      <td>0.967865</td>\n",
              "      <td>-0.079519</td>\n",
              "      <td>-0.009369</td>\n",
              "      <td>0.000675</td>\n",
              "      <td>0.0</td>\n",
              "      <td>0.0</td>\n",
              "      <td>0.0</td>\n",
              "      <td>0.0</td>\n",
              "    </tr>\n",
              "    <tr>\n",
              "      <th>education_level_Vocational/Specialised training</th>\n",
              "      <td>-0.023846</td>\n",
              "      <td>0.142983</td>\n",
              "      <td>0.078613</td>\n",
              "      <td>-0.025870</td>\n",
              "      <td>-0.008377</td>\n",
              "      <td>-0.035840</td>\n",
              "      <td>0.008633</td>\n",
              "      <td>-0.057784</td>\n",
              "      <td>0.005401</td>\n",
              "      <td>0.018802</td>\n",
              "      <td>-0.006801</td>\n",
              "      <td>0.974468</td>\n",
              "      <td>0.060915</td>\n",
              "      <td>-0.004730</td>\n",
              "      <td>-0.007104</td>\n",
              "      <td>-0.003042</td>\n",
              "      <td>0.003897</td>\n",
              "      <td>-0.002861</td>\n",
              "      <td>-0.004898</td>\n",
              "      <td>0.002316</td>\n",
              "      <td>-0.001651</td>\n",
              "      <td>0.008366</td>\n",
              "      <td>0.083021</td>\n",
              "      <td>-0.042447</td>\n",
              "      <td>0.000905</td>\n",
              "      <td>-0.001397</td>\n",
              "      <td>0.000274</td>\n",
              "      <td>0.0</td>\n",
              "      <td>0.0</td>\n",
              "      <td>0.0</td>\n",
              "      <td>0.0</td>\n",
              "    </tr>\n",
              "    <tr>\n",
              "      <th>job_type_Dont Know/Refuse to answer</th>\n",
              "      <td>0.010588</td>\n",
              "      <td>-0.002558</td>\n",
              "      <td>-0.006870</td>\n",
              "      <td>0.001515</td>\n",
              "      <td>0.003689</td>\n",
              "      <td>0.004346</td>\n",
              "      <td>0.052847</td>\n",
              "      <td>0.000154</td>\n",
              "      <td>-0.003689</td>\n",
              "      <td>0.016167</td>\n",
              "      <td>0.007722</td>\n",
              "      <td>-0.004482</td>\n",
              "      <td>-0.004430</td>\n",
              "      <td>0.995425</td>\n",
              "      <td>-0.008130</td>\n",
              "      <td>-0.000496</td>\n",
              "      <td>-0.012855</td>\n",
              "      <td>-0.001456</td>\n",
              "      <td>-0.000454</td>\n",
              "      <td>-0.006416</td>\n",
              "      <td>-0.003804</td>\n",
              "      <td>-0.011075</td>\n",
              "      <td>-0.007465</td>\n",
              "      <td>-0.003148</td>\n",
              "      <td>0.017754</td>\n",
              "      <td>0.001437</td>\n",
              "      <td>0.000356</td>\n",
              "      <td>0.0</td>\n",
              "      <td>0.0</td>\n",
              "      <td>0.0</td>\n",
              "      <td>0.0</td>\n",
              "    </tr>\n",
              "    <tr>\n",
              "      <th>job_type_Farming and Fishing</th>\n",
              "      <td>0.224435</td>\n",
              "      <td>-0.026162</td>\n",
              "      <td>-0.133311</td>\n",
              "      <td>0.080063</td>\n",
              "      <td>-0.003790</td>\n",
              "      <td>-0.014285</td>\n",
              "      <td>-0.129716</td>\n",
              "      <td>-0.067217</td>\n",
              "      <td>-0.030932</td>\n",
              "      <td>0.419790</td>\n",
              "      <td>0.115993</td>\n",
              "      <td>-0.021622</td>\n",
              "      <td>-0.095787</td>\n",
              "      <td>-0.056633</td>\n",
              "      <td>-0.098315</td>\n",
              "      <td>-0.001494</td>\n",
              "      <td>-0.156172</td>\n",
              "      <td>-0.012469</td>\n",
              "      <td>-0.005699</td>\n",
              "      <td>0.032766</td>\n",
              "      <td>-0.081214</td>\n",
              "      <td>-0.246517</td>\n",
              "      <td>-0.143496</td>\n",
              "      <td>-0.040792</td>\n",
              "      <td>0.193751</td>\n",
              "      <td>0.730308</td>\n",
              "      <td>-0.001082</td>\n",
              "      <td>0.0</td>\n",
              "      <td>0.0</td>\n",
              "      <td>0.0</td>\n",
              "      <td>0.0</td>\n",
              "    </tr>\n",
              "    <tr>\n",
              "      <th>job_type_Formally employed Government</th>\n",
              "      <td>-0.028586</td>\n",
              "      <td>0.144152</td>\n",
              "      <td>0.036638</td>\n",
              "      <td>-0.009779</td>\n",
              "      <td>-0.011684</td>\n",
              "      <td>0.029703</td>\n",
              "      <td>-0.021729</td>\n",
              "      <td>-0.032655</td>\n",
              "      <td>-0.009506</td>\n",
              "      <td>0.027449</td>\n",
              "      <td>0.028953</td>\n",
              "      <td>0.060656</td>\n",
              "      <td>0.977489</td>\n",
              "      <td>-0.004755</td>\n",
              "      <td>-0.007601</td>\n",
              "      <td>-0.001704</td>\n",
              "      <td>-0.017697</td>\n",
              "      <td>-0.001885</td>\n",
              "      <td>0.016062</td>\n",
              "      <td>-0.003881</td>\n",
              "      <td>-0.007266</td>\n",
              "      <td>-0.024414</td>\n",
              "      <td>-0.033905</td>\n",
              "      <td>0.072439</td>\n",
              "      <td>0.030628</td>\n",
              "      <td>0.002668</td>\n",
              "      <td>-0.000671</td>\n",
              "      <td>0.0</td>\n",
              "      <td>0.0</td>\n",
              "      <td>0.0</td>\n",
              "      <td>0.0</td>\n",
              "    </tr>\n",
              "    <tr>\n",
              "      <th>job_type_Formally employed Private</th>\n",
              "      <td>-0.034041</td>\n",
              "      <td>0.152058</td>\n",
              "      <td>0.052248</td>\n",
              "      <td>-0.032738</td>\n",
              "      <td>-0.031342</td>\n",
              "      <td>0.023220</td>\n",
              "      <td>0.009388</td>\n",
              "      <td>-0.057274</td>\n",
              "      <td>0.018151</td>\n",
              "      <td>0.048363</td>\n",
              "      <td>-0.017292</td>\n",
              "      <td>0.084463</td>\n",
              "      <td>-0.035396</td>\n",
              "      <td>-0.008580</td>\n",
              "      <td>-0.020089</td>\n",
              "      <td>0.003107</td>\n",
              "      <td>-0.029483</td>\n",
              "      <td>0.000505</td>\n",
              "      <td>0.002519</td>\n",
              "      <td>-0.012953</td>\n",
              "      <td>-0.011743</td>\n",
              "      <td>-0.040195</td>\n",
              "      <td>0.970193</td>\n",
              "      <td>0.070083</td>\n",
              "      <td>-0.034571</td>\n",
              "      <td>0.016592</td>\n",
              "      <td>-0.000958</td>\n",
              "      <td>0.0</td>\n",
              "      <td>0.0</td>\n",
              "      <td>0.0</td>\n",
              "      <td>0.0</td>\n",
              "    </tr>\n",
              "    <tr>\n",
              "      <th>job_type_Government Dependent</th>\n",
              "      <td>0.001576</td>\n",
              "      <td>0.015892</td>\n",
              "      <td>-0.001180</td>\n",
              "      <td>0.093969</td>\n",
              "      <td>0.011670</td>\n",
              "      <td>-0.009193</td>\n",
              "      <td>-0.008084</td>\n",
              "      <td>0.033740</td>\n",
              "      <td>-0.004059</td>\n",
              "      <td>0.022595</td>\n",
              "      <td>-0.011751</td>\n",
              "      <td>-0.001255</td>\n",
              "      <td>-0.006904</td>\n",
              "      <td>-0.003873</td>\n",
              "      <td>-0.009381</td>\n",
              "      <td>-0.000842</td>\n",
              "      <td>-0.011428</td>\n",
              "      <td>0.004020</td>\n",
              "      <td>-0.001030</td>\n",
              "      <td>0.036384</td>\n",
              "      <td>0.990760</td>\n",
              "      <td>-0.019128</td>\n",
              "      <td>-0.010143</td>\n",
              "      <td>-0.001692</td>\n",
              "      <td>-0.012867</td>\n",
              "      <td>0.000812</td>\n",
              "      <td>-0.004634</td>\n",
              "      <td>0.0</td>\n",
              "      <td>0.0</td>\n",
              "      <td>0.0</td>\n",
              "      <td>0.0</td>\n",
              "    </tr>\n",
              "    <tr>\n",
              "      <th>job_type_Informally employed</th>\n",
              "      <td>0.035821</td>\n",
              "      <td>-0.059211</td>\n",
              "      <td>-0.068737</td>\n",
              "      <td>-0.040378</td>\n",
              "      <td>-0.033727</td>\n",
              "      <td>-0.026811</td>\n",
              "      <td>-0.082926</td>\n",
              "      <td>0.008944</td>\n",
              "      <td>0.019146</td>\n",
              "      <td>-0.971677</td>\n",
              "      <td>0.013335</td>\n",
              "      <td>-0.022595</td>\n",
              "      <td>-0.041574</td>\n",
              "      <td>-0.025744</td>\n",
              "      <td>-0.054659</td>\n",
              "      <td>0.003377</td>\n",
              "      <td>-0.070952</td>\n",
              "      <td>0.013299</td>\n",
              "      <td>-0.001486</td>\n",
              "      <td>-0.005007</td>\n",
              "      <td>-0.035950</td>\n",
              "      <td>-0.114246</td>\n",
              "      <td>-0.068233</td>\n",
              "      <td>-0.015942</td>\n",
              "      <td>0.032182</td>\n",
              "      <td>0.006650</td>\n",
              "      <td>0.002159</td>\n",
              "      <td>0.0</td>\n",
              "      <td>0.0</td>\n",
              "      <td>0.0</td>\n",
              "      <td>0.0</td>\n",
              "    </tr>\n",
              "    <tr>\n",
              "      <th>job_type_No Income</th>\n",
              "      <td>-0.021925</td>\n",
              "      <td>-0.030834</td>\n",
              "      <td>0.024801</td>\n",
              "      <td>-0.019643</td>\n",
              "      <td>0.046468</td>\n",
              "      <td>0.016035</td>\n",
              "      <td>0.088148</td>\n",
              "      <td>0.062084</td>\n",
              "      <td>0.042816</td>\n",
              "      <td>0.036840</td>\n",
              "      <td>-0.023225</td>\n",
              "      <td>-0.006939</td>\n",
              "      <td>-0.007674</td>\n",
              "      <td>-0.008697</td>\n",
              "      <td>0.983807</td>\n",
              "      <td>-0.001047</td>\n",
              "      <td>-0.025699</td>\n",
              "      <td>0.009467</td>\n",
              "      <td>-0.000757</td>\n",
              "      <td>-0.002065</td>\n",
              "      <td>-0.010113</td>\n",
              "      <td>-0.033037</td>\n",
              "      <td>-0.018804</td>\n",
              "      <td>0.011338</td>\n",
              "      <td>-0.063222</td>\n",
              "      <td>0.021667</td>\n",
              "      <td>0.000333</td>\n",
              "      <td>0.0</td>\n",
              "      <td>0.0</td>\n",
              "      <td>0.0</td>\n",
              "      <td>0.0</td>\n",
              "    </tr>\n",
              "    <tr>\n",
              "      <th>job_type_Other Income</th>\n",
              "      <td>-0.015069</td>\n",
              "      <td>0.017832</td>\n",
              "      <td>0.018895</td>\n",
              "      <td>0.001806</td>\n",
              "      <td>0.007496</td>\n",
              "      <td>0.022104</td>\n",
              "      <td>0.156364</td>\n",
              "      <td>0.007744</td>\n",
              "      <td>-0.002452</td>\n",
              "      <td>0.048534</td>\n",
              "      <td>0.010305</td>\n",
              "      <td>0.003686</td>\n",
              "      <td>-0.018133</td>\n",
              "      <td>-0.014380</td>\n",
              "      <td>-0.026973</td>\n",
              "      <td>-0.001918</td>\n",
              "      <td>0.979811</td>\n",
              "      <td>-0.001131</td>\n",
              "      <td>0.009347</td>\n",
              "      <td>-0.001258</td>\n",
              "      <td>-0.012505</td>\n",
              "      <td>-0.038071</td>\n",
              "      <td>-0.028739</td>\n",
              "      <td>0.001897</td>\n",
              "      <td>0.053646</td>\n",
              "      <td>0.011534</td>\n",
              "      <td>0.001460</td>\n",
              "      <td>0.0</td>\n",
              "      <td>0.0</td>\n",
              "      <td>0.0</td>\n",
              "      <td>0.0</td>\n",
              "    </tr>\n",
              "    <tr>\n",
              "      <th>job_type_Remittance Dependent</th>\n",
              "      <td>-0.027545</td>\n",
              "      <td>-0.030099</td>\n",
              "      <td>0.080630</td>\n",
              "      <td>-0.002899</td>\n",
              "      <td>0.080148</td>\n",
              "      <td>0.070396</td>\n",
              "      <td>-0.059143</td>\n",
              "      <td>0.051703</td>\n",
              "      <td>-0.002875</td>\n",
              "      <td>0.090153</td>\n",
              "      <td>-0.069057</td>\n",
              "      <td>0.008176</td>\n",
              "      <td>-0.027942</td>\n",
              "      <td>-0.013943</td>\n",
              "      <td>-0.037797</td>\n",
              "      <td>0.000485</td>\n",
              "      <td>-0.042905</td>\n",
              "      <td>-0.000352</td>\n",
              "      <td>-0.003305</td>\n",
              "      <td>0.011405</td>\n",
              "      <td>-0.023304</td>\n",
              "      <td>0.974034</td>\n",
              "      <td>-0.043518</td>\n",
              "      <td>0.023038</td>\n",
              "      <td>0.026478</td>\n",
              "      <td>0.009865</td>\n",
              "      <td>0.003148</td>\n",
              "      <td>0.0</td>\n",
              "      <td>0.0</td>\n",
              "      <td>0.0</td>\n",
              "      <td>0.0</td>\n",
              "    </tr>\n",
              "    <tr>\n",
              "      <th>job_type_Self employed</th>\n",
              "      <td>-0.191030</td>\n",
              "      <td>-0.010136</td>\n",
              "      <td>0.084842</td>\n",
              "      <td>-0.032905</td>\n",
              "      <td>-0.025561</td>\n",
              "      <td>-0.043879</td>\n",
              "      <td>0.133041</td>\n",
              "      <td>0.021404</td>\n",
              "      <td>-0.005430</td>\n",
              "      <td>0.393805</td>\n",
              "      <td>-0.070030</td>\n",
              "      <td>-0.018426</td>\n",
              "      <td>-0.099866</td>\n",
              "      <td>-0.058991</td>\n",
              "      <td>-0.155233</td>\n",
              "      <td>-0.001549</td>\n",
              "      <td>-0.183092</td>\n",
              "      <td>-0.003905</td>\n",
              "      <td>-0.000467</td>\n",
              "      <td>-0.033061</td>\n",
              "      <td>-0.082380</td>\n",
              "      <td>-0.272691</td>\n",
              "      <td>-0.185835</td>\n",
              "      <td>-0.019499</td>\n",
              "      <td>-0.228079</td>\n",
              "      <td>-0.728013</td>\n",
              "      <td>-0.002391</td>\n",
              "      <td>0.0</td>\n",
              "      <td>0.0</td>\n",
              "      <td>0.0</td>\n",
              "      <td>0.0</td>\n",
              "    </tr>\n",
              "  </tbody>\n",
              "</table>\n",
              "</div>"
            ],
            "text/plain": [
              "                                                  Factor1  ...  Factor31\n",
              "year                                            -0.102428  ...       0.0\n",
              "household_size                                   0.178516  ...       0.0\n",
              "respondent_age                                   0.025050  ...       0.0\n",
              "country_Kenya                                   -0.000534  ...       0.0\n",
              "country_Rwanda                                   0.209883  ...       0.0\n",
              "country_Tanzania                                -0.258598  ...       0.0\n",
              "country_Uganda                                   0.051452  ...       0.0\n",
              "has_bank_account_No                              0.042405  ...       0.0\n",
              "has_bank_account_Yes                            -0.042405  ...       0.0\n",
              "location_type_Rural                              0.967076  ...       0.0\n",
              "location_type_Urban                             -0.967076  ...       0.0\n",
              "cell_phone_access_No                            -0.037782  ...       0.0\n",
              "cell_phone_access_Yes                            0.037782  ...       0.0\n",
              "gender_of_respondent_Female                      0.004047  ...       0.0\n",
              "gender_of_respondent_Male                       -0.004047  ...       0.0\n",
              "marital_status_Divorced/Seperated               -0.002734  ...       0.0\n",
              "marital_status_Dont know                        -0.004912  ...       0.0\n",
              "marital_status_Married/Living together           0.118585  ...       0.0\n",
              "marital_status_Single/Never Married             -0.144177  ...       0.0\n",
              "marital_status_Widowed                           0.031368  ...       0.0\n",
              "education_level_6                               -0.002752  ...       0.0\n",
              "education_level_No formal education              0.048390  ...       0.0\n",
              "education_level_Other/Dont know/RTA             -0.004570  ...       0.0\n",
              "education_level_Primary education                0.010698  ...       0.0\n",
              "education_level_Secondary education             -0.029682  ...       0.0\n",
              "education_level_Tertiary education              -0.039096  ...       0.0\n",
              "education_level_Vocational/Specialised training -0.023846  ...       0.0\n",
              "job_type_Dont Know/Refuse to answer              0.010588  ...       0.0\n",
              "job_type_Farming and Fishing                     0.224435  ...       0.0\n",
              "job_type_Formally employed Government           -0.028586  ...       0.0\n",
              "job_type_Formally employed Private              -0.034041  ...       0.0\n",
              "job_type_Government Dependent                    0.001576  ...       0.0\n",
              "job_type_Informally employed                     0.035821  ...       0.0\n",
              "job_type_No Income                              -0.021925  ...       0.0\n",
              "job_type_Other Income                           -0.015069  ...       0.0\n",
              "job_type_Remittance Dependent                   -0.027545  ...       0.0\n",
              "job_type_Self employed                          -0.191030  ...       0.0\n",
              "\n",
              "[37 rows x 31 columns]"
            ]
          },
          "metadata": {},
          "execution_count": 301
        }
      ]
    },
    {
      "cell_type": "code",
      "metadata": {
        "colab": {
          "base_uri": "https://localhost:8080/",
          "height": 1000
        },
        "id": "u8X7T6wiLPLW",
        "outputId": "adee0a3b-629d-4d4b-8c02-5ffd64333cfd"
      },
      "source": [
        "#Performing factor analysis for 31 factors\n",
        "# \n",
        "# Create factor analysis object and perform factor analysis using 5 factors\n",
        "fa = FactorAnalyzer()\n",
        "fa.analyze(dummy, 31, rotation=\"varimax\")\n",
        "fa.loadings"
      ],
      "execution_count": 302,
      "outputs": [
        {
          "output_type": "execute_result",
          "data": {
            "text/html": [
              "<div>\n",
              "<style scoped>\n",
              "    .dataframe tbody tr th:only-of-type {\n",
              "        vertical-align: middle;\n",
              "    }\n",
              "\n",
              "    .dataframe tbody tr th {\n",
              "        vertical-align: top;\n",
              "    }\n",
              "\n",
              "    .dataframe thead th {\n",
              "        text-align: right;\n",
              "    }\n",
              "</style>\n",
              "<table border=\"1\" class=\"dataframe\">\n",
              "  <thead>\n",
              "    <tr style=\"text-align: right;\">\n",
              "      <th></th>\n",
              "      <th>Factor1</th>\n",
              "      <th>Factor2</th>\n",
              "      <th>Factor3</th>\n",
              "      <th>Factor4</th>\n",
              "      <th>Factor5</th>\n",
              "      <th>Factor6</th>\n",
              "      <th>Factor7</th>\n",
              "      <th>Factor8</th>\n",
              "      <th>Factor9</th>\n",
              "      <th>Factor10</th>\n",
              "      <th>Factor11</th>\n",
              "      <th>Factor12</th>\n",
              "      <th>Factor13</th>\n",
              "      <th>Factor14</th>\n",
              "      <th>Factor15</th>\n",
              "      <th>Factor16</th>\n",
              "      <th>Factor17</th>\n",
              "      <th>Factor18</th>\n",
              "      <th>Factor19</th>\n",
              "      <th>Factor20</th>\n",
              "      <th>Factor21</th>\n",
              "      <th>Factor22</th>\n",
              "      <th>Factor23</th>\n",
              "      <th>Factor24</th>\n",
              "      <th>Factor25</th>\n",
              "      <th>Factor26</th>\n",
              "      <th>Factor27</th>\n",
              "      <th>Factor28</th>\n",
              "      <th>Factor29</th>\n",
              "      <th>Factor30</th>\n",
              "      <th>Factor31</th>\n",
              "    </tr>\n",
              "  </thead>\n",
              "  <tbody>\n",
              "    <tr>\n",
              "      <th>year</th>\n",
              "      <td>-0.102428</td>\n",
              "      <td>0.050082</td>\n",
              "      <td>0.952480</td>\n",
              "      <td>-0.013494</td>\n",
              "      <td>0.001798</td>\n",
              "      <td>0.044139</td>\n",
              "      <td>0.239732</td>\n",
              "      <td>0.038055</td>\n",
              "      <td>0.005359</td>\n",
              "      <td>0.051027</td>\n",
              "      <td>0.006302</td>\n",
              "      <td>0.043751</td>\n",
              "      <td>0.014452</td>\n",
              "      <td>0.008415</td>\n",
              "      <td>0.034579</td>\n",
              "      <td>0.008056</td>\n",
              "      <td>0.045413</td>\n",
              "      <td>-0.005931</td>\n",
              "      <td>0.007431</td>\n",
              "      <td>-0.020311</td>\n",
              "      <td>-0.002410</td>\n",
              "      <td>0.028899</td>\n",
              "      <td>0.029705</td>\n",
              "      <td>0.010224</td>\n",
              "      <td>-0.019300</td>\n",
              "      <td>-0.076001</td>\n",
              "      <td>0.000932</td>\n",
              "      <td>0.0</td>\n",
              "      <td>0.0</td>\n",
              "      <td>0.0</td>\n",
              "      <td>0.0</td>\n",
              "    </tr>\n",
              "    <tr>\n",
              "      <th>household_size</th>\n",
              "      <td>0.178516</td>\n",
              "      <td>-0.022819</td>\n",
              "      <td>-0.051472</td>\n",
              "      <td>-0.169958</td>\n",
              "      <td>-0.006158</td>\n",
              "      <td>0.047636</td>\n",
              "      <td>0.115607</td>\n",
              "      <td>-0.046989</td>\n",
              "      <td>-0.090982</td>\n",
              "      <td>0.013189</td>\n",
              "      <td>0.171417</td>\n",
              "      <td>-0.015772</td>\n",
              "      <td>-0.006508</td>\n",
              "      <td>0.005000</td>\n",
              "      <td>-0.037730</td>\n",
              "      <td>-0.007536</td>\n",
              "      <td>0.019291</td>\n",
              "      <td>0.000340</td>\n",
              "      <td>0.004149</td>\n",
              "      <td>0.006882</td>\n",
              "      <td>-0.020431</td>\n",
              "      <td>0.019180</td>\n",
              "      <td>-0.048232</td>\n",
              "      <td>-0.042817</td>\n",
              "      <td>0.442094</td>\n",
              "      <td>0.060953</td>\n",
              "      <td>0.178979</td>\n",
              "      <td>0.0</td>\n",
              "      <td>0.0</td>\n",
              "      <td>0.0</td>\n",
              "      <td>0.0</td>\n",
              "    </tr>\n",
              "    <tr>\n",
              "      <th>respondent_age</th>\n",
              "      <td>0.025050</td>\n",
              "      <td>0.037344</td>\n",
              "      <td>0.012749</td>\n",
              "      <td>0.489121</td>\n",
              "      <td>-0.052654</td>\n",
              "      <td>-0.134394</td>\n",
              "      <td>-0.043982</td>\n",
              "      <td>0.068126</td>\n",
              "      <td>-0.080085</td>\n",
              "      <td>0.085408</td>\n",
              "      <td>0.187762</td>\n",
              "      <td>-0.031518</td>\n",
              "      <td>-0.001861</td>\n",
              "      <td>-0.002851</td>\n",
              "      <td>-0.047985</td>\n",
              "      <td>0.004834</td>\n",
              "      <td>-0.010295</td>\n",
              "      <td>0.019073</td>\n",
              "      <td>0.008038</td>\n",
              "      <td>0.239462</td>\n",
              "      <td>0.110247</td>\n",
              "      <td>-0.045465</td>\n",
              "      <td>-0.042208</td>\n",
              "      <td>-0.068955</td>\n",
              "      <td>-0.093153</td>\n",
              "      <td>0.055078</td>\n",
              "      <td>-0.187372</td>\n",
              "      <td>0.0</td>\n",
              "      <td>0.0</td>\n",
              "      <td>0.0</td>\n",
              "      <td>0.0</td>\n",
              "    </tr>\n",
              "    <tr>\n",
              "      <th>country_Kenya</th>\n",
              "      <td>-0.000534</td>\n",
              "      <td>0.107324</td>\n",
              "      <td>0.838976</td>\n",
              "      <td>0.032809</td>\n",
              "      <td>-0.007752</td>\n",
              "      <td>0.082638</td>\n",
              "      <td>-0.339628</td>\n",
              "      <td>-0.041679</td>\n",
              "      <td>-0.024629</td>\n",
              "      <td>-0.030253</td>\n",
              "      <td>0.074809</td>\n",
              "      <td>0.044350</td>\n",
              "      <td>0.052520</td>\n",
              "      <td>-0.021906</td>\n",
              "      <td>-0.057238</td>\n",
              "      <td>0.015500</td>\n",
              "      <td>-0.041887</td>\n",
              "      <td>-0.008230</td>\n",
              "      <td>0.013119</td>\n",
              "      <td>0.001158</td>\n",
              "      <td>0.003142</td>\n",
              "      <td>0.079717</td>\n",
              "      <td>0.020903</td>\n",
              "      <td>-0.011600</td>\n",
              "      <td>0.346215</td>\n",
              "      <td>0.086645</td>\n",
              "      <td>-0.066787</td>\n",
              "      <td>0.0</td>\n",
              "      <td>0.0</td>\n",
              "      <td>0.0</td>\n",
              "      <td>0.0</td>\n",
              "    </tr>\n",
              "    <tr>\n",
              "      <th>country_Rwanda</th>\n",
              "      <td>0.209883</td>\n",
              "      <td>-0.014841</td>\n",
              "      <td>-0.827509</td>\n",
              "      <td>0.039192</td>\n",
              "      <td>0.007091</td>\n",
              "      <td>0.008610</td>\n",
              "      <td>-0.176917</td>\n",
              "      <td>-0.090366</td>\n",
              "      <td>-0.032528</td>\n",
              "      <td>-0.065636</td>\n",
              "      <td>0.093488</td>\n",
              "      <td>-0.029989</td>\n",
              "      <td>0.008694</td>\n",
              "      <td>0.003102</td>\n",
              "      <td>-0.052716</td>\n",
              "      <td>-0.002222</td>\n",
              "      <td>-0.010602</td>\n",
              "      <td>0.008608</td>\n",
              "      <td>-0.004198</td>\n",
              "      <td>0.027277</td>\n",
              "      <td>0.001387</td>\n",
              "      <td>-0.016981</td>\n",
              "      <td>-0.026621</td>\n",
              "      <td>-0.038094</td>\n",
              "      <td>0.427252</td>\n",
              "      <td>0.142258</td>\n",
              "      <td>-0.059069</td>\n",
              "      <td>0.0</td>\n",
              "      <td>0.0</td>\n",
              "      <td>0.0</td>\n",
              "      <td>0.0</td>\n",
              "    </tr>\n",
              "    <tr>\n",
              "      <th>country_Tanzania</th>\n",
              "      <td>-0.258598</td>\n",
              "      <td>-0.062863</td>\n",
              "      <td>-0.019684</td>\n",
              "      <td>-0.058958</td>\n",
              "      <td>-0.018696</td>\n",
              "      <td>-0.102180</td>\n",
              "      <td>-0.072585</td>\n",
              "      <td>0.122793</td>\n",
              "      <td>0.059997</td>\n",
              "      <td>0.044888</td>\n",
              "      <td>-0.213549</td>\n",
              "      <td>-0.018203</td>\n",
              "      <td>-0.046125</td>\n",
              "      <td>-0.022631</td>\n",
              "      <td>0.048182</td>\n",
              "      <td>-0.010469</td>\n",
              "      <td>-0.063160</td>\n",
              "      <td>-0.007330</td>\n",
              "      <td>-0.005022</td>\n",
              "      <td>-0.020349</td>\n",
              "      <td>0.001574</td>\n",
              "      <td>-0.018123</td>\n",
              "      <td>0.001139</td>\n",
              "      <td>0.062785</td>\n",
              "      <td>-0.884832</td>\n",
              "      <td>-0.162822</td>\n",
              "      <td>0.125620</td>\n",
              "      <td>0.0</td>\n",
              "      <td>0.0</td>\n",
              "      <td>0.0</td>\n",
              "      <td>0.0</td>\n",
              "    </tr>\n",
              "    <tr>\n",
              "      <th>country_Uganda</th>\n",
              "      <td>0.051452</td>\n",
              "      <td>-0.040959</td>\n",
              "      <td>0.143149</td>\n",
              "      <td>-0.024143</td>\n",
              "      <td>0.029223</td>\n",
              "      <td>0.018911</td>\n",
              "      <td>0.933992</td>\n",
              "      <td>0.024177</td>\n",
              "      <td>-0.001302</td>\n",
              "      <td>0.087003</td>\n",
              "      <td>0.062046</td>\n",
              "      <td>0.011223</td>\n",
              "      <td>-0.022935</td>\n",
              "      <td>0.063848</td>\n",
              "      <td>0.101386</td>\n",
              "      <td>-0.003604</td>\n",
              "      <td>0.181232</td>\n",
              "      <td>0.009563</td>\n",
              "      <td>-0.005150</td>\n",
              "      <td>-0.015991</td>\n",
              "      <td>-0.009634</td>\n",
              "      <td>-0.065154</td>\n",
              "      <td>0.011164</td>\n",
              "      <td>-0.016250</td>\n",
              "      <td>0.134034</td>\n",
              "      <td>-0.118131</td>\n",
              "      <td>0.005338</td>\n",
              "      <td>0.0</td>\n",
              "      <td>0.0</td>\n",
              "      <td>0.0</td>\n",
              "      <td>0.0</td>\n",
              "    </tr>\n",
              "    <tr>\n",
              "      <th>has_bank_account_No</th>\n",
              "      <td>0.042405</td>\n",
              "      <td>-0.973479</td>\n",
              "      <td>-0.060098</td>\n",
              "      <td>0.001404</td>\n",
              "      <td>0.055780</td>\n",
              "      <td>-0.050988</td>\n",
              "      <td>0.021122</td>\n",
              "      <td>0.100984</td>\n",
              "      <td>0.009576</td>\n",
              "      <td>-0.029160</td>\n",
              "      <td>-0.029671</td>\n",
              "      <td>-0.076357</td>\n",
              "      <td>-0.077291</td>\n",
              "      <td>0.001454</td>\n",
              "      <td>0.017072</td>\n",
              "      <td>-0.001567</td>\n",
              "      <td>-0.009741</td>\n",
              "      <td>-0.002569</td>\n",
              "      <td>-0.011204</td>\n",
              "      <td>0.018758</td>\n",
              "      <td>-0.009192</td>\n",
              "      <td>0.015310</td>\n",
              "      <td>-0.079372</td>\n",
              "      <td>-0.081484</td>\n",
              "      <td>-0.017175</td>\n",
              "      <td>0.003231</td>\n",
              "      <td>0.002552</td>\n",
              "      <td>0.0</td>\n",
              "      <td>0.0</td>\n",
              "      <td>0.0</td>\n",
              "      <td>0.0</td>\n",
              "    </tr>\n",
              "    <tr>\n",
              "      <th>has_bank_account_Yes</th>\n",
              "      <td>-0.042405</td>\n",
              "      <td>0.973479</td>\n",
              "      <td>0.060098</td>\n",
              "      <td>-0.001404</td>\n",
              "      <td>-0.055780</td>\n",
              "      <td>0.050988</td>\n",
              "      <td>-0.021122</td>\n",
              "      <td>-0.100984</td>\n",
              "      <td>-0.009576</td>\n",
              "      <td>0.029160</td>\n",
              "      <td>0.029671</td>\n",
              "      <td>0.076357</td>\n",
              "      <td>0.077291</td>\n",
              "      <td>-0.001454</td>\n",
              "      <td>-0.017072</td>\n",
              "      <td>0.001567</td>\n",
              "      <td>0.009741</td>\n",
              "      <td>0.002569</td>\n",
              "      <td>0.011204</td>\n",
              "      <td>-0.018758</td>\n",
              "      <td>0.009192</td>\n",
              "      <td>-0.015310</td>\n",
              "      <td>0.079372</td>\n",
              "      <td>0.081484</td>\n",
              "      <td>0.017175</td>\n",
              "      <td>-0.003231</td>\n",
              "      <td>-0.002552</td>\n",
              "      <td>0.0</td>\n",
              "      <td>0.0</td>\n",
              "      <td>0.0</td>\n",
              "      <td>0.0</td>\n",
              "    </tr>\n",
              "    <tr>\n",
              "      <th>location_type_Rural</th>\n",
              "      <td>0.967076</td>\n",
              "      <td>-0.043765</td>\n",
              "      <td>-0.107892</td>\n",
              "      <td>0.025172</td>\n",
              "      <td>0.004335</td>\n",
              "      <td>-0.018741</td>\n",
              "      <td>0.022028</td>\n",
              "      <td>-0.037029</td>\n",
              "      <td>0.000072</td>\n",
              "      <td>-0.016688</td>\n",
              "      <td>0.095862</td>\n",
              "      <td>-0.013241</td>\n",
              "      <td>-0.016064</td>\n",
              "      <td>0.006192</td>\n",
              "      <td>-0.011136</td>\n",
              "      <td>-0.002837</td>\n",
              "      <td>-0.008306</td>\n",
              "      <td>-0.001619</td>\n",
              "      <td>-0.002803</td>\n",
              "      <td>0.022191</td>\n",
              "      <td>0.001584</td>\n",
              "      <td>-0.015093</td>\n",
              "      <td>-0.017492</td>\n",
              "      <td>-0.020481</td>\n",
              "      <td>0.162196</td>\n",
              "      <td>0.089088</td>\n",
              "      <td>0.002056</td>\n",
              "      <td>0.0</td>\n",
              "      <td>0.0</td>\n",
              "      <td>0.0</td>\n",
              "      <td>0.0</td>\n",
              "    </tr>\n",
              "    <tr>\n",
              "      <th>location_type_Urban</th>\n",
              "      <td>-0.967076</td>\n",
              "      <td>0.043765</td>\n",
              "      <td>0.107892</td>\n",
              "      <td>-0.025172</td>\n",
              "      <td>-0.004335</td>\n",
              "      <td>0.018741</td>\n",
              "      <td>-0.022028</td>\n",
              "      <td>0.037029</td>\n",
              "      <td>-0.000072</td>\n",
              "      <td>0.016688</td>\n",
              "      <td>-0.095862</td>\n",
              "      <td>0.013241</td>\n",
              "      <td>0.016064</td>\n",
              "      <td>-0.006192</td>\n",
              "      <td>0.011136</td>\n",
              "      <td>0.002837</td>\n",
              "      <td>0.008306</td>\n",
              "      <td>0.001619</td>\n",
              "      <td>0.002803</td>\n",
              "      <td>-0.022191</td>\n",
              "      <td>-0.001584</td>\n",
              "      <td>0.015093</td>\n",
              "      <td>0.017492</td>\n",
              "      <td>0.020481</td>\n",
              "      <td>-0.162196</td>\n",
              "      <td>-0.089088</td>\n",
              "      <td>-0.002056</td>\n",
              "      <td>0.0</td>\n",
              "      <td>0.0</td>\n",
              "      <td>0.0</td>\n",
              "      <td>0.0</td>\n",
              "    </tr>\n",
              "    <tr>\n",
              "      <th>cell_phone_access_No</th>\n",
              "      <td>-0.037782</td>\n",
              "      <td>-0.098588</td>\n",
              "      <td>0.030695</td>\n",
              "      <td>0.051020</td>\n",
              "      <td>0.046199</td>\n",
              "      <td>-0.036699</td>\n",
              "      <td>0.012502</td>\n",
              "      <td>0.981601</td>\n",
              "      <td>0.009139</td>\n",
              "      <td>-0.006417</td>\n",
              "      <td>-0.041589</td>\n",
              "      <td>-0.030252</td>\n",
              "      <td>-0.017597</td>\n",
              "      <td>0.000100</td>\n",
              "      <td>0.033417</td>\n",
              "      <td>-0.001982</td>\n",
              "      <td>0.004247</td>\n",
              "      <td>0.004251</td>\n",
              "      <td>-0.001404</td>\n",
              "      <td>0.059124</td>\n",
              "      <td>0.018983</td>\n",
              "      <td>0.026993</td>\n",
              "      <td>-0.029598</td>\n",
              "      <td>-0.031681</td>\n",
              "      <td>-0.067152</td>\n",
              "      <td>-0.020244</td>\n",
              "      <td>-0.002778</td>\n",
              "      <td>0.0</td>\n",
              "      <td>0.0</td>\n",
              "      <td>0.0</td>\n",
              "      <td>0.0</td>\n",
              "    </tr>\n",
              "    <tr>\n",
              "      <th>cell_phone_access_Yes</th>\n",
              "      <td>0.037782</td>\n",
              "      <td>0.098588</td>\n",
              "      <td>-0.030695</td>\n",
              "      <td>-0.051020</td>\n",
              "      <td>-0.046199</td>\n",
              "      <td>0.036699</td>\n",
              "      <td>-0.012502</td>\n",
              "      <td>-0.981601</td>\n",
              "      <td>-0.009139</td>\n",
              "      <td>0.006417</td>\n",
              "      <td>0.041589</td>\n",
              "      <td>0.030252</td>\n",
              "      <td>0.017597</td>\n",
              "      <td>-0.000100</td>\n",
              "      <td>-0.033417</td>\n",
              "      <td>0.001982</td>\n",
              "      <td>-0.004247</td>\n",
              "      <td>-0.004251</td>\n",
              "      <td>0.001404</td>\n",
              "      <td>-0.059124</td>\n",
              "      <td>-0.018983</td>\n",
              "      <td>-0.026993</td>\n",
              "      <td>0.029598</td>\n",
              "      <td>0.031681</td>\n",
              "      <td>0.067152</td>\n",
              "      <td>0.020244</td>\n",
              "      <td>0.002778</td>\n",
              "      <td>0.0</td>\n",
              "      <td>0.0</td>\n",
              "      <td>0.0</td>\n",
              "      <td>0.0</td>\n",
              "    </tr>\n",
              "    <tr>\n",
              "      <th>gender_of_respondent_Female</th>\n",
              "      <td>0.004047</td>\n",
              "      <td>-0.052574</td>\n",
              "      <td>-0.003398</td>\n",
              "      <td>0.058643</td>\n",
              "      <td>0.992519</td>\n",
              "      <td>-0.013975</td>\n",
              "      <td>0.013055</td>\n",
              "      <td>0.044600</td>\n",
              "      <td>0.000884</td>\n",
              "      <td>0.015327</td>\n",
              "      <td>0.006078</td>\n",
              "      <td>-0.004258</td>\n",
              "      <td>-0.006089</td>\n",
              "      <td>0.002044</td>\n",
              "      <td>0.024285</td>\n",
              "      <td>-0.005993</td>\n",
              "      <td>0.004154</td>\n",
              "      <td>0.001521</td>\n",
              "      <td>-0.000744</td>\n",
              "      <td>0.028550</td>\n",
              "      <td>0.005943</td>\n",
              "      <td>0.040279</td>\n",
              "      <td>-0.015530</td>\n",
              "      <td>-0.008977</td>\n",
              "      <td>0.004859</td>\n",
              "      <td>0.004642</td>\n",
              "      <td>0.001477</td>\n",
              "      <td>0.0</td>\n",
              "      <td>0.0</td>\n",
              "      <td>0.0</td>\n",
              "      <td>0.0</td>\n",
              "    </tr>\n",
              "    <tr>\n",
              "      <th>gender_of_respondent_Male</th>\n",
              "      <td>-0.004047</td>\n",
              "      <td>0.052574</td>\n",
              "      <td>0.003398</td>\n",
              "      <td>-0.058643</td>\n",
              "      <td>-0.992519</td>\n",
              "      <td>0.013975</td>\n",
              "      <td>-0.013055</td>\n",
              "      <td>-0.044600</td>\n",
              "      <td>-0.000884</td>\n",
              "      <td>-0.015327</td>\n",
              "      <td>-0.006078</td>\n",
              "      <td>0.004258</td>\n",
              "      <td>0.006089</td>\n",
              "      <td>-0.002044</td>\n",
              "      <td>-0.024285</td>\n",
              "      <td>0.005993</td>\n",
              "      <td>-0.004154</td>\n",
              "      <td>-0.001521</td>\n",
              "      <td>0.000744</td>\n",
              "      <td>-0.028550</td>\n",
              "      <td>-0.005943</td>\n",
              "      <td>-0.040279</td>\n",
              "      <td>0.015530</td>\n",
              "      <td>0.008977</td>\n",
              "      <td>-0.004859</td>\n",
              "      <td>-0.004642</td>\n",
              "      <td>-0.001477</td>\n",
              "      <td>0.0</td>\n",
              "      <td>0.0</td>\n",
              "      <td>0.0</td>\n",
              "      <td>0.0</td>\n",
              "    </tr>\n",
              "    <tr>\n",
              "      <th>marital_status_Divorced/Seperated</th>\n",
              "      <td>-0.002734</td>\n",
              "      <td>-0.016775</td>\n",
              "      <td>0.007811</td>\n",
              "      <td>-0.077566</td>\n",
              "      <td>-0.001435</td>\n",
              "      <td>0.005354</td>\n",
              "      <td>-0.000467</td>\n",
              "      <td>0.015811</td>\n",
              "      <td>0.986695</td>\n",
              "      <td>-0.020320</td>\n",
              "      <td>-0.009188</td>\n",
              "      <td>0.005341</td>\n",
              "      <td>-0.009164</td>\n",
              "      <td>-0.003820</td>\n",
              "      <td>0.042118</td>\n",
              "      <td>-0.003163</td>\n",
              "      <td>-0.002310</td>\n",
              "      <td>-0.000351</td>\n",
              "      <td>-0.002278</td>\n",
              "      <td>-0.006648</td>\n",
              "      <td>-0.004984</td>\n",
              "      <td>-0.002315</td>\n",
              "      <td>0.017271</td>\n",
              "      <td>0.043685</td>\n",
              "      <td>-0.102889</td>\n",
              "      <td>-0.010441</td>\n",
              "      <td>-0.001801</td>\n",
              "      <td>0.0</td>\n",
              "      <td>0.0</td>\n",
              "      <td>0.0</td>\n",
              "      <td>0.0</td>\n",
              "    </tr>\n",
              "    <tr>\n",
              "      <th>marital_status_Dont know</th>\n",
              "      <td>-0.004912</td>\n",
              "      <td>0.002647</td>\n",
              "      <td>0.015927</td>\n",
              "      <td>-0.000058</td>\n",
              "      <td>-0.011129</td>\n",
              "      <td>-0.003236</td>\n",
              "      <td>-0.003465</td>\n",
              "      <td>-0.003564</td>\n",
              "      <td>-0.002352</td>\n",
              "      <td>-0.003235</td>\n",
              "      <td>-0.001427</td>\n",
              "      <td>-0.002870</td>\n",
              "      <td>-0.001599</td>\n",
              "      <td>-0.000493</td>\n",
              "      <td>-0.001001</td>\n",
              "      <td>0.997246</td>\n",
              "      <td>-0.001815</td>\n",
              "      <td>-0.000207</td>\n",
              "      <td>-0.000358</td>\n",
              "      <td>-0.001284</td>\n",
              "      <td>-0.000791</td>\n",
              "      <td>0.000500</td>\n",
              "      <td>0.002865</td>\n",
              "      <td>-0.002803</td>\n",
              "      <td>0.002464</td>\n",
              "      <td>0.000066</td>\n",
              "      <td>-0.000700</td>\n",
              "      <td>0.0</td>\n",
              "      <td>0.0</td>\n",
              "      <td>0.0</td>\n",
              "      <td>0.0</td>\n",
              "    </tr>\n",
              "    <tr>\n",
              "      <th>marital_status_Married/Living together</th>\n",
              "      <td>0.118585</td>\n",
              "      <td>0.052859</td>\n",
              "      <td>0.004906</td>\n",
              "      <td>-0.263581</td>\n",
              "      <td>-0.039426</td>\n",
              "      <td>-0.024914</td>\n",
              "      <td>0.034361</td>\n",
              "      <td>-0.080130</td>\n",
              "      <td>-0.270801</td>\n",
              "      <td>-0.000180</td>\n",
              "      <td>0.875076</td>\n",
              "      <td>-0.003236</td>\n",
              "      <td>0.027081</td>\n",
              "      <td>0.005882</td>\n",
              "      <td>-0.029538</td>\n",
              "      <td>-0.017356</td>\n",
              "      <td>0.005530</td>\n",
              "      <td>0.005303</td>\n",
              "      <td>0.002327</td>\n",
              "      <td>0.006434</td>\n",
              "      <td>-0.020219</td>\n",
              "      <td>-0.057500</td>\n",
              "      <td>-0.012453</td>\n",
              "      <td>-0.042452</td>\n",
              "      <td>0.224658</td>\n",
              "      <td>0.051521</td>\n",
              "      <td>-0.028589</td>\n",
              "      <td>0.0</td>\n",
              "      <td>0.0</td>\n",
              "      <td>0.0</td>\n",
              "      <td>0.0</td>\n",
              "    </tr>\n",
              "    <tr>\n",
              "      <th>marital_status_Single/Never Married</th>\n",
              "      <td>-0.144177</td>\n",
              "      <td>-0.027389</td>\n",
              "      <td>0.006150</td>\n",
              "      <td>-0.329815</td>\n",
              "      <td>-0.062791</td>\n",
              "      <td>0.028615</td>\n",
              "      <td>-0.038118</td>\n",
              "      <td>0.035797</td>\n",
              "      <td>-0.279890</td>\n",
              "      <td>0.015874</td>\n",
              "      <td>-0.859877</td>\n",
              "      <td>0.005204</td>\n",
              "      <td>-0.016424</td>\n",
              "      <td>-0.006268</td>\n",
              "      <td>0.001382</td>\n",
              "      <td>-0.016094</td>\n",
              "      <td>-0.010073</td>\n",
              "      <td>-0.005663</td>\n",
              "      <td>0.002291</td>\n",
              "      <td>-0.052215</td>\n",
              "      <td>-0.001050</td>\n",
              "      <td>0.044241</td>\n",
              "      <td>0.009032</td>\n",
              "      <td>0.022831</td>\n",
              "      <td>-0.174418</td>\n",
              "      <td>-0.059484</td>\n",
              "      <td>-0.030005</td>\n",
              "      <td>0.0</td>\n",
              "      <td>0.0</td>\n",
              "      <td>0.0</td>\n",
              "      <td>0.0</td>\n",
              "    </tr>\n",
              "    <tr>\n",
              "      <th>marital_status_Widowed</th>\n",
              "      <td>0.031368</td>\n",
              "      <td>-0.027208</td>\n",
              "      <td>-0.024641</td>\n",
              "      <td>0.969884</td>\n",
              "      <td>0.156665</td>\n",
              "      <td>-0.008096</td>\n",
              "      <td>0.003492</td>\n",
              "      <td>0.058243</td>\n",
              "      <td>-0.036994</td>\n",
              "      <td>-0.005054</td>\n",
              "      <td>-0.083020</td>\n",
              "      <td>-0.007238</td>\n",
              "      <td>-0.009714</td>\n",
              "      <td>0.003528</td>\n",
              "      <td>0.006782</td>\n",
              "      <td>-0.004077</td>\n",
              "      <td>0.008460</td>\n",
              "      <td>0.000440</td>\n",
              "      <td>-0.004992</td>\n",
              "      <td>0.073388</td>\n",
              "      <td>0.037610</td>\n",
              "      <td>0.026210</td>\n",
              "      <td>-0.009435</td>\n",
              "      <td>-0.006152</td>\n",
              "      <td>-0.001035</td>\n",
              "      <td>0.017030</td>\n",
              "      <td>0.090813</td>\n",
              "      <td>0.0</td>\n",
              "      <td>0.0</td>\n",
              "      <td>0.0</td>\n",
              "      <td>0.0</td>\n",
              "    </tr>\n",
              "    <tr>\n",
              "      <th>education_level_6</th>\n",
              "      <td>-0.002752</td>\n",
              "      <td>0.004400</td>\n",
              "      <td>-0.013783</td>\n",
              "      <td>0.010841</td>\n",
              "      <td>0.002848</td>\n",
              "      <td>-0.001962</td>\n",
              "      <td>0.007961</td>\n",
              "      <td>0.007565</td>\n",
              "      <td>-0.000356</td>\n",
              "      <td>-0.013150</td>\n",
              "      <td>0.007356</td>\n",
              "      <td>-0.002267</td>\n",
              "      <td>-0.001759</td>\n",
              "      <td>-0.001443</td>\n",
              "      <td>0.009091</td>\n",
              "      <td>-0.000207</td>\n",
              "      <td>-0.000950</td>\n",
              "      <td>0.997072</td>\n",
              "      <td>-0.000236</td>\n",
              "      <td>-0.002078</td>\n",
              "      <td>0.004063</td>\n",
              "      <td>-0.000092</td>\n",
              "      <td>0.000515</td>\n",
              "      <td>-0.002667</td>\n",
              "      <td>0.005356</td>\n",
              "      <td>-0.003197</td>\n",
              "      <td>-0.000822</td>\n",
              "      <td>0.0</td>\n",
              "      <td>0.0</td>\n",
              "      <td>0.0</td>\n",
              "      <td>0.0</td>\n",
              "    </tr>\n",
              "    <tr>\n",
              "      <th>education_level_No formal education</th>\n",
              "      <td>0.048390</td>\n",
              "      <td>-0.084504</td>\n",
              "      <td>-0.055958</td>\n",
              "      <td>0.191455</td>\n",
              "      <td>0.063259</td>\n",
              "      <td>-0.124423</td>\n",
              "      <td>-0.012803</td>\n",
              "      <td>0.125371</td>\n",
              "      <td>-0.007394</td>\n",
              "      <td>-0.007177</td>\n",
              "      <td>0.042962</td>\n",
              "      <td>-0.068141</td>\n",
              "      <td>-0.023380</td>\n",
              "      <td>-0.006150</td>\n",
              "      <td>-0.003276</td>\n",
              "      <td>-0.000220</td>\n",
              "      <td>-0.005914</td>\n",
              "      <td>-0.019073</td>\n",
              "      <td>-0.007254</td>\n",
              "      <td>0.946141</td>\n",
              "      <td>0.031934</td>\n",
              "      <td>-0.004703</td>\n",
              "      <td>-0.029108</td>\n",
              "      <td>-0.079486</td>\n",
              "      <td>0.011827</td>\n",
              "      <td>0.020495</td>\n",
              "      <td>0.000458</td>\n",
              "      <td>0.0</td>\n",
              "      <td>0.0</td>\n",
              "      <td>0.0</td>\n",
              "      <td>0.0</td>\n",
              "    </tr>\n",
              "    <tr>\n",
              "      <th>education_level_Other/Dont know/RTA</th>\n",
              "      <td>-0.004570</td>\n",
              "      <td>0.019415</td>\n",
              "      <td>0.015104</td>\n",
              "      <td>-0.000215</td>\n",
              "      <td>-0.001308</td>\n",
              "      <td>-0.003842</td>\n",
              "      <td>-0.004469</td>\n",
              "      <td>-0.002470</td>\n",
              "      <td>-0.002307</td>\n",
              "      <td>0.000907</td>\n",
              "      <td>0.000403</td>\n",
              "      <td>-0.004347</td>\n",
              "      <td>0.015138</td>\n",
              "      <td>-0.000451</td>\n",
              "      <td>-0.000729</td>\n",
              "      <td>-0.000359</td>\n",
              "      <td>0.008826</td>\n",
              "      <td>-0.000234</td>\n",
              "      <td>0.996960</td>\n",
              "      <td>0.000722</td>\n",
              "      <td>-0.000955</td>\n",
              "      <td>-0.002958</td>\n",
              "      <td>0.002333</td>\n",
              "      <td>-0.004142</td>\n",
              "      <td>0.006004</td>\n",
              "      <td>-0.001969</td>\n",
              "      <td>-0.000167</td>\n",
              "      <td>0.0</td>\n",
              "      <td>0.0</td>\n",
              "      <td>0.0</td>\n",
              "      <td>0.0</td>\n",
              "    </tr>\n",
              "    <tr>\n",
              "      <th>education_level_Primary education</th>\n",
              "      <td>0.010698</td>\n",
              "      <td>-0.110265</td>\n",
              "      <td>-0.049222</td>\n",
              "      <td>-0.043790</td>\n",
              "      <td>-0.013093</td>\n",
              "      <td>-0.614713</td>\n",
              "      <td>0.001081</td>\n",
              "      <td>0.004312</td>\n",
              "      <td>-0.016489</td>\n",
              "      <td>-0.019778</td>\n",
              "      <td>0.014787</td>\n",
              "      <td>-0.215526</td>\n",
              "      <td>-0.051022</td>\n",
              "      <td>0.003624</td>\n",
              "      <td>-0.011563</td>\n",
              "      <td>0.004515</td>\n",
              "      <td>-0.013845</td>\n",
              "      <td>-0.040731</td>\n",
              "      <td>-0.020119</td>\n",
              "      <td>-0.685906</td>\n",
              "      <td>-0.013405</td>\n",
              "      <td>-0.056101</td>\n",
              "      <td>-0.047299</td>\n",
              "      <td>-0.266075</td>\n",
              "      <td>-0.052214</td>\n",
              "      <td>-0.018632</td>\n",
              "      <td>-0.005120</td>\n",
              "      <td>0.0</td>\n",
              "      <td>0.0</td>\n",
              "      <td>0.0</td>\n",
              "      <td>0.0</td>\n",
              "    </tr>\n",
              "    <tr>\n",
              "      <th>education_level_Secondary education</th>\n",
              "      <td>-0.029682</td>\n",
              "      <td>0.072698</td>\n",
              "      <td>0.072235</td>\n",
              "      <td>-0.101555</td>\n",
              "      <td>-0.033625</td>\n",
              "      <td>0.963195</td>\n",
              "      <td>0.014992</td>\n",
              "      <td>-0.072191</td>\n",
              "      <td>0.000579</td>\n",
              "      <td>0.019074</td>\n",
              "      <td>-0.033653</td>\n",
              "      <td>-0.086857</td>\n",
              "      <td>0.019043</td>\n",
              "      <td>0.005871</td>\n",
              "      <td>0.014304</td>\n",
              "      <td>-0.002471</td>\n",
              "      <td>0.020748</td>\n",
              "      <td>-0.012418</td>\n",
              "      <td>-0.009390</td>\n",
              "      <td>-0.080951</td>\n",
              "      <td>-0.013497</td>\n",
              "      <td>0.060567</td>\n",
              "      <td>0.012294</td>\n",
              "      <td>-0.096730</td>\n",
              "      <td>0.099015</td>\n",
              "      <td>0.009468</td>\n",
              "      <td>0.005739</td>\n",
              "      <td>0.0</td>\n",
              "      <td>0.0</td>\n",
              "      <td>0.0</td>\n",
              "      <td>0.0</td>\n",
              "    </tr>\n",
              "    <tr>\n",
              "      <th>education_level_Tertiary education</th>\n",
              "      <td>-0.039096</td>\n",
              "      <td>0.156088</td>\n",
              "      <td>0.021521</td>\n",
              "      <td>-0.046925</td>\n",
              "      <td>-0.018476</td>\n",
              "      <td>-0.039006</td>\n",
              "      <td>-0.014011</td>\n",
              "      <td>-0.062152</td>\n",
              "      <td>0.046203</td>\n",
              "      <td>0.010892</td>\n",
              "      <td>-0.047963</td>\n",
              "      <td>-0.044942</td>\n",
              "      <td>0.074056</td>\n",
              "      <td>-0.003354</td>\n",
              "      <td>0.011806</td>\n",
              "      <td>-0.002990</td>\n",
              "      <td>0.001888</td>\n",
              "      <td>-0.003723</td>\n",
              "      <td>-0.004961</td>\n",
              "      <td>0.000879</td>\n",
              "      <td>-0.002402</td>\n",
              "      <td>0.023397</td>\n",
              "      <td>0.070017</td>\n",
              "      <td>0.967865</td>\n",
              "      <td>-0.079519</td>\n",
              "      <td>-0.009369</td>\n",
              "      <td>0.000675</td>\n",
              "      <td>0.0</td>\n",
              "      <td>0.0</td>\n",
              "      <td>0.0</td>\n",
              "      <td>0.0</td>\n",
              "    </tr>\n",
              "    <tr>\n",
              "      <th>education_level_Vocational/Specialised training</th>\n",
              "      <td>-0.023846</td>\n",
              "      <td>0.142983</td>\n",
              "      <td>0.078613</td>\n",
              "      <td>-0.025870</td>\n",
              "      <td>-0.008377</td>\n",
              "      <td>-0.035840</td>\n",
              "      <td>0.008633</td>\n",
              "      <td>-0.057784</td>\n",
              "      <td>0.005401</td>\n",
              "      <td>0.018802</td>\n",
              "      <td>-0.006801</td>\n",
              "      <td>0.974468</td>\n",
              "      <td>0.060915</td>\n",
              "      <td>-0.004730</td>\n",
              "      <td>-0.007104</td>\n",
              "      <td>-0.003042</td>\n",
              "      <td>0.003897</td>\n",
              "      <td>-0.002861</td>\n",
              "      <td>-0.004898</td>\n",
              "      <td>0.002316</td>\n",
              "      <td>-0.001651</td>\n",
              "      <td>0.008366</td>\n",
              "      <td>0.083021</td>\n",
              "      <td>-0.042447</td>\n",
              "      <td>0.000905</td>\n",
              "      <td>-0.001397</td>\n",
              "      <td>0.000274</td>\n",
              "      <td>0.0</td>\n",
              "      <td>0.0</td>\n",
              "      <td>0.0</td>\n",
              "      <td>0.0</td>\n",
              "    </tr>\n",
              "    <tr>\n",
              "      <th>job_type_Dont Know/Refuse to answer</th>\n",
              "      <td>0.010588</td>\n",
              "      <td>-0.002558</td>\n",
              "      <td>-0.006870</td>\n",
              "      <td>0.001515</td>\n",
              "      <td>0.003689</td>\n",
              "      <td>0.004346</td>\n",
              "      <td>0.052847</td>\n",
              "      <td>0.000154</td>\n",
              "      <td>-0.003689</td>\n",
              "      <td>0.016167</td>\n",
              "      <td>0.007722</td>\n",
              "      <td>-0.004482</td>\n",
              "      <td>-0.004430</td>\n",
              "      <td>0.995425</td>\n",
              "      <td>-0.008130</td>\n",
              "      <td>-0.000496</td>\n",
              "      <td>-0.012855</td>\n",
              "      <td>-0.001456</td>\n",
              "      <td>-0.000454</td>\n",
              "      <td>-0.006416</td>\n",
              "      <td>-0.003804</td>\n",
              "      <td>-0.011075</td>\n",
              "      <td>-0.007465</td>\n",
              "      <td>-0.003148</td>\n",
              "      <td>0.017754</td>\n",
              "      <td>0.001437</td>\n",
              "      <td>0.000356</td>\n",
              "      <td>0.0</td>\n",
              "      <td>0.0</td>\n",
              "      <td>0.0</td>\n",
              "      <td>0.0</td>\n",
              "    </tr>\n",
              "    <tr>\n",
              "      <th>job_type_Farming and Fishing</th>\n",
              "      <td>0.224435</td>\n",
              "      <td>-0.026162</td>\n",
              "      <td>-0.133311</td>\n",
              "      <td>0.080063</td>\n",
              "      <td>-0.003790</td>\n",
              "      <td>-0.014285</td>\n",
              "      <td>-0.129716</td>\n",
              "      <td>-0.067217</td>\n",
              "      <td>-0.030932</td>\n",
              "      <td>0.419790</td>\n",
              "      <td>0.115993</td>\n",
              "      <td>-0.021622</td>\n",
              "      <td>-0.095787</td>\n",
              "      <td>-0.056633</td>\n",
              "      <td>-0.098315</td>\n",
              "      <td>-0.001494</td>\n",
              "      <td>-0.156172</td>\n",
              "      <td>-0.012469</td>\n",
              "      <td>-0.005699</td>\n",
              "      <td>0.032766</td>\n",
              "      <td>-0.081214</td>\n",
              "      <td>-0.246517</td>\n",
              "      <td>-0.143496</td>\n",
              "      <td>-0.040792</td>\n",
              "      <td>0.193751</td>\n",
              "      <td>0.730308</td>\n",
              "      <td>-0.001082</td>\n",
              "      <td>0.0</td>\n",
              "      <td>0.0</td>\n",
              "      <td>0.0</td>\n",
              "      <td>0.0</td>\n",
              "    </tr>\n",
              "    <tr>\n",
              "      <th>job_type_Formally employed Government</th>\n",
              "      <td>-0.028586</td>\n",
              "      <td>0.144152</td>\n",
              "      <td>0.036638</td>\n",
              "      <td>-0.009779</td>\n",
              "      <td>-0.011684</td>\n",
              "      <td>0.029703</td>\n",
              "      <td>-0.021729</td>\n",
              "      <td>-0.032655</td>\n",
              "      <td>-0.009506</td>\n",
              "      <td>0.027449</td>\n",
              "      <td>0.028953</td>\n",
              "      <td>0.060656</td>\n",
              "      <td>0.977489</td>\n",
              "      <td>-0.004755</td>\n",
              "      <td>-0.007601</td>\n",
              "      <td>-0.001704</td>\n",
              "      <td>-0.017697</td>\n",
              "      <td>-0.001885</td>\n",
              "      <td>0.016062</td>\n",
              "      <td>-0.003881</td>\n",
              "      <td>-0.007266</td>\n",
              "      <td>-0.024414</td>\n",
              "      <td>-0.033905</td>\n",
              "      <td>0.072439</td>\n",
              "      <td>0.030628</td>\n",
              "      <td>0.002668</td>\n",
              "      <td>-0.000671</td>\n",
              "      <td>0.0</td>\n",
              "      <td>0.0</td>\n",
              "      <td>0.0</td>\n",
              "      <td>0.0</td>\n",
              "    </tr>\n",
              "    <tr>\n",
              "      <th>job_type_Formally employed Private</th>\n",
              "      <td>-0.034041</td>\n",
              "      <td>0.152058</td>\n",
              "      <td>0.052248</td>\n",
              "      <td>-0.032738</td>\n",
              "      <td>-0.031342</td>\n",
              "      <td>0.023220</td>\n",
              "      <td>0.009388</td>\n",
              "      <td>-0.057274</td>\n",
              "      <td>0.018151</td>\n",
              "      <td>0.048363</td>\n",
              "      <td>-0.017292</td>\n",
              "      <td>0.084463</td>\n",
              "      <td>-0.035396</td>\n",
              "      <td>-0.008580</td>\n",
              "      <td>-0.020089</td>\n",
              "      <td>0.003107</td>\n",
              "      <td>-0.029483</td>\n",
              "      <td>0.000505</td>\n",
              "      <td>0.002519</td>\n",
              "      <td>-0.012953</td>\n",
              "      <td>-0.011743</td>\n",
              "      <td>-0.040195</td>\n",
              "      <td>0.970193</td>\n",
              "      <td>0.070083</td>\n",
              "      <td>-0.034571</td>\n",
              "      <td>0.016592</td>\n",
              "      <td>-0.000958</td>\n",
              "      <td>0.0</td>\n",
              "      <td>0.0</td>\n",
              "      <td>0.0</td>\n",
              "      <td>0.0</td>\n",
              "    </tr>\n",
              "    <tr>\n",
              "      <th>job_type_Government Dependent</th>\n",
              "      <td>0.001576</td>\n",
              "      <td>0.015892</td>\n",
              "      <td>-0.001180</td>\n",
              "      <td>0.093969</td>\n",
              "      <td>0.011670</td>\n",
              "      <td>-0.009193</td>\n",
              "      <td>-0.008084</td>\n",
              "      <td>0.033740</td>\n",
              "      <td>-0.004059</td>\n",
              "      <td>0.022595</td>\n",
              "      <td>-0.011751</td>\n",
              "      <td>-0.001255</td>\n",
              "      <td>-0.006904</td>\n",
              "      <td>-0.003873</td>\n",
              "      <td>-0.009381</td>\n",
              "      <td>-0.000842</td>\n",
              "      <td>-0.011428</td>\n",
              "      <td>0.004020</td>\n",
              "      <td>-0.001030</td>\n",
              "      <td>0.036384</td>\n",
              "      <td>0.990760</td>\n",
              "      <td>-0.019128</td>\n",
              "      <td>-0.010143</td>\n",
              "      <td>-0.001692</td>\n",
              "      <td>-0.012867</td>\n",
              "      <td>0.000812</td>\n",
              "      <td>-0.004634</td>\n",
              "      <td>0.0</td>\n",
              "      <td>0.0</td>\n",
              "      <td>0.0</td>\n",
              "      <td>0.0</td>\n",
              "    </tr>\n",
              "    <tr>\n",
              "      <th>job_type_Informally employed</th>\n",
              "      <td>0.035821</td>\n",
              "      <td>-0.059211</td>\n",
              "      <td>-0.068737</td>\n",
              "      <td>-0.040378</td>\n",
              "      <td>-0.033727</td>\n",
              "      <td>-0.026811</td>\n",
              "      <td>-0.082926</td>\n",
              "      <td>0.008944</td>\n",
              "      <td>0.019146</td>\n",
              "      <td>-0.971677</td>\n",
              "      <td>0.013335</td>\n",
              "      <td>-0.022595</td>\n",
              "      <td>-0.041574</td>\n",
              "      <td>-0.025744</td>\n",
              "      <td>-0.054659</td>\n",
              "      <td>0.003377</td>\n",
              "      <td>-0.070952</td>\n",
              "      <td>0.013299</td>\n",
              "      <td>-0.001486</td>\n",
              "      <td>-0.005007</td>\n",
              "      <td>-0.035950</td>\n",
              "      <td>-0.114246</td>\n",
              "      <td>-0.068233</td>\n",
              "      <td>-0.015942</td>\n",
              "      <td>0.032182</td>\n",
              "      <td>0.006650</td>\n",
              "      <td>0.002159</td>\n",
              "      <td>0.0</td>\n",
              "      <td>0.0</td>\n",
              "      <td>0.0</td>\n",
              "      <td>0.0</td>\n",
              "    </tr>\n",
              "    <tr>\n",
              "      <th>job_type_No Income</th>\n",
              "      <td>-0.021925</td>\n",
              "      <td>-0.030834</td>\n",
              "      <td>0.024801</td>\n",
              "      <td>-0.019643</td>\n",
              "      <td>0.046468</td>\n",
              "      <td>0.016035</td>\n",
              "      <td>0.088148</td>\n",
              "      <td>0.062084</td>\n",
              "      <td>0.042816</td>\n",
              "      <td>0.036840</td>\n",
              "      <td>-0.023225</td>\n",
              "      <td>-0.006939</td>\n",
              "      <td>-0.007674</td>\n",
              "      <td>-0.008697</td>\n",
              "      <td>0.983807</td>\n",
              "      <td>-0.001047</td>\n",
              "      <td>-0.025699</td>\n",
              "      <td>0.009467</td>\n",
              "      <td>-0.000757</td>\n",
              "      <td>-0.002065</td>\n",
              "      <td>-0.010113</td>\n",
              "      <td>-0.033037</td>\n",
              "      <td>-0.018804</td>\n",
              "      <td>0.011338</td>\n",
              "      <td>-0.063222</td>\n",
              "      <td>0.021667</td>\n",
              "      <td>0.000333</td>\n",
              "      <td>0.0</td>\n",
              "      <td>0.0</td>\n",
              "      <td>0.0</td>\n",
              "      <td>0.0</td>\n",
              "    </tr>\n",
              "    <tr>\n",
              "      <th>job_type_Other Income</th>\n",
              "      <td>-0.015069</td>\n",
              "      <td>0.017832</td>\n",
              "      <td>0.018895</td>\n",
              "      <td>0.001806</td>\n",
              "      <td>0.007496</td>\n",
              "      <td>0.022104</td>\n",
              "      <td>0.156364</td>\n",
              "      <td>0.007744</td>\n",
              "      <td>-0.002452</td>\n",
              "      <td>0.048534</td>\n",
              "      <td>0.010305</td>\n",
              "      <td>0.003686</td>\n",
              "      <td>-0.018133</td>\n",
              "      <td>-0.014380</td>\n",
              "      <td>-0.026973</td>\n",
              "      <td>-0.001918</td>\n",
              "      <td>0.979811</td>\n",
              "      <td>-0.001131</td>\n",
              "      <td>0.009347</td>\n",
              "      <td>-0.001258</td>\n",
              "      <td>-0.012505</td>\n",
              "      <td>-0.038071</td>\n",
              "      <td>-0.028739</td>\n",
              "      <td>0.001897</td>\n",
              "      <td>0.053646</td>\n",
              "      <td>0.011534</td>\n",
              "      <td>0.001460</td>\n",
              "      <td>0.0</td>\n",
              "      <td>0.0</td>\n",
              "      <td>0.0</td>\n",
              "      <td>0.0</td>\n",
              "    </tr>\n",
              "    <tr>\n",
              "      <th>job_type_Remittance Dependent</th>\n",
              "      <td>-0.027545</td>\n",
              "      <td>-0.030099</td>\n",
              "      <td>0.080630</td>\n",
              "      <td>-0.002899</td>\n",
              "      <td>0.080148</td>\n",
              "      <td>0.070396</td>\n",
              "      <td>-0.059143</td>\n",
              "      <td>0.051703</td>\n",
              "      <td>-0.002875</td>\n",
              "      <td>0.090153</td>\n",
              "      <td>-0.069057</td>\n",
              "      <td>0.008176</td>\n",
              "      <td>-0.027942</td>\n",
              "      <td>-0.013943</td>\n",
              "      <td>-0.037797</td>\n",
              "      <td>0.000485</td>\n",
              "      <td>-0.042905</td>\n",
              "      <td>-0.000352</td>\n",
              "      <td>-0.003305</td>\n",
              "      <td>0.011405</td>\n",
              "      <td>-0.023304</td>\n",
              "      <td>0.974034</td>\n",
              "      <td>-0.043518</td>\n",
              "      <td>0.023038</td>\n",
              "      <td>0.026478</td>\n",
              "      <td>0.009865</td>\n",
              "      <td>0.003148</td>\n",
              "      <td>0.0</td>\n",
              "      <td>0.0</td>\n",
              "      <td>0.0</td>\n",
              "      <td>0.0</td>\n",
              "    </tr>\n",
              "    <tr>\n",
              "      <th>job_type_Self employed</th>\n",
              "      <td>-0.191030</td>\n",
              "      <td>-0.010136</td>\n",
              "      <td>0.084842</td>\n",
              "      <td>-0.032905</td>\n",
              "      <td>-0.025561</td>\n",
              "      <td>-0.043879</td>\n",
              "      <td>0.133041</td>\n",
              "      <td>0.021404</td>\n",
              "      <td>-0.005430</td>\n",
              "      <td>0.393805</td>\n",
              "      <td>-0.070030</td>\n",
              "      <td>-0.018426</td>\n",
              "      <td>-0.099866</td>\n",
              "      <td>-0.058991</td>\n",
              "      <td>-0.155233</td>\n",
              "      <td>-0.001549</td>\n",
              "      <td>-0.183092</td>\n",
              "      <td>-0.003905</td>\n",
              "      <td>-0.000467</td>\n",
              "      <td>-0.033061</td>\n",
              "      <td>-0.082380</td>\n",
              "      <td>-0.272691</td>\n",
              "      <td>-0.185835</td>\n",
              "      <td>-0.019499</td>\n",
              "      <td>-0.228079</td>\n",
              "      <td>-0.728013</td>\n",
              "      <td>-0.002391</td>\n",
              "      <td>0.0</td>\n",
              "      <td>0.0</td>\n",
              "      <td>0.0</td>\n",
              "      <td>0.0</td>\n",
              "    </tr>\n",
              "  </tbody>\n",
              "</table>\n",
              "</div>"
            ],
            "text/plain": [
              "                                                  Factor1  ...  Factor31\n",
              "year                                            -0.102428  ...       0.0\n",
              "household_size                                   0.178516  ...       0.0\n",
              "respondent_age                                   0.025050  ...       0.0\n",
              "country_Kenya                                   -0.000534  ...       0.0\n",
              "country_Rwanda                                   0.209883  ...       0.0\n",
              "country_Tanzania                                -0.258598  ...       0.0\n",
              "country_Uganda                                   0.051452  ...       0.0\n",
              "has_bank_account_No                              0.042405  ...       0.0\n",
              "has_bank_account_Yes                            -0.042405  ...       0.0\n",
              "location_type_Rural                              0.967076  ...       0.0\n",
              "location_type_Urban                             -0.967076  ...       0.0\n",
              "cell_phone_access_No                            -0.037782  ...       0.0\n",
              "cell_phone_access_Yes                            0.037782  ...       0.0\n",
              "gender_of_respondent_Female                      0.004047  ...       0.0\n",
              "gender_of_respondent_Male                       -0.004047  ...       0.0\n",
              "marital_status_Divorced/Seperated               -0.002734  ...       0.0\n",
              "marital_status_Dont know                        -0.004912  ...       0.0\n",
              "marital_status_Married/Living together           0.118585  ...       0.0\n",
              "marital_status_Single/Never Married             -0.144177  ...       0.0\n",
              "marital_status_Widowed                           0.031368  ...       0.0\n",
              "education_level_6                               -0.002752  ...       0.0\n",
              "education_level_No formal education              0.048390  ...       0.0\n",
              "education_level_Other/Dont know/RTA             -0.004570  ...       0.0\n",
              "education_level_Primary education                0.010698  ...       0.0\n",
              "education_level_Secondary education             -0.029682  ...       0.0\n",
              "education_level_Tertiary education              -0.039096  ...       0.0\n",
              "education_level_Vocational/Specialised training -0.023846  ...       0.0\n",
              "job_type_Dont Know/Refuse to answer              0.010588  ...       0.0\n",
              "job_type_Farming and Fishing                     0.224435  ...       0.0\n",
              "job_type_Formally employed Government           -0.028586  ...       0.0\n",
              "job_type_Formally employed Private              -0.034041  ...       0.0\n",
              "job_type_Government Dependent                    0.001576  ...       0.0\n",
              "job_type_Informally employed                     0.035821  ...       0.0\n",
              "job_type_No Income                              -0.021925  ...       0.0\n",
              "job_type_Other Income                           -0.015069  ...       0.0\n",
              "job_type_Remittance Dependent                   -0.027545  ...       0.0\n",
              "job_type_Self employed                          -0.191030  ...       0.0\n",
              "\n",
              "[37 rows x 31 columns]"
            ]
          },
          "metadata": {},
          "execution_count": 302
        }
      ]
    },
    {
      "cell_type": "code",
      "metadata": {
        "colab": {
          "base_uri": "https://localhost:8080/",
          "height": 211
        },
        "id": "boV9zYxVLtiL",
        "outputId": "d9630671-dc40-4523-85ab-88e1eab36c4a"
      },
      "source": [
        "#  Getting variance of each factors\n",
        "# \n",
        "fa.get_factor_variance()\n",
        "\n",
        "# 96% cumulative Variance explained by the 31factors."
      ],
      "execution_count": 303,
      "outputs": [
        {
          "output_type": "execute_result",
          "data": {
            "text/html": [
              "<div>\n",
              "<style scoped>\n",
              "    .dataframe tbody tr th:only-of-type {\n",
              "        vertical-align: middle;\n",
              "    }\n",
              "\n",
              "    .dataframe tbody tr th {\n",
              "        vertical-align: top;\n",
              "    }\n",
              "\n",
              "    .dataframe thead th {\n",
              "        text-align: right;\n",
              "    }\n",
              "</style>\n",
              "<table border=\"1\" class=\"dataframe\">\n",
              "  <thead>\n",
              "    <tr style=\"text-align: right;\">\n",
              "      <th></th>\n",
              "      <th>Factor1</th>\n",
              "      <th>Factor2</th>\n",
              "      <th>Factor3</th>\n",
              "      <th>Factor4</th>\n",
              "      <th>Factor5</th>\n",
              "      <th>Factor6</th>\n",
              "      <th>Factor7</th>\n",
              "      <th>Factor8</th>\n",
              "      <th>Factor9</th>\n",
              "      <th>Factor10</th>\n",
              "      <th>Factor11</th>\n",
              "      <th>Factor12</th>\n",
              "      <th>Factor13</th>\n",
              "      <th>Factor14</th>\n",
              "      <th>Factor15</th>\n",
              "      <th>Factor16</th>\n",
              "      <th>Factor17</th>\n",
              "      <th>Factor18</th>\n",
              "      <th>Factor19</th>\n",
              "      <th>Factor20</th>\n",
              "      <th>Factor21</th>\n",
              "      <th>Factor22</th>\n",
              "      <th>Factor23</th>\n",
              "      <th>Factor24</th>\n",
              "      <th>Factor25</th>\n",
              "      <th>Factor26</th>\n",
              "      <th>Factor27</th>\n",
              "      <th>Factor28</th>\n",
              "      <th>Factor29</th>\n",
              "      <th>Factor30</th>\n",
              "      <th>Factor31</th>\n",
              "    </tr>\n",
              "  </thead>\n",
              "  <tbody>\n",
              "    <tr>\n",
              "      <th>SS Loadings</th>\n",
              "      <td>2.166546</td>\n",
              "      <td>2.070901</td>\n",
              "      <td>2.412079</td>\n",
              "      <td>1.484674</td>\n",
              "      <td>2.032451</td>\n",
              "      <td>1.384509</td>\n",
              "      <td>1.183485</td>\n",
              "      <td>2.044761</td>\n",
              "      <td>1.153097</td>\n",
              "      <td>1.321009</td>\n",
              "      <td>1.695150</td>\n",
              "      <td>1.043036</td>\n",
              "      <td>1.011872</td>\n",
              "      <td>1.004302</td>\n",
              "      <td>1.038538</td>\n",
              "      <td>0.995780</td>\n",
              "      <td>1.069562</td>\n",
              "      <td>0.997619</td>\n",
              "      <td>0.995613</td>\n",
              "      <td>1.453816</td>\n",
              "      <td>1.014194</td>\n",
              "      <td>1.135699</td>\n",
              "      <td>1.042814</td>\n",
              "      <td>1.071241</td>\n",
              "      <td>1.581401</td>\n",
              "      <td>1.169427</td>\n",
              "      <td>0.101018</td>\n",
              "      <td>0.000000</td>\n",
              "      <td>0.000000</td>\n",
              "      <td>0.000000</td>\n",
              "      <td>0.000000</td>\n",
              "    </tr>\n",
              "    <tr>\n",
              "      <th>Proportion Var</th>\n",
              "      <td>0.058555</td>\n",
              "      <td>0.055970</td>\n",
              "      <td>0.065191</td>\n",
              "      <td>0.040126</td>\n",
              "      <td>0.054931</td>\n",
              "      <td>0.037419</td>\n",
              "      <td>0.031986</td>\n",
              "      <td>0.055264</td>\n",
              "      <td>0.031165</td>\n",
              "      <td>0.035703</td>\n",
              "      <td>0.045815</td>\n",
              "      <td>0.028190</td>\n",
              "      <td>0.027348</td>\n",
              "      <td>0.027143</td>\n",
              "      <td>0.028069</td>\n",
              "      <td>0.026913</td>\n",
              "      <td>0.028907</td>\n",
              "      <td>0.026963</td>\n",
              "      <td>0.026908</td>\n",
              "      <td>0.039292</td>\n",
              "      <td>0.027411</td>\n",
              "      <td>0.030695</td>\n",
              "      <td>0.028184</td>\n",
              "      <td>0.028952</td>\n",
              "      <td>0.042741</td>\n",
              "      <td>0.031606</td>\n",
              "      <td>0.002730</td>\n",
              "      <td>0.000000</td>\n",
              "      <td>0.000000</td>\n",
              "      <td>0.000000</td>\n",
              "      <td>0.000000</td>\n",
              "    </tr>\n",
              "    <tr>\n",
              "      <th>Cumulative Var</th>\n",
              "      <td>0.058555</td>\n",
              "      <td>0.114526</td>\n",
              "      <td>0.179717</td>\n",
              "      <td>0.219843</td>\n",
              "      <td>0.274774</td>\n",
              "      <td>0.312193</td>\n",
              "      <td>0.344180</td>\n",
              "      <td>0.399443</td>\n",
              "      <td>0.430608</td>\n",
              "      <td>0.466311</td>\n",
              "      <td>0.512126</td>\n",
              "      <td>0.540316</td>\n",
              "      <td>0.567664</td>\n",
              "      <td>0.594807</td>\n",
              "      <td>0.622876</td>\n",
              "      <td>0.649789</td>\n",
              "      <td>0.678696</td>\n",
              "      <td>0.705659</td>\n",
              "      <td>0.732567</td>\n",
              "      <td>0.771859</td>\n",
              "      <td>0.799270</td>\n",
              "      <td>0.829965</td>\n",
              "      <td>0.858149</td>\n",
              "      <td>0.887101</td>\n",
              "      <td>0.929842</td>\n",
              "      <td>0.961448</td>\n",
              "      <td>0.964178</td>\n",
              "      <td>0.964178</td>\n",
              "      <td>0.964178</td>\n",
              "      <td>0.964178</td>\n",
              "      <td>0.964178</td>\n",
              "    </tr>\n",
              "  </tbody>\n",
              "</table>\n",
              "</div>"
            ],
            "text/plain": [
              "                 Factor1   Factor2   Factor3  ...  Factor29  Factor30  Factor31\n",
              "SS Loadings     2.166546  2.070901  2.412079  ...  0.000000  0.000000  0.000000\n",
              "Proportion Var  0.058555  0.055970  0.065191  ...  0.000000  0.000000  0.000000\n",
              "Cumulative Var  0.058555  0.114526  0.179717  ...  0.964178  0.964178  0.964178\n",
              "\n",
              "[3 rows x 31 columns]"
            ]
          },
          "metadata": {},
          "execution_count": 303
        }
      ]
    },
    {
      "cell_type": "markdown",
      "metadata": {
        "id": "QJ5N5UoVL8rJ"
      },
      "source": [
        "# ***(c) DISCRIMINANT ANALYSIS***"
      ]
    },
    {
      "cell_type": "code",
      "metadata": {
        "colab": {
          "base_uri": "https://localhost:8080/",
          "height": 302
        },
        "id": "2gm-MilyL2e-",
        "outputId": "f3a24ecc-106e-493c-d182-65225553ca77"
      },
      "source": [
        "df.head()"
      ],
      "execution_count": 304,
      "outputs": [
        {
          "output_type": "execute_result",
          "data": {
            "text/html": [
              "<div>\n",
              "<style scoped>\n",
              "    .dataframe tbody tr th:only-of-type {\n",
              "        vertical-align: middle;\n",
              "    }\n",
              "\n",
              "    .dataframe tbody tr th {\n",
              "        vertical-align: top;\n",
              "    }\n",
              "\n",
              "    .dataframe thead th {\n",
              "        text-align: right;\n",
              "    }\n",
              "</style>\n",
              "<table border=\"1\" class=\"dataframe\">\n",
              "  <thead>\n",
              "    <tr style=\"text-align: right;\">\n",
              "      <th></th>\n",
              "      <th>country</th>\n",
              "      <th>year</th>\n",
              "      <th>has_bank_account</th>\n",
              "      <th>location_type</th>\n",
              "      <th>cell_phone_access</th>\n",
              "      <th>household_size</th>\n",
              "      <th>respondent_age</th>\n",
              "      <th>gender_of_respondent</th>\n",
              "      <th>marital_status</th>\n",
              "      <th>education_level</th>\n",
              "      <th>job_type</th>\n",
              "    </tr>\n",
              "  </thead>\n",
              "  <tbody>\n",
              "    <tr>\n",
              "      <th>0</th>\n",
              "      <td>Kenya</td>\n",
              "      <td>2018</td>\n",
              "      <td>Yes</td>\n",
              "      <td>Rural</td>\n",
              "      <td>Yes</td>\n",
              "      <td>3.0</td>\n",
              "      <td>24.0</td>\n",
              "      <td>Female</td>\n",
              "      <td>Married/Living together</td>\n",
              "      <td>Secondary education</td>\n",
              "      <td>Self employed</td>\n",
              "    </tr>\n",
              "    <tr>\n",
              "      <th>1</th>\n",
              "      <td>Kenya</td>\n",
              "      <td>2018</td>\n",
              "      <td>No</td>\n",
              "      <td>Rural</td>\n",
              "      <td>No</td>\n",
              "      <td>5.0</td>\n",
              "      <td>70.0</td>\n",
              "      <td>Female</td>\n",
              "      <td>Widowed</td>\n",
              "      <td>No formal education</td>\n",
              "      <td>Government Dependent</td>\n",
              "    </tr>\n",
              "    <tr>\n",
              "      <th>2</th>\n",
              "      <td>Kenya</td>\n",
              "      <td>2018</td>\n",
              "      <td>Yes</td>\n",
              "      <td>Urban</td>\n",
              "      <td>Yes</td>\n",
              "      <td>5.0</td>\n",
              "      <td>26.0</td>\n",
              "      <td>Male</td>\n",
              "      <td>Single/Never Married</td>\n",
              "      <td>Vocational/Specialised training</td>\n",
              "      <td>Self employed</td>\n",
              "    </tr>\n",
              "    <tr>\n",
              "      <th>3</th>\n",
              "      <td>Kenya</td>\n",
              "      <td>2018</td>\n",
              "      <td>No</td>\n",
              "      <td>Rural</td>\n",
              "      <td>Yes</td>\n",
              "      <td>5.0</td>\n",
              "      <td>34.0</td>\n",
              "      <td>Female</td>\n",
              "      <td>Married/Living together</td>\n",
              "      <td>Primary education</td>\n",
              "      <td>Formally employed Private</td>\n",
              "    </tr>\n",
              "    <tr>\n",
              "      <th>4</th>\n",
              "      <td>Kenya</td>\n",
              "      <td>2018</td>\n",
              "      <td>No</td>\n",
              "      <td>Urban</td>\n",
              "      <td>No</td>\n",
              "      <td>8.0</td>\n",
              "      <td>26.0</td>\n",
              "      <td>Male</td>\n",
              "      <td>Single/Never Married</td>\n",
              "      <td>Primary education</td>\n",
              "      <td>Informally employed</td>\n",
              "    </tr>\n",
              "  </tbody>\n",
              "</table>\n",
              "</div>"
            ],
            "text/plain": [
              "  country  year  ...                  education_level                   job_type\n",
              "0   Kenya  2018  ...              Secondary education              Self employed\n",
              "1   Kenya  2018  ...              No formal education       Government Dependent\n",
              "2   Kenya  2018  ...  Vocational/Specialised training              Self employed\n",
              "3   Kenya  2018  ...                Primary education  Formally employed Private\n",
              "4   Kenya  2018  ...                Primary education        Informally employed\n",
              "\n",
              "[5 rows x 11 columns]"
            ]
          },
          "metadata": {},
          "execution_count": 304
        }
      ]
    },
    {
      "cell_type": "code",
      "metadata": {
        "colab": {
          "base_uri": "https://localhost:8080/"
        },
        "id": "F1OOcISgNdXV",
        "outputId": "2b3a5816-3471-4915-bac1-0d7cecab06cd"
      },
      "source": [
        "#divide dataset into labels and features\n",
        "X = df.iloc[:, 6:7].values\n",
        "from sklearn.preprocessing import normalize\n",
        "X = normalize(X)\n",
        "y = df.iloc[:, 8:].values\n",
        "X"
      ],
      "execution_count": 305,
      "outputs": [
        {
          "output_type": "execute_result",
          "data": {
            "text/plain": [
              "array([[1.],\n",
              "       [1.],\n",
              "       [1.],\n",
              "       ...,\n",
              "       [1.],\n",
              "       [1.],\n",
              "       [1.]])"
            ]
          },
          "metadata": {},
          "execution_count": 305
        }
      ]
    },
    {
      "cell_type": "code",
      "metadata": {
        "id": "ltB4IAsPO96P"
      },
      "source": [
        "# divides data into training and test sets\n",
        "#\n",
        "from sklearn.model_selection import train_test_split\n",
        "X_train, X_test, y_train, y_test = train_test_split(X, y, test_size=0.2, random_state=0)"
      ],
      "execution_count": 306,
      "outputs": []
    },
    {
      "cell_type": "code",
      "metadata": {
        "id": "GrjtYK9_PIY8"
      },
      "source": [
        "# Step 5: Feature scaling\n",
        "# We now need to perform feature scaling. We execute the following code to do so:\n",
        "# \n",
        "from sklearn.preprocessing import StandardScaler\n",
        "sc = StandardScaler()\n",
        "X_train = sc.fit_transform(X_train)\n",
        "X_test = sc.transform(X_test)"
      ],
      "execution_count": 307,
      "outputs": []
    },
    {
      "cell_type": "code",
      "metadata": {
        "id": "xDu5wMh6PjwJ"
      },
      "source": [
        "#performing LDA\n",
        "from sklearn.discriminant_analysis import LinearDiscriminantAnalysis as LDA\n",
        "lda = LDA(n_components=1)\n",
        "X_train = lda.fit_transform(X_train, y_train)\n",
        "X_test = lda.transform(X_test)"
      ],
      "execution_count": 309,
      "outputs": []
    },
    {
      "cell_type": "code",
      "metadata": {
        "id": "g15FmpvXQghX"
      },
      "source": [
        "#training and making predictions\n",
        "from sklearn.ensemble import RandomForestClassifier\n",
        "\n",
        "classifier = RandomForestClassifier(max_depth=2, random_state=0)\n",
        "classifier.fit(X_train, y_train)\n",
        "y_pred = classifier.predict(X_test)"
      ],
      "execution_count": 311,
      "outputs": []
    },
    {
      "cell_type": "code",
      "metadata": {
        "colab": {
          "base_uri": "https://localhost:8080/",
          "height": 387
        },
        "id": "umMxFsgTQrM6",
        "outputId": "9247553f-72db-4527-a00e-a82d88f246cf"
      },
      "source": [
        "#evaluating performance\n",
        "\n",
        "from sklearn.metrics import confusion_matrix\n",
        "from sklearn.metrics import accuracy_score\n",
        "\n",
        "cm = confusion_matrix(y_test, y_pred)\n",
        "print(cm)\n",
        "#print('Accuracy' + str(accuracy_score(y_test, y_pred)))"
      ],
      "execution_count": 357,
      "outputs": [
        {
          "output_type": "error",
          "ename": "ValueError",
          "evalue": "ignored",
          "traceback": [
            "\u001b[0;31m---------------------------------------------------------------------------\u001b[0m",
            "\u001b[0;31mValueError\u001b[0m                                Traceback (most recent call last)",
            "\u001b[0;32m<ipython-input-357-df06a05a3413>\u001b[0m in \u001b[0;36m<module>\u001b[0;34m()\u001b[0m\n\u001b[1;32m      4\u001b[0m \u001b[0;32mfrom\u001b[0m \u001b[0msklearn\u001b[0m\u001b[0;34m.\u001b[0m\u001b[0mmetrics\u001b[0m \u001b[0;32mimport\u001b[0m \u001b[0maccuracy_score\u001b[0m\u001b[0;34m\u001b[0m\u001b[0;34m\u001b[0m\u001b[0m\n\u001b[1;32m      5\u001b[0m \u001b[0;34m\u001b[0m\u001b[0m\n\u001b[0;32m----> 6\u001b[0;31m \u001b[0mcm\u001b[0m \u001b[0;34m=\u001b[0m \u001b[0mconfusion_matrix\u001b[0m\u001b[0;34m(\u001b[0m\u001b[0my_test\u001b[0m\u001b[0;34m,\u001b[0m \u001b[0my_pred\u001b[0m\u001b[0;34m)\u001b[0m\u001b[0;34m\u001b[0m\u001b[0;34m\u001b[0m\u001b[0m\n\u001b[0m\u001b[1;32m      7\u001b[0m \u001b[0mprint\u001b[0m\u001b[0;34m(\u001b[0m\u001b[0mcm\u001b[0m\u001b[0;34m)\u001b[0m\u001b[0;34m\u001b[0m\u001b[0;34m\u001b[0m\u001b[0m\n\u001b[1;32m      8\u001b[0m \u001b[0;31m#print('Accuracy' + str(accuracy_score(y_test, y_pred)))\u001b[0m\u001b[0;34m\u001b[0m\u001b[0;34m\u001b[0m\u001b[0;34m\u001b[0m\u001b[0m\n",
            "\u001b[0;32m/usr/local/lib/python3.7/dist-packages/sklearn/metrics/_classification.py\u001b[0m in \u001b[0;36mconfusion_matrix\u001b[0;34m(y_true, y_pred, labels, sample_weight, normalize)\u001b[0m\n\u001b[1;32m    266\u001b[0m \u001b[0;34m\u001b[0m\u001b[0m\n\u001b[1;32m    267\u001b[0m     \"\"\"\n\u001b[0;32m--> 268\u001b[0;31m     \u001b[0my_type\u001b[0m\u001b[0;34m,\u001b[0m \u001b[0my_true\u001b[0m\u001b[0;34m,\u001b[0m \u001b[0my_pred\u001b[0m \u001b[0;34m=\u001b[0m \u001b[0m_check_targets\u001b[0m\u001b[0;34m(\u001b[0m\u001b[0my_true\u001b[0m\u001b[0;34m,\u001b[0m \u001b[0my_pred\u001b[0m\u001b[0;34m)\u001b[0m\u001b[0;34m\u001b[0m\u001b[0;34m\u001b[0m\u001b[0m\n\u001b[0m\u001b[1;32m    269\u001b[0m     \u001b[0;32mif\u001b[0m \u001b[0my_type\u001b[0m \u001b[0;32mnot\u001b[0m \u001b[0;32min\u001b[0m \u001b[0;34m(\u001b[0m\u001b[0;34m\"binary\"\u001b[0m\u001b[0;34m,\u001b[0m \u001b[0;34m\"multiclass\"\u001b[0m\u001b[0;34m)\u001b[0m\u001b[0;34m:\u001b[0m\u001b[0;34m\u001b[0m\u001b[0;34m\u001b[0m\u001b[0m\n\u001b[1;32m    270\u001b[0m         \u001b[0;32mraise\u001b[0m \u001b[0mValueError\u001b[0m\u001b[0;34m(\u001b[0m\u001b[0;34m\"%s is not supported\"\u001b[0m \u001b[0;34m%\u001b[0m \u001b[0my_type\u001b[0m\u001b[0;34m)\u001b[0m\u001b[0;34m\u001b[0m\u001b[0;34m\u001b[0m\u001b[0m\n",
            "\u001b[0;32m/usr/local/lib/python3.7/dist-packages/sklearn/metrics/_classification.py\u001b[0m in \u001b[0;36m_check_targets\u001b[0;34m(y_true, y_pred)\u001b[0m\n\u001b[1;32m     95\u001b[0m     \u001b[0;31m# No metrics support \"multiclass-multioutput\" format\u001b[0m\u001b[0;34m\u001b[0m\u001b[0;34m\u001b[0m\u001b[0;34m\u001b[0m\u001b[0m\n\u001b[1;32m     96\u001b[0m     \u001b[0;32mif\u001b[0m \u001b[0;34m(\u001b[0m\u001b[0my_type\u001b[0m \u001b[0;32mnot\u001b[0m \u001b[0;32min\u001b[0m \u001b[0;34m[\u001b[0m\u001b[0;34m\"binary\"\u001b[0m\u001b[0;34m,\u001b[0m \u001b[0;34m\"multiclass\"\u001b[0m\u001b[0;34m,\u001b[0m \u001b[0;34m\"multilabel-indicator\"\u001b[0m\u001b[0;34m]\u001b[0m\u001b[0;34m)\u001b[0m\u001b[0;34m:\u001b[0m\u001b[0;34m\u001b[0m\u001b[0;34m\u001b[0m\u001b[0m\n\u001b[0;32m---> 97\u001b[0;31m         \u001b[0;32mraise\u001b[0m \u001b[0mValueError\u001b[0m\u001b[0;34m(\u001b[0m\u001b[0;34m\"{0} is not supported\"\u001b[0m\u001b[0;34m.\u001b[0m\u001b[0mformat\u001b[0m\u001b[0;34m(\u001b[0m\u001b[0my_type\u001b[0m\u001b[0;34m)\u001b[0m\u001b[0;34m)\u001b[0m\u001b[0;34m\u001b[0m\u001b[0;34m\u001b[0m\u001b[0m\n\u001b[0m\u001b[1;32m     98\u001b[0m \u001b[0;34m\u001b[0m\u001b[0m\n\u001b[1;32m     99\u001b[0m     \u001b[0;32mif\u001b[0m \u001b[0my_type\u001b[0m \u001b[0;32min\u001b[0m \u001b[0;34m[\u001b[0m\u001b[0;34m\"binary\"\u001b[0m\u001b[0;34m,\u001b[0m \u001b[0;34m\"multiclass\"\u001b[0m\u001b[0;34m]\u001b[0m\u001b[0;34m:\u001b[0m\u001b[0;34m\u001b[0m\u001b[0;34m\u001b[0m\u001b[0m\n",
            "\u001b[0;31mValueError\u001b[0m: multiclass-multioutput is not supported"
          ]
        }
      ]
    },
    {
      "cell_type": "markdown",
      "metadata": {
        "id": "vTbdjSrhVIiT"
      },
      "source": [
        "## Implementing the Solution\n",
        "\n",
        "1. A big percentage of households had different job occupations other than government dependent and government formal employments\n",
        "\n",
        "2. A big percentage of the surveyed households have acquired education less than tertiary education level\n",
        "\n",
        " These accounts for high number of households without bank accounts.\n",
        " Maybe big percentage of the informally employed households have not opened bank accoun"
      ]
    },
    {
      "cell_type": "markdown",
      "metadata": {
        "id": "JKlU5wS9drnn"
      },
      "source": [
        ""
      ]
    },
    {
      "cell_type": "markdown",
      "metadata": {
        "id": "lQ2G4ZPDVOXE"
      },
      "source": [
        "##  Challenging the solution"
      ]
    },
    {
      "cell_type": "markdown",
      "metadata": {
        "id": "jWVGKGuiYMWg"
      },
      "source": [
        "Knowing exactly occupation and education level of housseholds with bank accounts will be more insightful.\n",
        "\n",
        "Other factors such as households' income are important\n",
        "\n",
        "\n",
        "\n",
        "\n"
      ]
    },
    {
      "cell_type": "markdown",
      "metadata": {
        "id": "xrmHVMVsVS--"
      },
      "source": [
        "## Follow up questions"
      ]
    },
    {
      "cell_type": "markdown",
      "metadata": {
        "id": "pth2qSWhuBIy"
      },
      "source": [
        "The research question was right. The data for this research had insufficient information. More information is required to trickle down the research question\n",
        "\n"
      ]
    }
  ]
}